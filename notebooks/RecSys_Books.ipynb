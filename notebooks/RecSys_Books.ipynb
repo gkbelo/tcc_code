{
 "cells": [
  {
   "cell_type": "markdown",
   "metadata": {
    "colab_type": "text",
    "id": "czFBqPc5HwET"
   },
   "source": [
    "# Recomendação em Python\n",
    "---\n",
    "Um [Sistema de Recomendação](https://pt.wikipedia.org/wiki/Sistema_de_recomenda%C3%A7%C3%A3o) (ou **RecSys**, do acrônimo em inglês para *Recommendation System*) sugere itens relevantes a usuários baseado em suas preferências, sejam elas implícitas (inferidas a partir de suas interações em itens) ou explícitas (relevância expressamente informada por ele). As principais abordagens de recomendação reportadas na literatura são:\n",
    "\n",
    "*   Baseada em Popularidade: recomenda aos usuários os itens mais populares dentre os que ele não conhece. Não personaliza a recomendação e se baseia na \"sabedoria coletiva\" (*[wisdom of the crowds](https://en.wikipedia.org/wiki/The_Wisdom_of_Crowds)*).\n",
    "*   [Filtragem Colaborativa (Collaborative Filtering)](https://pt.wikipedia.org/wiki/Filtragem_colaborativa): realiza predições sobre o interesse de usuários a itens para filtrar os itens de maior interesse (filtragem) a partir do histórico completo de preferências de todos os usuários (colaborativa). Assume que a probabilidade de  usuários terem o mesmo interesse sobre itens é maior se esses usuários já tiveram interesses semelhantes por outros itens.\n",
    "*   [Baseada em Conteúdo (Content-Based)](https://pt.wikipedia.org/wiki/Filtragem_baseada_em_conte%C3%BAdo): realiza predições a partir da similaridade entre os descritores de itens e de usuários. Recomenda items similares aos itens que o usuário já se interessou ou interessa. \n",
    "*   [Híbrida](https://en.wikipedia.org/wiki/Recommender_system#Hybrid_recommender_systems): combinação das outras abordagens de recomendação com objetivo de minimizar problemas relacionados à esparsidade e [cold-start](https://en.wikipedia.org/wiki/Cold_start).\n",
    "\n",
    "Aqui apresento implementações em [Python](https://www.python.org/) das principais abordagens de recomendação supra citadas, avaliando-as a partir de métodos e métricas de avaliação amplamente difundidos na literatura técnico-científica. Primeiramente, vamos carregar algumas bibliotecas necessárias para a implementação das abordagens:\n"
   ]
  },
  {
   "cell_type": "code",
   "execution_count": 1,
   "metadata": {
    "colab": {
     "autoexec": {
      "startup": false,
      "wait_interval": 0
     },
     "base_uri": "https://localhost:8080/",
     "height": 51
    },
    "colab_type": "code",
    "executionInfo": {
     "elapsed": 881,
     "status": "ok",
     "timestamp": 1528912093340,
     "user": {
      "displayName": "Wladmir Cardoso Brandão",
      "photoUrl": "//lh5.googleusercontent.com/-SGSelMTRK_4/AAAAAAAAAAI/AAAAAAABeK0/PmbiLSnzkAE/s50-c-k-no/photo.jpg",
      "userId": "103335929661169749259"
     },
     "user_tz": 180
    },
    "id": "ZYS3p-h-PJjQ",
    "outputId": "dc0bcd47-262d-41ef-dc9f-030779bb762c"
   },
   "outputs": [
    {
     "name": "stdout",
     "output_type": "stream",
     "text": [
      "[nltk_data] Downloading package stopwords to\n",
      "[nltk_data]     C:\\Users\\fmart\\AppData\\Roaming\\nltk_data...\n",
      "[nltk_data]   Package stopwords is already up-to-date!\n"
     ]
    }
   ],
   "source": [
    "import numpy as np\n",
    "import scipy\n",
    "import pandas as pd\n",
    "import math\n",
    "import random\n",
    "import sklearn\n",
    "import nltk\n",
    "\n",
    "nltk.download('stopwords')\n",
    "\n",
    "from nltk.corpus import stopwords\n",
    "from sklearn.model_selection import train_test_split\n",
    "from sklearn.feature_extraction.text import TfidfVectorizer\n",
    "from sklearn.metrics.pairwise import cosine_similarity\n",
    "from sklearn.metrics.pairwise import pairwise_distances\n",
    "from sklearn.metrics.pairwise import *\n",
    "from sklearn.metrics import mean_squared_error\n",
    "from math import sqrt\n",
    "from scipy.sparse.linalg import svds\n",
    "import matplotlib.pyplot as plt\n",
    "import seaborn as sns"
   ]
  },
  {
   "cell_type": "markdown",
   "metadata": {
    "colab_type": "text",
    "id": "8Xw8Pbo-ABeC"
   },
   "source": [
    "## Base de Dados\n",
    "\n",
    "---\n",
    "\n",
    "Precisamos definir o contexto da recomendação, bem como estabelecer uma base de dados para experimentação. Aqui utilizaremos o contexto de recomendação de livros e os dados de interação de usuários na plataforma Book Crossing. O dataset foi obtido a partir do site http://www2.informatik.uni-freiburg.de/~cziegler/BX/. Esta base é composta por três arquivos carregados a seguir. Como esta base não fornece uma descrição dos filmes, foi combinada uma segunda base de dados chamada Good Books Dataset, disponibilizada pela plataforma Kagle (https://www.kaggle.com/zygmunt/goodbooks-10k). Esta base possui uma descrição de palavras-chave relacionadas aos filmes. Foi necessário combinar as bases por ISBN, já que os livros não são correspondentes em 100% dos casos."
   ]
  },
  {
   "cell_type": "markdown",
   "metadata": {
    "colab_type": "text",
    "id": "c_dwvGze9Qw8"
   },
   "source": [
    "### Carregamento da Base de Dados\n",
    "---\n",
    "A base contém dados de agosto a setembro de 2004, coletados a partir de um crawler desenvolvido por Cai-Nicolas Ziegler. Possui 278.858 usuários, fornecendo 1.149.780 avaliações de cerca de 271.379 livros. A base de dados é composta por três inicialmente por três arquivos CSV carregados a seguir."
   ]
  },
  {
   "cell_type": "markdown",
   "metadata": {
    "colab_type": "text",
    "id": "uR2tk28d9ykf"
   },
   "source": [
    "### Books.csv\n",
    "\n",
    "Base de dados de livros do Book Crossing. Ela contém os atributos ISBN, título do livro, autor do livro, ano de publicação, editora e algumas imagens relacionadas. Foi selecionada uma amostra contendo os 10.000 primeiros livros desta base e adicionado um atributo (BookID) como índice da tabela."
   ]
  },
  {
   "cell_type": "code",
   "execution_count": 2,
   "metadata": {
    "colab": {
     "autoexec": {
      "startup": false,
      "wait_interval": 0
     },
     "base_uri": "https://localhost:8080/",
     "height": 34
    },
    "colab_type": "code",
    "executionInfo": {
     "elapsed": 959,
     "status": "ok",
     "timestamp": 1528912135280,
     "user": {
      "displayName": "Wladmir Cardoso Brandão",
      "photoUrl": "//lh5.googleusercontent.com/-SGSelMTRK_4/AAAAAAAAAAI/AAAAAAABeK0/PmbiLSnzkAE/s50-c-k-no/photo.jpg",
      "userId": "103335929661169749259"
     },
     "user_tz": 180
    },
    "id": "-ft7e4TFVZGs",
    "outputId": "096b3489-f3e6-4645-cd19-0452e17f761f"
   },
   "outputs": [
    {
     "data": {
      "text/html": [
       "<div>\n",
       "<style scoped>\n",
       "    .dataframe tbody tr th:only-of-type {\n",
       "        vertical-align: middle;\n",
       "    }\n",
       "\n",
       "    .dataframe tbody tr th {\n",
       "        vertical-align: top;\n",
       "    }\n",
       "\n",
       "    .dataframe thead th {\n",
       "        text-align: right;\n",
       "    }\n",
       "</style>\n",
       "<table border=\"1\" class=\"dataframe\">\n",
       "  <thead>\n",
       "    <tr style=\"text-align: right;\">\n",
       "      <th></th>\n",
       "      <th>BookID</th>\n",
       "      <th>ISBN</th>\n",
       "      <th>BookTitle</th>\n",
       "      <th>BookAuthor</th>\n",
       "      <th>yearOfPublication</th>\n",
       "      <th>publisher</th>\n",
       "      <th>imageUrlS</th>\n",
       "      <th>imageUrlM</th>\n",
       "      <th>imageUrlL</th>\n",
       "    </tr>\n",
       "  </thead>\n",
       "  <tbody>\n",
       "    <tr>\n",
       "      <th>0</th>\n",
       "      <td>1</td>\n",
       "      <td>195153448</td>\n",
       "      <td>Classical Mythology</td>\n",
       "      <td>Mark P. O. Morford</td>\n",
       "      <td>2002</td>\n",
       "      <td>Oxford University Press</td>\n",
       "      <td>http://images.amazon.com/images/P/0195153448.0...</td>\n",
       "      <td>http://images.amazon.com/images/P/0195153448.0...</td>\n",
       "      <td>http://images.amazon.com/images/P/0195153448.0...</td>\n",
       "    </tr>\n",
       "    <tr>\n",
       "      <th>1</th>\n",
       "      <td>2</td>\n",
       "      <td>2005018</td>\n",
       "      <td>Clara Callan</td>\n",
       "      <td>Richard Bruce Wright</td>\n",
       "      <td>2001</td>\n",
       "      <td>HarperFlamingo Canada</td>\n",
       "      <td>http://images.amazon.com/images/P/0002005018.0...</td>\n",
       "      <td>http://images.amazon.com/images/P/0002005018.0...</td>\n",
       "      <td>http://images.amazon.com/images/P/0002005018.0...</td>\n",
       "    </tr>\n",
       "    <tr>\n",
       "      <th>2</th>\n",
       "      <td>3</td>\n",
       "      <td>60973129</td>\n",
       "      <td>Decision in Normandy</td>\n",
       "      <td>Carlo D'Este</td>\n",
       "      <td>1991</td>\n",
       "      <td>HarperPerennial</td>\n",
       "      <td>http://images.amazon.com/images/P/0060973129.0...</td>\n",
       "      <td>http://images.amazon.com/images/P/0060973129.0...</td>\n",
       "      <td>http://images.amazon.com/images/P/0060973129.0...</td>\n",
       "    </tr>\n",
       "    <tr>\n",
       "      <th>3</th>\n",
       "      <td>4</td>\n",
       "      <td>374157065</td>\n",
       "      <td>Flu: The Story of the Great Influenza Pandemic...</td>\n",
       "      <td>Gina Bari Kolata</td>\n",
       "      <td>1999</td>\n",
       "      <td>Farrar Straus Giroux</td>\n",
       "      <td>http://images.amazon.com/images/P/0374157065.0...</td>\n",
       "      <td>http://images.amazon.com/images/P/0374157065.0...</td>\n",
       "      <td>http://images.amazon.com/images/P/0374157065.0...</td>\n",
       "    </tr>\n",
       "    <tr>\n",
       "      <th>4</th>\n",
       "      <td>5</td>\n",
       "      <td>393045218</td>\n",
       "      <td>The Mummies of Urumchi</td>\n",
       "      <td>E. J. W. Barber</td>\n",
       "      <td>1999</td>\n",
       "      <td>W. W. Norton &amp;amp; Company</td>\n",
       "      <td>http://images.amazon.com/images/P/0393045218.0...</td>\n",
       "      <td>http://images.amazon.com/images/P/0393045218.0...</td>\n",
       "      <td>http://images.amazon.com/images/P/0393045218.0...</td>\n",
       "    </tr>\n",
       "    <tr>\n",
       "      <th>5</th>\n",
       "      <td>6</td>\n",
       "      <td>399135782</td>\n",
       "      <td>The Kitchen God's Wife</td>\n",
       "      <td>Amy Tan</td>\n",
       "      <td>1991</td>\n",
       "      <td>Putnam Pub Group</td>\n",
       "      <td>http://images.amazon.com/images/P/0399135782.0...</td>\n",
       "      <td>http://images.amazon.com/images/P/0399135782.0...</td>\n",
       "      <td>http://images.amazon.com/images/P/0399135782.0...</td>\n",
       "    </tr>\n",
       "    <tr>\n",
       "      <th>6</th>\n",
       "      <td>7</td>\n",
       "      <td>425176428</td>\n",
       "      <td>What If?: The World's Foremost Military Histor...</td>\n",
       "      <td>Robert Cowley</td>\n",
       "      <td>2000</td>\n",
       "      <td>Berkley Publishing Group</td>\n",
       "      <td>http://images.amazon.com/images/P/0425176428.0...</td>\n",
       "      <td>http://images.amazon.com/images/P/0425176428.0...</td>\n",
       "      <td>http://images.amazon.com/images/P/0425176428.0...</td>\n",
       "    </tr>\n",
       "    <tr>\n",
       "      <th>7</th>\n",
       "      <td>8</td>\n",
       "      <td>671870432</td>\n",
       "      <td>PLEADING GUILTY</td>\n",
       "      <td>Scott Turow</td>\n",
       "      <td>1993</td>\n",
       "      <td>Audioworks</td>\n",
       "      <td>http://images.amazon.com/images/P/0671870432.0...</td>\n",
       "      <td>http://images.amazon.com/images/P/0671870432.0...</td>\n",
       "      <td>http://images.amazon.com/images/P/0671870432.0...</td>\n",
       "    </tr>\n",
       "    <tr>\n",
       "      <th>8</th>\n",
       "      <td>9</td>\n",
       "      <td>679425608</td>\n",
       "      <td>Under the Black Flag: The Romance and the Real...</td>\n",
       "      <td>David Cordingly</td>\n",
       "      <td>1996</td>\n",
       "      <td>Random House</td>\n",
       "      <td>http://images.amazon.com/images/P/0679425608.0...</td>\n",
       "      <td>http://images.amazon.com/images/P/0679425608.0...</td>\n",
       "      <td>http://images.amazon.com/images/P/0679425608.0...</td>\n",
       "    </tr>\n",
       "    <tr>\n",
       "      <th>9</th>\n",
       "      <td>10</td>\n",
       "      <td>074322678X</td>\n",
       "      <td>Where You'll Find Me: And Other Stories</td>\n",
       "      <td>Ann Beattie</td>\n",
       "      <td>2002</td>\n",
       "      <td>Scribner</td>\n",
       "      <td>http://images.amazon.com/images/P/074322678X.0...</td>\n",
       "      <td>http://images.amazon.com/images/P/074322678X.0...</td>\n",
       "      <td>http://images.amazon.com/images/P/074322678X.0...</td>\n",
       "    </tr>\n",
       "  </tbody>\n",
       "</table>\n",
       "</div>"
      ],
      "text/plain": [
       "   BookID        ISBN                                          BookTitle  \\\n",
       "0       1   195153448                                Classical Mythology   \n",
       "1       2     2005018                                       Clara Callan   \n",
       "2       3    60973129                               Decision in Normandy   \n",
       "3       4   374157065  Flu: The Story of the Great Influenza Pandemic...   \n",
       "4       5   393045218                             The Mummies of Urumchi   \n",
       "5       6   399135782                             The Kitchen God's Wife   \n",
       "6       7   425176428  What If?: The World's Foremost Military Histor...   \n",
       "7       8   671870432                                    PLEADING GUILTY   \n",
       "8       9   679425608  Under the Black Flag: The Romance and the Real...   \n",
       "9      10  074322678X            Where You'll Find Me: And Other Stories   \n",
       "\n",
       "             BookAuthor yearOfPublication                   publisher  \\\n",
       "0    Mark P. O. Morford              2002     Oxford University Press   \n",
       "1  Richard Bruce Wright              2001       HarperFlamingo Canada   \n",
       "2          Carlo D'Este              1991             HarperPerennial   \n",
       "3      Gina Bari Kolata              1999        Farrar Straus Giroux   \n",
       "4       E. J. W. Barber              1999  W. W. Norton &amp; Company   \n",
       "5               Amy Tan              1991            Putnam Pub Group   \n",
       "6         Robert Cowley              2000    Berkley Publishing Group   \n",
       "7           Scott Turow              1993                  Audioworks   \n",
       "8       David Cordingly              1996                Random House   \n",
       "9           Ann Beattie              2002                    Scribner   \n",
       "\n",
       "                                           imageUrlS  \\\n",
       "0  http://images.amazon.com/images/P/0195153448.0...   \n",
       "1  http://images.amazon.com/images/P/0002005018.0...   \n",
       "2  http://images.amazon.com/images/P/0060973129.0...   \n",
       "3  http://images.amazon.com/images/P/0374157065.0...   \n",
       "4  http://images.amazon.com/images/P/0393045218.0...   \n",
       "5  http://images.amazon.com/images/P/0399135782.0...   \n",
       "6  http://images.amazon.com/images/P/0425176428.0...   \n",
       "7  http://images.amazon.com/images/P/0671870432.0...   \n",
       "8  http://images.amazon.com/images/P/0679425608.0...   \n",
       "9  http://images.amazon.com/images/P/074322678X.0...   \n",
       "\n",
       "                                           imageUrlM  \\\n",
       "0  http://images.amazon.com/images/P/0195153448.0...   \n",
       "1  http://images.amazon.com/images/P/0002005018.0...   \n",
       "2  http://images.amazon.com/images/P/0060973129.0...   \n",
       "3  http://images.amazon.com/images/P/0374157065.0...   \n",
       "4  http://images.amazon.com/images/P/0393045218.0...   \n",
       "5  http://images.amazon.com/images/P/0399135782.0...   \n",
       "6  http://images.amazon.com/images/P/0425176428.0...   \n",
       "7  http://images.amazon.com/images/P/0671870432.0...   \n",
       "8  http://images.amazon.com/images/P/0679425608.0...   \n",
       "9  http://images.amazon.com/images/P/074322678X.0...   \n",
       "\n",
       "                                           imageUrlL  \n",
       "0  http://images.amazon.com/images/P/0195153448.0...  \n",
       "1  http://images.amazon.com/images/P/0002005018.0...  \n",
       "2  http://images.amazon.com/images/P/0060973129.0...  \n",
       "3  http://images.amazon.com/images/P/0374157065.0...  \n",
       "4  http://images.amazon.com/images/P/0393045218.0...  \n",
       "5  http://images.amazon.com/images/P/0399135782.0...  \n",
       "6  http://images.amazon.com/images/P/0425176428.0...  \n",
       "7  http://images.amazon.com/images/P/0671870432.0...  \n",
       "8  http://images.amazon.com/images/P/0679425608.0...  \n",
       "9  http://images.amazon.com/images/P/074322678X.0...  "
      ]
     },
     "execution_count": 2,
     "metadata": {},
     "output_type": "execute_result"
    }
   ],
   "source": [
    "#Carregamento da base de dados de livros - BookID foi adicionado ao arquivo original\n",
    "items = pd.read_csv('BX-Books.csv', sep=';', error_bad_lines=False, encoding=\"latin-1\")\n",
    "items.columns = ['BookID','ISBN', 'BookTitle', 'BookAuthor', 'yearOfPublication', 'publisher', 'imageUrlS', 'imageUrlM', 'imageUrlL']\n",
    "items.head(10)"
   ]
  },
  {
   "cell_type": "markdown",
   "metadata": {
    "colab_type": "text",
    "id": "I_y22t1mVbJ6"
   },
   "source": [
    "### BX-Book-Ratings.csv\n",
    "\n",
    "Contém os registros da interação dos usuários com os livros com os campos UserID, ISBN e BookRating. Foi gerada uma nova versão deste arquivo que contém o BookID e   apenas as avalições de livros que estão definidos no arquivo de livros. Além disso, foi excluído o atributo ISBN pois não havia mais necessidade dele para o propósito deste trabalho. As avaliações variam de 0 a 10. No entanto, as classificações são muito desigualmente distribuídas e a grande maioria das delas é igual a 0. Veja no gráfico.\n"
   ]
  },
  {
   "cell_type": "code",
   "execution_count": 3,
   "metadata": {
    "colab": {
     "autoexec": {
      "startup": false,
      "wait_interval": 0
     },
     "base_uri": "https://localhost:8080/",
     "height": 34
    },
    "colab_type": "code",
    "executionInfo": {
     "elapsed": 662,
     "status": "ok",
     "timestamp": 1528912145182,
     "user": {
      "displayName": "Wladmir Cardoso Brandão",
      "photoUrl": "//lh5.googleusercontent.com/-SGSelMTRK_4/AAAAAAAAAAI/AAAAAAABeK0/PmbiLSnzkAE/s50-c-k-no/photo.jpg",
      "userId": "103335929661169749259"
     },
     "user_tz": 180
    },
    "id": "C4xCLKlBaOuc",
    "outputId": "f6c0fc47-326c-42a9-fac0-f12d33bfa60e"
   },
   "outputs": [
    {
     "name": "stdout",
     "output_type": "stream",
     "text": [
      "Ratings:  36887\n",
      "# Usuários: 15143\n"
     ]
    },
    {
     "data": {
      "text/html": [
       "<div>\n",
       "<style scoped>\n",
       "    .dataframe tbody tr th:only-of-type {\n",
       "        vertical-align: middle;\n",
       "    }\n",
       "\n",
       "    .dataframe tbody tr th {\n",
       "        vertical-align: top;\n",
       "    }\n",
       "\n",
       "    .dataframe thead th {\n",
       "        text-align: right;\n",
       "    }\n",
       "</style>\n",
       "<table border=\"1\" class=\"dataframe\">\n",
       "  <thead>\n",
       "    <tr style=\"text-align: right;\">\n",
       "      <th></th>\n",
       "      <th>UserID</th>\n",
       "      <th>BookID</th>\n",
       "      <th>BookRating</th>\n",
       "    </tr>\n",
       "  </thead>\n",
       "  <tbody>\n",
       "    <tr>\n",
       "      <th>0</th>\n",
       "      <td>8</td>\n",
       "      <td>10</td>\n",
       "      <td>5</td>\n",
       "    </tr>\n",
       "    <tr>\n",
       "      <th>1</th>\n",
       "      <td>8</td>\n",
       "      <td>12</td>\n",
       "      <td>0</td>\n",
       "    </tr>\n",
       "    <tr>\n",
       "      <th>2</th>\n",
       "      <td>8</td>\n",
       "      <td>14</td>\n",
       "      <td>5</td>\n",
       "    </tr>\n",
       "    <tr>\n",
       "      <th>3</th>\n",
       "      <td>8</td>\n",
       "      <td>15</td>\n",
       "      <td>0</td>\n",
       "    </tr>\n",
       "    <tr>\n",
       "      <th>4</th>\n",
       "      <td>8</td>\n",
       "      <td>16</td>\n",
       "      <td>6</td>\n",
       "    </tr>\n",
       "    <tr>\n",
       "      <th>5</th>\n",
       "      <td>8</td>\n",
       "      <td>17</td>\n",
       "      <td>6</td>\n",
       "    </tr>\n",
       "    <tr>\n",
       "      <th>6</th>\n",
       "      <td>8</td>\n",
       "      <td>18</td>\n",
       "      <td>7</td>\n",
       "    </tr>\n",
       "    <tr>\n",
       "      <th>7</th>\n",
       "      <td>12</td>\n",
       "      <td>23</td>\n",
       "      <td>10</td>\n",
       "    </tr>\n",
       "    <tr>\n",
       "      <th>8</th>\n",
       "      <td>22</td>\n",
       "      <td>33</td>\n",
       "      <td>7</td>\n",
       "    </tr>\n",
       "    <tr>\n",
       "      <th>9</th>\n",
       "      <td>22</td>\n",
       "      <td>34</td>\n",
       "      <td>0</td>\n",
       "    </tr>\n",
       "  </tbody>\n",
       "</table>\n",
       "</div>"
      ],
      "text/plain": [
       "   UserID  BookID  BookRating\n",
       "0       8      10           5\n",
       "1       8      12           0\n",
       "2       8      14           5\n",
       "3       8      15           0\n",
       "4       8      16           6\n",
       "5       8      17           6\n",
       "6       8      18           7\n",
       "7      12      23          10\n",
       "8      22      33           7\n",
       "9      22      34           0"
      ]
     },
     "execution_count": 3,
     "metadata": {},
     "output_type": "execute_result"
    }
   ],
   "source": [
    "#Carregamento da base de dados de avaliações\n",
    "ratings = pd.read_csv('BX-Book-Ratings.csv', sep=';', error_bad_lines=False, encoding=\"latin-1\")\n",
    "ratings.columns = ['UserID', 'BookID', 'BookRating']\n",
    "print('Ratings: ',len(ratings))\n",
    "print ('# Usuários: %d' % ratings.UserID.unique().shape[0])\n",
    "ratings.head(10)"
   ]
  },
  {
   "cell_type": "code",
   "execution_count": 4,
   "metadata": {
    "colab": {
     "autoexec": {
      "startup": false,
      "wait_interval": 0
     },
     "base_uri": "https://localhost:8080/",
     "height": 204
    },
    "colab_type": "code",
    "executionInfo": {
     "elapsed": 922,
     "status": "ok",
     "timestamp": 1528912149028,
     "user": {
      "displayName": "Wladmir Cardoso Brandão",
      "photoUrl": "//lh5.googleusercontent.com/-SGSelMTRK_4/AAAAAAAAAAI/AAAAAAABeK0/PmbiLSnzkAE/s50-c-k-no/photo.jpg",
      "userId": "103335929661169749259"
     },
     "user_tz": 180
    },
    "id": "ueLkaxOLuor6",
    "outputId": "d52f6890-0942-4a72-8e07-0c19d9bb2b56"
   },
   "outputs": [
    {
     "data": {
      "text/html": [
       "<div>\n",
       "<style scoped>\n",
       "    .dataframe tbody tr th:only-of-type {\n",
       "        vertical-align: middle;\n",
       "    }\n",
       "\n",
       "    .dataframe tbody tr th {\n",
       "        vertical-align: top;\n",
       "    }\n",
       "\n",
       "    .dataframe thead th {\n",
       "        text-align: right;\n",
       "    }\n",
       "</style>\n",
       "<table border=\"1\" class=\"dataframe\">\n",
       "  <thead>\n",
       "    <tr style=\"text-align: right;\">\n",
       "      <th></th>\n",
       "      <th>UserID</th>\n",
       "      <th>BookID</th>\n",
       "      <th>BookRating</th>\n",
       "    </tr>\n",
       "  </thead>\n",
       "  <tbody>\n",
       "    <tr>\n",
       "      <th>0</th>\n",
       "      <td>8</td>\n",
       "      <td>10</td>\n",
       "      <td>5</td>\n",
       "    </tr>\n",
       "    <tr>\n",
       "      <th>1</th>\n",
       "      <td>8</td>\n",
       "      <td>12</td>\n",
       "      <td>0</td>\n",
       "    </tr>\n",
       "    <tr>\n",
       "      <th>2</th>\n",
       "      <td>8</td>\n",
       "      <td>14</td>\n",
       "      <td>5</td>\n",
       "    </tr>\n",
       "    <tr>\n",
       "      <th>3</th>\n",
       "      <td>8</td>\n",
       "      <td>15</td>\n",
       "      <td>0</td>\n",
       "    </tr>\n",
       "    <tr>\n",
       "      <th>4</th>\n",
       "      <td>8</td>\n",
       "      <td>16</td>\n",
       "      <td>6</td>\n",
       "    </tr>\n",
       "    <tr>\n",
       "      <th>5</th>\n",
       "      <td>8</td>\n",
       "      <td>17</td>\n",
       "      <td>6</td>\n",
       "    </tr>\n",
       "    <tr>\n",
       "      <th>6</th>\n",
       "      <td>8</td>\n",
       "      <td>18</td>\n",
       "      <td>7</td>\n",
       "    </tr>\n",
       "    <tr>\n",
       "      <th>7</th>\n",
       "      <td>12</td>\n",
       "      <td>23</td>\n",
       "      <td>10</td>\n",
       "    </tr>\n",
       "    <tr>\n",
       "      <th>8</th>\n",
       "      <td>22</td>\n",
       "      <td>33</td>\n",
       "      <td>7</td>\n",
       "    </tr>\n",
       "    <tr>\n",
       "      <th>9</th>\n",
       "      <td>22</td>\n",
       "      <td>34</td>\n",
       "      <td>0</td>\n",
       "    </tr>\n",
       "  </tbody>\n",
       "</table>\n",
       "</div>"
      ],
      "text/plain": [
       "   UserID  BookID  BookRating\n",
       "0       8      10           5\n",
       "1       8      12           0\n",
       "2       8      14           5\n",
       "3       8      15           0\n",
       "4       8      16           6\n",
       "5       8      17           6\n",
       "6       8      18           7\n",
       "7      12      23          10\n",
       "8      22      33           7\n",
       "9      22      34           0"
      ]
     },
     "execution_count": 4,
     "metadata": {},
     "output_type": "execute_result"
    }
   ],
   "source": [
    "#Ordenação das avaliações por usuário e id do livro\n",
    "ratings.sort_values(by=['UserID', 'BookID']).head(10)"
   ]
  },
  {
   "cell_type": "code",
   "execution_count": 5,
   "metadata": {},
   "outputs": [
    {
     "data": {
      "image/png": "[encoded data removed]",
      "text/plain": [
       "<matplotlib.figure.Figure at 0x201cd171208>"
      ]
     },
     "metadata": {},
     "output_type": "display_data"
    }
   ],
   "source": [
    "#Distribuição dos ratings. Veja que a maioria dos ratings são iguais a 0.\n",
    "plt.rc(\"font\", size=15)\n",
    "ratings['BookRating'].value_counts(sort=False).plot(kind='bar')\n",
    "plt.title('Distribuição de ratings\\n')\n",
    "plt.xlabel('Rating')\n",
    "plt.ylabel('Avaliações')\n",
    "plt.savefig('system1.png', bbox_inches='tight')\n",
    "plt.show()"
   ]
  },
  {
   "cell_type": "markdown",
   "metadata": {},
   "source": [
    "### BX-Users.csv\n",
    "Base de dados de usuários. Contém 278.858 usuários com os atributos UserID, Location e Age.\n"
   ]
  },
  {
   "cell_type": "code",
   "execution_count": 6,
   "metadata": {},
   "outputs": [
    {
     "name": "stdout",
     "output_type": "stream",
     "text": [
      "Total de usuários:  278858\n"
     ]
    },
    {
     "data": {
      "text/html": [
       "<div>\n",
       "<style scoped>\n",
       "    .dataframe tbody tr th:only-of-type {\n",
       "        vertical-align: middle;\n",
       "    }\n",
       "\n",
       "    .dataframe tbody tr th {\n",
       "        vertical-align: top;\n",
       "    }\n",
       "\n",
       "    .dataframe thead th {\n",
       "        text-align: right;\n",
       "    }\n",
       "</style>\n",
       "<table border=\"1\" class=\"dataframe\">\n",
       "  <thead>\n",
       "    <tr style=\"text-align: right;\">\n",
       "      <th></th>\n",
       "      <th>UserID</th>\n",
       "      <th>Location</th>\n",
       "      <th>Age</th>\n",
       "    </tr>\n",
       "  </thead>\n",
       "  <tbody>\n",
       "    <tr>\n",
       "      <th>0</th>\n",
       "      <td>1</td>\n",
       "      <td>nyc, new york, usa</td>\n",
       "      <td>NaN</td>\n",
       "    </tr>\n",
       "    <tr>\n",
       "      <th>1</th>\n",
       "      <td>2</td>\n",
       "      <td>stockton, california, usa</td>\n",
       "      <td>18.0</td>\n",
       "    </tr>\n",
       "    <tr>\n",
       "      <th>2</th>\n",
       "      <td>3</td>\n",
       "      <td>moscow, yukon territory, russia</td>\n",
       "      <td>NaN</td>\n",
       "    </tr>\n",
       "    <tr>\n",
       "      <th>3</th>\n",
       "      <td>4</td>\n",
       "      <td>porto, v.n.gaia, portugal</td>\n",
       "      <td>17.0</td>\n",
       "    </tr>\n",
       "    <tr>\n",
       "      <th>4</th>\n",
       "      <td>5</td>\n",
       "      <td>farnborough, hants, united kingdom</td>\n",
       "      <td>NaN</td>\n",
       "    </tr>\n",
       "  </tbody>\n",
       "</table>\n",
       "</div>"
      ],
      "text/plain": [
       "   UserID                            Location   Age\n",
       "0       1                  nyc, new york, usa   NaN\n",
       "1       2           stockton, california, usa  18.0\n",
       "2       3     moscow, yukon territory, russia   NaN\n",
       "3       4           porto, v.n.gaia, portugal  17.0\n",
       "4       5  farnborough, hants, united kingdom   NaN"
      ]
     },
     "execution_count": 6,
     "metadata": {},
     "output_type": "execute_result"
    }
   ],
   "source": [
    "#Vamos carregar a base de dados de usuários\n",
    "users = pd.read_csv('BX-Users.csv', sep=';', encoding=\"latin-1\")\n",
    "users.columns = ['UserID', 'Location', 'Age']\n",
    "print('Total de usuários: ', len(users))\n",
    "users.head(5)"
   ]
  },
  {
   "cell_type": "code",
   "execution_count": 7,
   "metadata": {},
   "outputs": [
    {
     "data": {
      "image/png": "[encoded data removed]",
      "text/plain": [
       "<matplotlib.figure.Figure at 0x201cd1f3a90>"
      ]
     },
     "metadata": {},
     "output_type": "display_data"
    }
   ],
   "source": [
    "#Gráfico de distribuição de idades. Os mais ativos estão entre 20 e 30 anos\n",
    "users.Age.hist(bins=[0,20,40,60,80,100,120])\n",
    "plt.title('Distribuição de idades\\n')\n",
    "plt.xlabel('Idade')\n",
    "plt.ylabel('Usuários')\n",
    "plt.savefig('system2.png', bbox_inches='tight')\n",
    "plt.show()"
   ]
  },
  {
   "cell_type": "markdown",
   "metadata": {},
   "source": [
    "Um novo arquivo de usuários foi gerado para separar Cidade, Estado e País. Assim pode-se fazer filtros mais específicos com os observado a seguir."
   ]
  },
  {
   "cell_type": "code",
   "execution_count": 8,
   "metadata": {},
   "outputs": [
    {
     "data": {
      "text/html": [
       "<div>\n",
       "<style scoped>\n",
       "    .dataframe tbody tr th:only-of-type {\n",
       "        vertical-align: middle;\n",
       "    }\n",
       "\n",
       "    .dataframe tbody tr th {\n",
       "        vertical-align: top;\n",
       "    }\n",
       "\n",
       "    .dataframe thead th {\n",
       "        text-align: right;\n",
       "    }\n",
       "</style>\n",
       "<table border=\"1\" class=\"dataframe\">\n",
       "  <thead>\n",
       "    <tr style=\"text-align: right;\">\n",
       "      <th></th>\n",
       "      <th>UserID</th>\n",
       "      <th>Age</th>\n",
       "      <th>City</th>\n",
       "      <th>State</th>\n",
       "      <th>Country</th>\n",
       "    </tr>\n",
       "  </thead>\n",
       "  <tbody>\n",
       "    <tr>\n",
       "      <th>0</th>\n",
       "      <td>1</td>\n",
       "      <td>NaN</td>\n",
       "      <td>nyc</td>\n",
       "      <td>new york</td>\n",
       "      <td>usa</td>\n",
       "    </tr>\n",
       "    <tr>\n",
       "      <th>1</th>\n",
       "      <td>2</td>\n",
       "      <td>18.0</td>\n",
       "      <td>stockton</td>\n",
       "      <td>california</td>\n",
       "      <td>usa</td>\n",
       "    </tr>\n",
       "    <tr>\n",
       "      <th>2</th>\n",
       "      <td>3</td>\n",
       "      <td>NaN</td>\n",
       "      <td>moscow</td>\n",
       "      <td>yukon territory</td>\n",
       "      <td>russia</td>\n",
       "    </tr>\n",
       "    <tr>\n",
       "      <th>3</th>\n",
       "      <td>4</td>\n",
       "      <td>17.0</td>\n",
       "      <td>porto</td>\n",
       "      <td>v.n.gaia</td>\n",
       "      <td>portugal</td>\n",
       "    </tr>\n",
       "    <tr>\n",
       "      <th>4</th>\n",
       "      <td>5</td>\n",
       "      <td>NaN</td>\n",
       "      <td>farnborough</td>\n",
       "      <td>hants</td>\n",
       "      <td>united kingdom</td>\n",
       "    </tr>\n",
       "  </tbody>\n",
       "</table>\n",
       "</div>"
      ],
      "text/plain": [
       "   UserID   Age         City             State          Country\n",
       "0       1   NaN          nyc          new york              usa\n",
       "1       2  18.0     stockton        california              usa\n",
       "2       3   NaN       moscow   yukon territory           russia\n",
       "3       4  17.0        porto          v.n.gaia         portugal\n",
       "4       5   NaN  farnborough             hants   united kingdom"
      ]
     },
     "execution_count": 8,
     "metadata": {},
     "output_type": "execute_result"
    }
   ],
   "source": [
    "#Vamos carregar a base de dados de usuários mais detalhada\n",
    "users_location = pd.read_csv('BX-Users-Location.csv', sep=';', encoding=\"latin-1\")\n",
    "users_location.columns = ['UserID', 'Age', 'City', 'State', 'Country']\n",
    "users_location.head(5)"
   ]
  },
  {
   "cell_type": "code",
   "execution_count": 9,
   "metadata": {},
   "outputs": [
    {
     "name": "stderr",
     "output_type": "stream",
     "text": [
      "C:\\Anaconda3\\lib\\site-packages\\ipykernel_launcher.py:2: FutureWarning: 'Country' is both an index level and a column label.\n",
      "Defaulting to column, but this will raise an ambiguity error in a future version\n",
      "  \n"
     ]
    },
    {
     "data": {
      "text/html": [
       "<div>\n",
       "<style scoped>\n",
       "    .dataframe tbody tr th:only-of-type {\n",
       "        vertical-align: middle;\n",
       "    }\n",
       "\n",
       "    .dataframe tbody tr th {\n",
       "        vertical-align: top;\n",
       "    }\n",
       "\n",
       "    .dataframe thead th {\n",
       "        text-align: right;\n",
       "    }\n",
       "</style>\n",
       "<table border=\"1\" class=\"dataframe\">\n",
       "  <thead>\n",
       "    <tr style=\"text-align: right;\">\n",
       "      <th></th>\n",
       "      <th>UsersNumber</th>\n",
       "    </tr>\n",
       "    <tr>\n",
       "      <th>Country</th>\n",
       "      <th></th>\n",
       "    </tr>\n",
       "  </thead>\n",
       "  <tbody>\n",
       "    <tr>\n",
       "      <th>usa</th>\n",
       "      <td>139187</td>\n",
       "    </tr>\n",
       "    <tr>\n",
       "      <th>canada</th>\n",
       "      <td>21558</td>\n",
       "    </tr>\n",
       "    <tr>\n",
       "      <th>united kingdom</th>\n",
       "      <td>18286</td>\n",
       "    </tr>\n",
       "    <tr>\n",
       "      <th>germany</th>\n",
       "      <td>17022</td>\n",
       "    </tr>\n",
       "    <tr>\n",
       "      <th>spain</th>\n",
       "      <td>13095</td>\n",
       "    </tr>\n",
       "    <tr>\n",
       "      <th>australia</th>\n",
       "      <td>11723</td>\n",
       "    </tr>\n",
       "    <tr>\n",
       "      <th>italy</th>\n",
       "      <td>11241</td>\n",
       "    </tr>\n",
       "    <tr>\n",
       "      <th>france</th>\n",
       "      <td>3442</td>\n",
       "    </tr>\n",
       "    <tr>\n",
       "      <th>portugal</th>\n",
       "      <td>3306</td>\n",
       "    </tr>\n",
       "    <tr>\n",
       "      <th>new zealand</th>\n",
       "      <td>3071</td>\n",
       "    </tr>\n",
       "  </tbody>\n",
       "</table>\n",
       "</div>"
      ],
      "text/plain": [
       "                 UsersNumber\n",
       "Country                     \n",
       " usa                  139187\n",
       " canada                21558\n",
       " united kingdom        18286\n",
       " germany               17022\n",
       " spain                 13095\n",
       " australia             11723\n",
       " italy                 11241\n",
       " france                 3442\n",
       " portugal               3306\n",
       " new zealand            3071"
      ]
     },
     "execution_count": 9,
     "metadata": {},
     "output_type": "execute_result"
    }
   ],
   "source": [
    "users_location_count =  pd.DataFrame(users_location.groupby('Country')['Country'].count())\n",
    "most_users_location = users_location_count.sort_values('Country', ascending=False)\n",
    "most_users_location.columns = ['UsersNumber']\n",
    "most_users_location.head(10)\n"
   ]
  },
  {
   "cell_type": "markdown",
   "metadata": {
    "colab_type": "text",
    "id": "H-I57S0Zp8X4"
   },
   "source": [
    "### Transformação da Base de Dados\n",
    "---\n",
    "O processo de transformação de dados a fim de torná-los apropriados para análise ([data wrangling](https://en.wikipedia.org/wiki/Data_wrangling)) é muitas vezes necessário. Nesse caso, a base de dados apresenta algumas características que devem ser tratadas para que as abordagens de recomendação possam ser efetivamente aplicadas. "
   ]
  },
  {
   "cell_type": "markdown",
   "metadata": {},
   "source": [
    "Recomendadores comumente enfrentam um problema conhecido como cold-start, em que é difícil prover sugestões personalizadas para usuários com nenhuma ou pouquíssimas interações no sistema, uma vez que tem-se pouca informação para modelar suas preferências. Como o foco aqui não está no tratamento do problema de cold-start, para minimizar seu efeito na recomendação utilizaremos usuários com pelo menos 5 interações no sistema."
   ]
  },
  {
   "cell_type": "code",
   "execution_count": 10,
   "metadata": {},
   "outputs": [
    {
     "name": "stdout",
     "output_type": "stream",
     "text": [
      "# users: 15143\n",
      "# users with at least 5 interactions: 1510\n"
     ]
    }
   ],
   "source": [
    "users_interactions_count_df = ratings.groupby(['UserID', 'BookID']).size().groupby('UserID').size()\n",
    "print('# users: %d' % len(users_interactions_count_df))\n",
    "\n",
    "users_with_enough_interactions_df = users_interactions_count_df[users_interactions_count_df >= 5].reset_index()[['UserID']]\n",
    "print('# users with at least 5 interactions: %d' % len(users_with_enough_interactions_df))\n"
   ]
  },
  {
   "cell_type": "code",
   "execution_count": 11,
   "metadata": {},
   "outputs": [
    {
     "name": "stdout",
     "output_type": "stream",
     "text": [
      "# of interactions: 36887\n",
      "# of interactions from users with at least 5 interactions: 17974\n"
     ]
    }
   ],
   "source": [
    "print('# of interactions: %d' % len(ratings))\n",
    "interactions_from_selected_users_df = ratings.merge(users_with_enough_interactions_df, \n",
    "               how = 'right',\n",
    "               left_on = 'UserID',\n",
    "               right_on = 'UserID')\n",
    "\n",
    "print('# of interactions from users with at least 5 interactions: %d' % len(interactions_from_selected_users_df))"
   ]
  },
  {
   "cell_type": "markdown",
   "metadata": {
    "colab_type": "text",
    "id": "dmpVajNw3F3A"
   },
   "source": [
    "#### Remoção de Duplicatas\n",
    "\n",
    "---\n",
    "\n",
    "Vamos dar uma olhada nos nossos registros de itens na base de dados:"
   ]
  },
  {
   "cell_type": "code",
   "execution_count": 12,
   "metadata": {
    "colab": {
     "autoexec": {
      "startup": false,
      "wait_interval": 0
     },
     "base_uri": "https://localhost:8080/",
     "height": 51
    },
    "colab_type": "code",
    "executionInfo": {
     "elapsed": 731,
     "status": "ok",
     "timestamp": 1528912154472,
     "user": {
      "displayName": "Wladmir Cardoso Brandão",
      "photoUrl": "//lh5.googleusercontent.com/-SGSelMTRK_4/AAAAAAAAAAI/AAAAAAABeK0/PmbiLSnzkAE/s50-c-k-no/photo.jpg",
      "userId": "103335929661169749259"
     },
     "user_tz": 180
    },
    "id": "WEHVLMVY3ZK7",
    "outputId": "8b763749-da04-4547-8e36-7ec6573f0ba0"
   },
   "outputs": [
    {
     "name": "stdout",
     "output_type": "stream",
     "text": [
      "# itens: 10000\n",
      "# itens únicos: 10000\n"
     ]
    }
   ],
   "source": [
    "print ('# itens: %d' % items.BookID.shape[0])\n",
    "print ('# itens únicos: %d' % items.BookID.unique().shape[0])"
   ]
  },
  {
   "cell_type": "code",
   "execution_count": 13,
   "metadata": {
    "colab": {
     "autoexec": {
      "startup": false,
      "wait_interval": 0
     },
     "base_uri": "https://localhost:8080/",
     "height": 34
    },
    "colab_type": "code",
    "executionInfo": {
     "elapsed": 770,
     "status": "ok",
     "timestamp": 1528912160038,
     "user": {
      "displayName": "Wladmir Cardoso Brandão",
      "photoUrl": "//lh5.googleusercontent.com/-SGSelMTRK_4/AAAAAAAAAAI/AAAAAAABeK0/PmbiLSnzkAE/s50-c-k-no/photo.jpg",
      "userId": "103335929661169749259"
     },
     "user_tz": 180
    },
    "id": "_BOpRPmbiFSG",
    "outputId": "33bb2c86-c1f5-49ee-e15b-122dd11ed72b"
   },
   "outputs": [
    {
     "name": "stdout",
     "output_type": "stream",
     "text": [
      "# itens: 10000\n"
     ]
    }
   ],
   "source": [
    "items = items.drop_duplicates(subset='BookID',keep='first')\n",
    "print('# itens: %d' % len(items))"
   ]
  },
  {
   "cell_type": "markdown",
   "metadata": {
    "colab_type": "text",
    "id": "s7YQScCY3vq3"
   },
   "source": [
    "#### Tratamento de Ausentes\n",
    "\n",
    "---\n",
    "\n",
    "Agora vamos dar uma olhada no número de usuários que atribuíram *ratings* a itens e no número de itens com *ratings* atribuídos:"
   ]
  },
  {
   "cell_type": "code",
   "execution_count": 14,
   "metadata": {
    "colab": {
     "autoexec": {
      "startup": false,
      "wait_interval": 0
     },
     "base_uri": "https://localhost:8080/",
     "height": 51
    },
    "colab_type": "code",
    "executionInfo": {
     "elapsed": 1028,
     "status": "ok",
     "timestamp": 1528912166307,
     "user": {
      "displayName": "Wladmir Cardoso Brandão",
      "photoUrl": "//lh5.googleusercontent.com/-SGSelMTRK_4/AAAAAAAAAAI/AAAAAAABeK0/PmbiLSnzkAE/s50-c-k-no/photo.jpg",
      "userId": "103335929661169749259"
     },
     "user_tz": 180
    },
    "id": "wCuq7I2VNYlb",
    "outputId": "efe7c494-bda6-48c7-c62a-de44566cf8b4"
   },
   "outputs": [
    {
     "name": "stdout",
     "output_type": "stream",
     "text": [
      "# Itens: 1828\n",
      "# Usuários: 1510\n"
     ]
    }
   ],
   "source": [
    "print ('# Itens: %d' % interactions_from_selected_users_df.BookID.unique().shape[0])\n",
    "print ('# Usuários: %d' % interactions_from_selected_users_df.UserID.unique().shape[0])"
   ]
  },
  {
   "cell_type": "markdown",
   "metadata": {
    "colab_type": "text",
    "id": "9tLQKXMdTH3J"
   },
   "source": [
    "Como podemos observar, na base de dados existem *ratings* de usuários em itens que não estão presentes no arquivo de itens. Dessa forma, para evitar problemas de *matching* (casamento de identificadores de itens em arquivos), eliminaremos os 55.015 *ratings* de usuários em itens ausentes:"
   ]
  },
  {
   "cell_type": "code",
   "execution_count": 15,
   "metadata": {
    "colab": {
     "autoexec": {
      "startup": false,
      "wait_interval": 0
     },
     "base_uri": "https://localhost:8080/",
     "height": 34
    },
    "colab_type": "code",
    "executionInfo": {
     "elapsed": 749,
     "status": "ok",
     "timestamp": 1528912171197,
     "user": {
      "displayName": "Wladmir Cardoso Brandão",
      "photoUrl": "//lh5.googleusercontent.com/-SGSelMTRK_4/AAAAAAAAAAI/AAAAAAABeK0/PmbiLSnzkAE/s50-c-k-no/photo.jpg",
      "userId": "103335929661169749259"
     },
     "user_tz": 180
    },
    "id": "3ukbGvUOTbZ6",
    "outputId": "b80a7751-3cb1-4297-b94a-2e9f3e01b0ab"
   },
   "outputs": [
    {
     "name": "stdout",
     "output_type": "stream",
     "text": [
      "# ratings: 17971\n"
     ]
    }
   ],
   "source": [
    "interactions_from_selected_users_df = interactions_from_selected_users_df.merge(items, on='BookID')[['UserID','BookID','BookRating']]\n",
    "print('# ratings: %d' % len(interactions_from_selected_users_df))"
   ]
  },
  {
   "cell_type": "markdown",
   "metadata": {
    "colab_type": "text",
    "id": "oBU2yM97wmX5"
   },
   "source": [
    "Vamos dar uma olhada novamente no número de usuários que fizeram avaliações e no número de itens que foram avaliados:"
   ]
  },
  {
   "cell_type": "code",
   "execution_count": 16,
   "metadata": {
    "colab": {
     "autoexec": {
      "startup": false,
      "wait_interval": 0
     },
     "base_uri": "https://localhost:8080/",
     "height": 51
    },
    "colab_type": "code",
    "executionInfo": {
     "elapsed": 698,
     "status": "ok",
     "timestamp": 1528912175961,
     "user": {
      "displayName": "Wladmir Cardoso Brandão",
      "photoUrl": "//lh5.googleusercontent.com/-SGSelMTRK_4/AAAAAAAAAAI/AAAAAAABeK0/PmbiLSnzkAE/s50-c-k-no/photo.jpg",
      "userId": "103335929661169749259"
     },
     "user_tz": 180
    },
    "id": "cdJ95C-Ywuoh",
    "outputId": "c5e29897-bfda-420d-91fa-fc60d85d0d11"
   },
   "outputs": [
    {
     "name": "stdout",
     "output_type": "stream",
     "text": [
      "# itens: 1827\n",
      "# usuarios: 1510\n"
     ]
    }
   ],
   "source": [
    "print ('# itens: %d' % interactions_from_selected_users_df.BookID.unique().shape[0])\n",
    "print ('# usuarios: %d' % interactions_from_selected_users_df.UserID.unique().shape[0])"
   ]
  },
  {
   "cell_type": "markdown",
   "metadata": {},
   "source": [
    "Foi calculada a dispesão da base de dados de avaliações. Observe que o valor é significantemente alto, o que significa que a maioria das avaliações é igual a NaN. Como a maioria dos algoritmos de aprendizado de máquina não pode lidar com NaNs, foram substituídos por 0, que agora indica ausência de classificação. A base de dados já foi obtida com esta mudança."
   ]
  },
  {
   "cell_type": "code",
   "execution_count": 17,
   "metadata": {},
   "outputs": [
    {
     "name": "stdout",
     "output_type": "stream",
     "text": [
      "O nível de dispersão da base de dados Book Crossing é 99.99935555013663 %\n"
     ]
    }
   ],
   "source": [
    "#Dispersão da base de dados Book Crossing\n",
    "sparsity=1.0-len(interactions_from_selected_users_df)/float(users.shape[0]*items.shape[0])\n",
    "print('O nível de dispersão da base de dados Book Crossing é ' +  str(sparsity*100) + ' %')"
   ]
  },
  {
   "cell_type": "markdown",
   "metadata": {},
   "source": [
    "### Mais algumas análises da base de dados antes de iniciarmos as abordagens."
   ]
  },
  {
   "cell_type": "code",
   "execution_count": 18,
   "metadata": {},
   "outputs": [
    {
     "data": {
      "text/html": [
       "<div>\n",
       "<style scoped>\n",
       "    .dataframe tbody tr th:only-of-type {\n",
       "        vertical-align: middle;\n",
       "    }\n",
       "\n",
       "    .dataframe tbody tr th {\n",
       "        vertical-align: top;\n",
       "    }\n",
       "\n",
       "    .dataframe thead th {\n",
       "        text-align: right;\n",
       "    }\n",
       "</style>\n",
       "<table border=\"1\" class=\"dataframe\">\n",
       "  <thead>\n",
       "    <tr style=\"text-align: right;\">\n",
       "      <th></th>\n",
       "      <th>TotalRatingCount</th>\n",
       "    </tr>\n",
       "    <tr>\n",
       "      <th>BookID</th>\n",
       "      <th></th>\n",
       "    </tr>\n",
       "  </thead>\n",
       "  <tbody>\n",
       "    <tr>\n",
       "      <th>1923</th>\n",
       "      <td>267</td>\n",
       "    </tr>\n",
       "    <tr>\n",
       "      <th>457</th>\n",
       "      <td>262</td>\n",
       "    </tr>\n",
       "    <tr>\n",
       "      <th>2144</th>\n",
       "      <td>250</td>\n",
       "    </tr>\n",
       "    <tr>\n",
       "      <th>306</th>\n",
       "      <td>227</td>\n",
       "    </tr>\n",
       "    <tr>\n",
       "      <th>1407</th>\n",
       "      <td>200</td>\n",
       "    </tr>\n",
       "    <tr>\n",
       "      <th>406</th>\n",
       "      <td>184</td>\n",
       "    </tr>\n",
       "    <tr>\n",
       "      <th>1013</th>\n",
       "      <td>184</td>\n",
       "    </tr>\n",
       "    <tr>\n",
       "      <th>4181</th>\n",
       "      <td>183</td>\n",
       "    </tr>\n",
       "    <tr>\n",
       "      <th>3784</th>\n",
       "      <td>173</td>\n",
       "    </tr>\n",
       "    <tr>\n",
       "      <th>5310</th>\n",
       "      <td>154</td>\n",
       "    </tr>\n",
       "  </tbody>\n",
       "</table>\n",
       "</div>"
      ],
      "text/plain": [
       "        TotalRatingCount\n",
       "BookID                  \n",
       "1923                 267\n",
       "457                  262\n",
       "2144                 250\n",
       "306                  227\n",
       "1407                 200\n",
       "406                  184\n",
       "1013                 184\n",
       "4181                 183\n",
       "3784                 173\n",
       "5310                 154"
      ]
     },
     "execution_count": 18,
     "metadata": {},
     "output_type": "execute_result"
    }
   ],
   "source": [
    "#Vamos visualizar os cinco livros mais avaliados\n",
    "rating_count =  pd.DataFrame(interactions_from_selected_users_df.groupby('BookID')['BookRating'].count())\n",
    "most_rated_books = rating_count.sort_values('BookRating', ascending=False)\n",
    "most_rated_books.columns=['TotalRatingCount']\n",
    "most_rated_books.head(10)"
   ]
  },
  {
   "cell_type": "code",
   "execution_count": 19,
   "metadata": {},
   "outputs": [
    {
     "data": {
      "text/html": [
       "<div>\n",
       "<style scoped>\n",
       "    .dataframe tbody tr th:only-of-type {\n",
       "        vertical-align: middle;\n",
       "    }\n",
       "\n",
       "    .dataframe tbody tr th {\n",
       "        vertical-align: top;\n",
       "    }\n",
       "\n",
       "    .dataframe thead th {\n",
       "        text-align: right;\n",
       "    }\n",
       "</style>\n",
       "<table border=\"1\" class=\"dataframe\">\n",
       "  <thead>\n",
       "    <tr style=\"text-align: right;\">\n",
       "      <th></th>\n",
       "      <th>BookID</th>\n",
       "      <th>BookTitle</th>\n",
       "      <th>ISBN</th>\n",
       "    </tr>\n",
       "  </thead>\n",
       "  <tbody>\n",
       "    <tr>\n",
       "      <th>0</th>\n",
       "      <td>1923</td>\n",
       "      <td>Snow Falling on Cedars</td>\n",
       "      <td>067976402X</td>\n",
       "    </tr>\n",
       "    <tr>\n",
       "      <th>1</th>\n",
       "      <td>457</td>\n",
       "      <td>The Firm</td>\n",
       "      <td>044021145X</td>\n",
       "    </tr>\n",
       "    <tr>\n",
       "      <th>2</th>\n",
       "      <td>2144</td>\n",
       "      <td>Harry Potter and the Sorcerer's Stone (Harry P...</td>\n",
       "      <td>059035342X</td>\n",
       "    </tr>\n",
       "    <tr>\n",
       "      <th>3</th>\n",
       "      <td>306</td>\n",
       "      <td>A Painted House</td>\n",
       "      <td>044023722X</td>\n",
       "    </tr>\n",
       "    <tr>\n",
       "      <th>4</th>\n",
       "      <td>1407</td>\n",
       "      <td>The No. 1 Ladies' Detective Agency (Today Show...</td>\n",
       "      <td>1400034779</td>\n",
       "    </tr>\n",
       "  </tbody>\n",
       "</table>\n",
       "</div>"
      ],
      "text/plain": [
       "   BookID                                          BookTitle        ISBN\n",
       "0    1923                             Snow Falling on Cedars  067976402X\n",
       "1     457                                           The Firm  044021145X\n",
       "2    2144  Harry Potter and the Sorcerer's Stone (Harry P...  059035342X\n",
       "3     306                                    A Painted House  044023722X\n",
       "4    1407  The No. 1 Ladies' Detective Agency (Today Show...  1400034779"
      ]
     },
     "execution_count": 19,
     "metadata": {},
     "output_type": "execute_result"
    }
   ],
   "source": [
    "#Detalhes dos 5 livros mais avaliados\n",
    "most_rated_books_summary = pd.merge(most_rated_books,items, on='BookID')[['BookID', 'BookTitle','ISBN']]\n",
    "most_rated_books_summary.head()"
   ]
  },
  {
   "cell_type": "markdown",
   "metadata": {},
   "source": [
    "Observe que o livro \"Snow Falling on Cedars\t\" foi o mais avaliado. No entanto, observe abaixo que ele não foi altamente classificado,\n",
    "nos mostra uma recomendação baseada apenas e contagens de avaliações é ineficiente."
   ]
  },
  {
   "cell_type": "code",
   "execution_count": 20,
   "metadata": {},
   "outputs": [
    {
     "data": {
      "text/html": [
       "<div>\n",
       "<style scoped>\n",
       "    .dataframe tbody tr th:only-of-type {\n",
       "        vertical-align: middle;\n",
       "    }\n",
       "\n",
       "    .dataframe tbody tr th {\n",
       "        vertical-align: top;\n",
       "    }\n",
       "\n",
       "    .dataframe thead th {\n",
       "        text-align: right;\n",
       "    }\n",
       "</style>\n",
       "<table border=\"1\" class=\"dataframe\">\n",
       "  <thead>\n",
       "    <tr style=\"text-align: right;\">\n",
       "      <th></th>\n",
       "      <th>BookRating</th>\n",
       "      <th>RatingCount</th>\n",
       "    </tr>\n",
       "    <tr>\n",
       "      <th>BookID</th>\n",
       "      <th></th>\n",
       "      <th></th>\n",
       "    </tr>\n",
       "  </thead>\n",
       "  <tbody>\n",
       "    <tr>\n",
       "      <th>1923</th>\n",
       "      <td>1.962547</td>\n",
       "      <td>267</td>\n",
       "    </tr>\n",
       "    <tr>\n",
       "      <th>457</th>\n",
       "      <td>2.408397</td>\n",
       "      <td>262</td>\n",
       "    </tr>\n",
       "    <tr>\n",
       "      <th>2144</th>\n",
       "      <td>3.776000</td>\n",
       "      <td>250</td>\n",
       "    </tr>\n",
       "    <tr>\n",
       "      <th>306</th>\n",
       "      <td>1.942731</td>\n",
       "      <td>227</td>\n",
       "    </tr>\n",
       "    <tr>\n",
       "      <th>1407</th>\n",
       "      <td>2.445000</td>\n",
       "      <td>200</td>\n",
       "    </tr>\n",
       "  </tbody>\n",
       "</table>\n",
       "</div>"
      ],
      "text/plain": [
       "        BookRating  RatingCount\n",
       "BookID                         \n",
       "1923      1.962547          267\n",
       "457       2.408397          262\n",
       "2144      3.776000          250\n",
       "306       1.942731          227\n",
       "1407      2.445000          200"
      ]
     },
     "execution_count": 20,
     "metadata": {},
     "output_type": "execute_result"
    }
   ],
   "source": [
    "#Vamos computar a classificação média e o número de classificações que cada livro recebeu.\n",
    "#Observe que neste conjunto de dados, o livro que recebeu mais contagens de classificação não foi altamente classificado. \n",
    "\n",
    "average_rating = pd.DataFrame(interactions_from_selected_users_df.groupby('BookID')['BookRating'].mean())\n",
    "average_rating['RatingCount'] = pd.DataFrame(interactions_from_selected_users_df.groupby('BookID')['BookRating'].count())\n",
    "average_rating.sort_values('RatingCount', ascending=False).head()"
   ]
  },
  {
   "cell_type": "markdown",
   "metadata": {},
   "source": [
    "Vejamos as estatísticas da contagem total de avaliações:"
   ]
  },
  {
   "cell_type": "code",
   "execution_count": 21,
   "metadata": {},
   "outputs": [
    {
     "name": "stdout",
     "output_type": "stream",
     "text": [
      "count   1827.000\n",
      "mean       9.836\n",
      "std       22.684\n",
      "min        1.000\n",
      "25%        1.000\n",
      "50%        3.000\n",
      "75%        8.000\n",
      "max      267.000\n",
      "Name: TotalRatingCount, dtype: float64\n"
     ]
    }
   ],
   "source": [
    "pd.set_option('display.float_format', lambda x: '%.3f' % x)\n",
    "print(most_rated_books['TotalRatingCount'].describe())"
   ]
  },
  {
   "cell_type": "markdown",
   "metadata": {},
   "source": [
    "Para finalizar esta etapa, vamos apenas testar um filtro dos usuários por localização"
   ]
  },
  {
   "cell_type": "code",
   "execution_count": 22,
   "metadata": {},
   "outputs": [
    {
     "data": {
      "text/html": [
       "<div>\n",
       "<style scoped>\n",
       "    .dataframe tbody tr th:only-of-type {\n",
       "        vertical-align: middle;\n",
       "    }\n",
       "\n",
       "    .dataframe tbody tr th {\n",
       "        vertical-align: top;\n",
       "    }\n",
       "\n",
       "    .dataframe thead th {\n",
       "        text-align: right;\n",
       "    }\n",
       "</style>\n",
       "<table border=\"1\" class=\"dataframe\">\n",
       "  <thead>\n",
       "    <tr style=\"text-align: right;\">\n",
       "      <th></th>\n",
       "      <th>UserID</th>\n",
       "      <th>Location</th>\n",
       "    </tr>\n",
       "  </thead>\n",
       "  <tbody>\n",
       "    <tr>\n",
       "      <th>0</th>\n",
       "      <td>1</td>\n",
       "      <td>nyc, new york, usa</td>\n",
       "    </tr>\n",
       "    <tr>\n",
       "      <th>1</th>\n",
       "      <td>2</td>\n",
       "      <td>stockton, california, usa</td>\n",
       "    </tr>\n",
       "    <tr>\n",
       "      <th>5</th>\n",
       "      <td>6</td>\n",
       "      <td>santa monica, california, usa</td>\n",
       "    </tr>\n",
       "    <tr>\n",
       "      <th>6</th>\n",
       "      <td>7</td>\n",
       "      <td>washington, dc, usa</td>\n",
       "    </tr>\n",
       "    <tr>\n",
       "      <th>7</th>\n",
       "      <td>8</td>\n",
       "      <td>timmins, ontario, canada</td>\n",
       "    </tr>\n",
       "    <tr>\n",
       "      <th>8</th>\n",
       "      <td>9</td>\n",
       "      <td>germantown, tennessee, usa</td>\n",
       "    </tr>\n",
       "    <tr>\n",
       "      <th>11</th>\n",
       "      <td>12</td>\n",
       "      <td>fort bragg, california, usa</td>\n",
       "    </tr>\n",
       "    <tr>\n",
       "      <th>13</th>\n",
       "      <td>14</td>\n",
       "      <td>mediapolis, iowa, usa</td>\n",
       "    </tr>\n",
       "    <tr>\n",
       "      <th>14</th>\n",
       "      <td>15</td>\n",
       "      <td>calgary, alberta, canada</td>\n",
       "    </tr>\n",
       "    <tr>\n",
       "      <th>15</th>\n",
       "      <td>16</td>\n",
       "      <td>albuquerque, new mexico, usa</td>\n",
       "    </tr>\n",
       "  </tbody>\n",
       "</table>\n",
       "</div>"
      ],
      "text/plain": [
       "    UserID                       Location\n",
       "0        1             nyc, new york, usa\n",
       "1        2      stockton, california, usa\n",
       "5        6  santa monica, california, usa\n",
       "6        7            washington, dc, usa\n",
       "7        8       timmins, ontario, canada\n",
       "8        9     germantown, tennessee, usa\n",
       "11      12    fort bragg, california, usa\n",
       "13      14          mediapolis, iowa, usa\n",
       "14      15       calgary, alberta, canada\n",
       "15      16   albuquerque, new mexico, usa"
      ]
     },
     "execution_count": 22,
     "metadata": {},
     "output_type": "execute_result"
    }
   ],
   "source": [
    "#Filtro de usuários por localização (USA ou Canadá)\n",
    "us_canada_user_rating = users[users['Location'].str.contains(\"usa|canada\")]\n",
    "us_canada_user_rating=us_canada_user_rating.drop('Age', axis=1)\n",
    "us_canada_user_rating.head(10)"
   ]
  },
  {
   "cell_type": "markdown",
   "metadata": {
    "colab_type": "text",
    "id": "4hyXIDzQGN_e"
   },
   "source": [
    "## Abordagens de Recomendação\n",
    "---\n",
    "A seguir apresento quatro abordagens de recomendação: abordagem baseada em popularidade (PB), abordagem baseada em filtragem colaborativa (CF), abordagem baseada em conteúdo (CB) e abordagem híbrida (HB). Para a abordagem de filtragem colaborativa, foram implementadas quatro diferentes estratégias: baseada em usuário (CF-UB), baseada em item (CF-IB) e baseada em fatoração de matriz utilizando [decomposição de valores singulares](https://pt.wikipedia.org/wiki/Decomposi%C3%A7%C3%A3o_em_valores_singulares) (CF-SVD)."
   ]
  },
  {
   "cell_type": "markdown",
   "metadata": {
    "colab_type": "text",
    "id": "qrTtSPZUGinZ"
   },
   "source": [
    "### Baseada em Popularidade\n",
    "Por ser simples de entender e fácil de implementar, esta abordagem ainda é muito utilizada, uma vez que frequentemente provê boas recomendações, especialmente para usuários iniciantes sem interesses específicos. Entretanto, um dos principais objetivos da recomendação é a personalização, a fim de oferecer itens que atendam a interesses específicos (e não muito populares) dos usuários (*[long-tail](https://pt.wikipedia.org/wiki/Cauda_longa) itens*). Veja aqui um artigo interessante sobre [os desafios de prover novidade na recomendação, considerando itens na cauda-longa (*long-tail*)](http://vldb.org/pvldb/vol5/p896_hongzhiyin_vldb2012.pdf).\n"
   ]
  },
  {
   "cell_type": "markdown",
   "metadata": {
    "colab_type": "text",
    "id": "LpoVmWMR5YJd"
   },
   "source": [
    "Primeiramente, vamos computar a popularidades dos itens:"
   ]
  },
  {
   "cell_type": "code",
   "execution_count": 23,
   "metadata": {
    "colab": {
     "autoexec": {
      "startup": false,
      "wait_interval": 0
     },
     "base_uri": "https://localhost:8080/",
     "height": 204
    },
    "colab_type": "code",
    "executionInfo": {
     "elapsed": 1269,
     "status": "ok",
     "timestamp": 1528912181899,
     "user": {
      "displayName": "Wladmir Cardoso Brandão",
      "photoUrl": "//lh5.googleusercontent.com/-SGSelMTRK_4/AAAAAAAAAAI/AAAAAAABeK0/PmbiLSnzkAE/s50-c-k-no/photo.jpg",
      "userId": "103335929661169749259"
     },
     "user_tz": 180
    },
    "id": "GaegwgX7Gqkc",
    "outputId": "4365cc9b-3fa7-46eb-d253-2c520534aee7"
   },
   "outputs": [
    {
     "data": {
      "text/html": [
       "<div>\n",
       "<style scoped>\n",
       "    .dataframe tbody tr th:only-of-type {\n",
       "        vertical-align: middle;\n",
       "    }\n",
       "\n",
       "    .dataframe tbody tr th {\n",
       "        vertical-align: top;\n",
       "    }\n",
       "\n",
       "    .dataframe thead th {\n",
       "        text-align: right;\n",
       "    }\n",
       "</style>\n",
       "<table border=\"1\" class=\"dataframe\">\n",
       "  <thead>\n",
       "    <tr style=\"text-align: right;\">\n",
       "      <th></th>\n",
       "      <th>BookID</th>\n",
       "      <th>Score</th>\n",
       "    </tr>\n",
       "  </thead>\n",
       "  <tbody>\n",
       "    <tr>\n",
       "      <th>0</th>\n",
       "      <td>2144</td>\n",
       "      <td>944</td>\n",
       "    </tr>\n",
       "    <tr>\n",
       "      <th>1</th>\n",
       "      <td>5507</td>\n",
       "      <td>740</td>\n",
       "    </tr>\n",
       "    <tr>\n",
       "      <th>2</th>\n",
       "      <td>457</td>\n",
       "      <td>631</td>\n",
       "    </tr>\n",
       "    <tr>\n",
       "      <th>3</th>\n",
       "      <td>1923</td>\n",
       "      <td>524</td>\n",
       "    </tr>\n",
       "    <tr>\n",
       "      <th>4</th>\n",
       "      <td>1407</td>\n",
       "      <td>489</td>\n",
       "    </tr>\n",
       "    <tr>\n",
       "      <th>5</th>\n",
       "      <td>306</td>\n",
       "      <td>441</td>\n",
       "    </tr>\n",
       "    <tr>\n",
       "      <th>6</th>\n",
       "      <td>5071</td>\n",
       "      <td>435</td>\n",
       "    </tr>\n",
       "    <tr>\n",
       "      <th>7</th>\n",
       "      <td>5580</td>\n",
       "      <td>431</td>\n",
       "    </tr>\n",
       "    <tr>\n",
       "      <th>8</th>\n",
       "      <td>4181</td>\n",
       "      <td>414</td>\n",
       "    </tr>\n",
       "    <tr>\n",
       "      <th>9</th>\n",
       "      <td>3235</td>\n",
       "      <td>351</td>\n",
       "    </tr>\n",
       "  </tbody>\n",
       "</table>\n",
       "</div>"
      ],
      "text/plain": [
       "   BookID  Score\n",
       "0    2144    944\n",
       "1    5507    740\n",
       "2     457    631\n",
       "3    1923    524\n",
       "4    1407    489\n",
       "5     306    441\n",
       "6    5071    435\n",
       "7    5580    431\n",
       "8    4181    414\n",
       "9    3235    351"
      ]
     },
     "execution_count": 23,
     "metadata": {},
     "output_type": "execute_result"
    }
   ],
   "source": [
    "itemPopularityDF = interactions_from_selected_users_df.groupby('BookID')['BookRating'].sum().sort_values(ascending=False).reset_index()\n",
    "itemPopularityDF.columns = ['BookID', 'Score']\n",
    "itemPopularityDF.sort_values(ascending=False,by=['Score']).head(10)"
   ]
  },
  {
   "cell_type": "markdown",
   "metadata": {
    "colab_type": "text",
    "id": "_UtK26KH5eOw"
   },
   "source": [
    "Agora, vamos implementar a abordagem de recomendação baseada em popularidade:"
   ]
  },
  {
   "cell_type": "code",
   "execution_count": 24,
   "metadata": {
    "colab": {
     "autoexec": {
      "startup": false,
      "wait_interval": 0
     }
    },
    "colab_type": "code",
    "id": "YLsAsrxMGw38"
   },
   "outputs": [],
   "source": [
    "class PBRecommender:\n",
    "    \n",
    "    def __init__(self, modelName, itemPopularityDF, itemsDF=None):\n",
    "        self.modelName = modelName \n",
    "        self.itemPopularityDF = itemPopularityDF\n",
    "        self.itemsDF = itemsDF\n",
    "        \n",
    "    def getModelName(self):\n",
    "        return self.modelName\n",
    "        \n",
    "    def recommend(self, user_id, items_to_ignore=[], topn=10, verbose=False):\n",
    "        # Recommend the more popular items that the user hasn't seen yet.\n",
    "        recommendationsDF = self.itemPopularityDF[~self.itemPopularityDF['BookID'].isin(items_to_ignore)] \\\n",
    "                            .sort_values('Score', ascending = False) \\\n",
    "                            .head(topn)\n",
    "        if verbose:\n",
    "            if self.itemsDF is None:\n",
    "                raise Exception(' The items data frame (itemsDF) is required in verbose mode')\n",
    "            recommendationsDF = recommendationsDF.merge(self.itemsDF, how = 'left', \n",
    "                                                        left_on = 'BookID', \n",
    "                                                        right_on = 'BookID')[['BookID', 'BookTitle', 'Score']]\n",
    "        return recommendationsDF"
   ]
  },
  {
   "cell_type": "code",
   "execution_count": 25,
   "metadata": {
    "colab": {
     "autoexec": {
      "startup": false,
      "wait_interval": 0
     }
    },
    "colab_type": "code",
    "id": "_dh9QXsZhaUB"
   },
   "outputs": [],
   "source": [
    "PBModel = PBRecommender('PB',itemPopularityDF, items)"
   ]
  },
  {
   "cell_type": "markdown",
   "metadata": {
    "colab_type": "text",
    "id": "1P-LeQMF5oZI"
   },
   "source": [
    "Finalmente, vamos conferir as recomendações oferecidas pela abordagem para um usuário específico de nossa base de dados:"
   ]
  },
  {
   "cell_type": "code",
   "execution_count": 150,
   "metadata": {
    "colab": {
     "autoexec": {
      "startup": false,
      "wait_interval": 0
     },
     "base_uri": "https://localhost:8080/",
     "height": 204
    },
    "colab_type": "code",
    "executionInfo": {
     "elapsed": 762,
     "status": "ok",
     "timestamp": 1528912196751,
     "user": {
      "displayName": "Wladmir Cardoso Brandão",
      "photoUrl": "//lh5.googleusercontent.com/-SGSelMTRK_4/AAAAAAAAAAI/AAAAAAABeK0/PmbiLSnzkAE/s50-c-k-no/photo.jpg",
      "userId": "103335929661169749259"
     },
     "user_tz": 180
    },
    "id": "kq5DXZ0aaya1",
    "outputId": "79f61d6a-b714-4d06-d8b0-52183151fd6b"
   },
   "outputs": [
    {
     "data": {
      "text/html": [
       "<div>\n",
       "<style scoped>\n",
       "    .dataframe tbody tr th:only-of-type {\n",
       "        vertical-align: middle;\n",
       "    }\n",
       "\n",
       "    .dataframe tbody tr th {\n",
       "        vertical-align: top;\n",
       "    }\n",
       "\n",
       "    .dataframe thead th {\n",
       "        text-align: right;\n",
       "    }\n",
       "</style>\n",
       "<table border=\"1\" class=\"dataframe\">\n",
       "  <thead>\n",
       "    <tr style=\"text-align: right;\">\n",
       "      <th></th>\n",
       "      <th>BookID</th>\n",
       "      <th>BookTitle</th>\n",
       "      <th>Score</th>\n",
       "    </tr>\n",
       "  </thead>\n",
       "  <tbody>\n",
       "    <tr>\n",
       "      <th>0</th>\n",
       "      <td>2144</td>\n",
       "      <td>Harry Potter and the Sorcerer's Stone (Harry P...</td>\n",
       "      <td>944</td>\n",
       "    </tr>\n",
       "    <tr>\n",
       "      <th>1</th>\n",
       "      <td>5507</td>\n",
       "      <td>Harry Potter and the Order of the Phoenix (Boo...</td>\n",
       "      <td>740</td>\n",
       "    </tr>\n",
       "    <tr>\n",
       "      <th>2</th>\n",
       "      <td>457</td>\n",
       "      <td>The Firm</td>\n",
       "      <td>631</td>\n",
       "    </tr>\n",
       "    <tr>\n",
       "      <th>3</th>\n",
       "      <td>1923</td>\n",
       "      <td>Snow Falling on Cedars</td>\n",
       "      <td>524</td>\n",
       "    </tr>\n",
       "    <tr>\n",
       "      <th>4</th>\n",
       "      <td>1407</td>\n",
       "      <td>The No. 1 Ladies' Detective Agency (Today Show...</td>\n",
       "      <td>489</td>\n",
       "    </tr>\n",
       "    <tr>\n",
       "      <th>5</th>\n",
       "      <td>306</td>\n",
       "      <td>A Painted House</td>\n",
       "      <td>441</td>\n",
       "    </tr>\n",
       "    <tr>\n",
       "      <th>6</th>\n",
       "      <td>5071</td>\n",
       "      <td>Bridget Jones's Diary</td>\n",
       "      <td>435</td>\n",
       "    </tr>\n",
       "    <tr>\n",
       "      <th>7</th>\n",
       "      <td>5580</td>\n",
       "      <td>Tears of the Giraffe (No.1 Ladies Detective Ag...</td>\n",
       "      <td>431</td>\n",
       "    </tr>\n",
       "    <tr>\n",
       "      <th>8</th>\n",
       "      <td>4181</td>\n",
       "      <td>The Bridges of Madison County</td>\n",
       "      <td>414</td>\n",
       "    </tr>\n",
       "    <tr>\n",
       "      <th>9</th>\n",
       "      <td>3235</td>\n",
       "      <td>A Child Called \\It\\\": One Child's Courage to S...</td>\n",
       "      <td>351</td>\n",
       "    </tr>\n",
       "  </tbody>\n",
       "</table>\n",
       "</div>"
      ],
      "text/plain": [
       "   BookID                                          BookTitle  Score\n",
       "0    2144  Harry Potter and the Sorcerer's Stone (Harry P...    944\n",
       "1    5507  Harry Potter and the Order of the Phoenix (Boo...    740\n",
       "2     457                                           The Firm    631\n",
       "3    1923                             Snow Falling on Cedars    524\n",
       "4    1407  The No. 1 Ladies' Detective Agency (Today Show...    489\n",
       "5     306                                    A Painted House    441\n",
       "6    5071                              Bridget Jones's Diary    435\n",
       "7    5580  Tears of the Giraffe (No.1 Ladies Detective Ag...    431\n",
       "8    4181                      The Bridges of Madison County    414\n",
       "9    3235  A Child Called \\It\\\": One Child's Courage to S...    351"
      ]
     },
     "execution_count": 150,
     "metadata": {},
     "output_type": "execute_result"
    }
   ],
   "source": [
    "recommendedItensPB = PBModel.recommend(4017, topn=10, verbose=True)\n",
    "recommendedItensPB.sort_values(ascending=False,by=['Score']).head(10)"
   ]
  },
  {
   "cell_type": "markdown",
   "metadata": {
    "colab_type": "text",
    "id": "JvvZbbVgHsDx"
   },
   "source": [
    "### Filtragem Colaborativa\n",
    "Abordagens de filtragem colaborativa comumente adotam duas estratégias diferentes:\n",
    "\n",
    "\n",
    "\n",
    "*   Baseada em Memória ([*memory-based*](https://en.wikipedia.org/wiki/Collaborative_filtering#Memory-based)): usa a memória de *ratings* passados para computar similaridades entre usuários baseado nos itens em que eles atribuíram *rating* (*user-based*), ou para computar similaridades entre itens baseado nos usuários que atribuíram *rating* a esses itens (*item-based*). Um exemplo dessa estratégia é a Filtragem Colaborativa baseada na Vizinhança de Usuário, onde os *top-k* usuários mais similares a um usuário específico são selecionados e usados para sugerir itens de interesse para o usuário específico, desde que ele ainda não tenha atribuído *rating* aos itens. Apesar de ser simples de implementar, essa estratégia é cara computacionalmente quando se tem muitos usuários. \n",
    "*   Baseada em Modelo ([*model-based*](https://en.wikipedia.org/wiki/Collaborative_filtering#Model-based)): modelos são construídos usando diferentes algoritmos de aprendizagem [supervisionada](https://en.wikipedia.org/wiki/Supervised_learning) e [não-supervisionada](https://en.wikipedia.org/wiki/Unsupervised_learning) para sugerir itens a usuários. Para a construção de modelos podemos utilizar inúmeras abordagens, como redes neurais ([*neural networks*](https://en.wikipedia.org/wiki/Artificial_neural_network)), redes bayesianas ([*bayesian networks*](https://en.wikipedia.org/wiki/Bayesian_network)), agrupamento ([*clustering*](https://en.wikipedia.org/wiki/Cluster_analysis)), e fatores latentes (*latent factor models*), tais como [*Singular-Value Decomposition (SVD)*](https://en.wikipedia.org/wiki/Singular-value_decomposition) e [*probabilistic latent semantic analysis*](https://en.wikipedia.org/wiki/Probabilistic_latent_semantic_analysis).\n",
    "\n",
    "Independentemente da estratégia, as abordagens de filtragem colaborativa usam uma representação matricial dos *ratings* de usuários em itens para computar os *ratings* ausentes. Abaixo criaremos uma matriz de usuário-itens, onde nas linhas temos usuários, nas colunas itens e em cada célula da matriz o *rating* de usuários em itens:"
   ]
  },
  {
   "cell_type": "code",
   "execution_count": 151,
   "metadata": {
    "colab": {
     "autoexec": {
      "startup": false,
      "wait_interval": 0
     },
     "base_uri": "https://localhost:8080/",
     "height": 136
    },
    "colab_type": "code",
    "executionInfo": {
     "elapsed": 907,
     "status": "ok",
     "timestamp": 1528912202927,
     "user": {
      "displayName": "Wladmir Cardoso Brandão",
      "photoUrl": "//lh5.googleusercontent.com/-SGSelMTRK_4/AAAAAAAAAAI/AAAAAAABeK0/PmbiLSnzkAE/s50-c-k-no/photo.jpg",
      "userId": "103335929661169749259"
     },
     "user_tz": 180
    },
    "id": "jmaIAfNz06dU",
    "outputId": "6326d8f3-44a6-406f-c389-d1cd24a54e5b"
   },
   "outputs": [
    {
     "name": "stderr",
     "output_type": "stream",
     "text": [
      "C:\\Anaconda3\\lib\\site-packages\\ipykernel_launcher.py:3: FutureWarning: Method .as_matrix will be removed in a future version. Use .values instead.\n",
      "  This is separate from the ipykernel package so we can avoid doing imports until\n"
     ]
    },
    {
     "data": {
      "text/plain": [
       "array([[5., 0., 5., ..., 0., 0., 0.],\n",
       "       [0., 0., 0., ..., 0., 0., 0.],\n",
       "       [0., 0., 0., ..., 0., 0., 0.],\n",
       "       ...,\n",
       "       [0., 0., 0., ..., 0., 0., 0.],\n",
       "       [0., 0., 0., ..., 0., 0., 0.],\n",
       "       [0., 0., 0., ..., 0., 0., 0.]])"
      ]
     },
     "execution_count": 151,
     "metadata": {},
     "output_type": "execute_result"
    }
   ],
   "source": [
    "#Creating a sparse pivot users-items table\n",
    "usersItemsDF = interactions_from_selected_users_df.pivot(index='UserID',columns='BookID').BookRating.fillna(0)\n",
    "usersItemsMatrix = usersItemsDF.as_matrix()\n",
    "usersItemsMatrix[:10]"
   ]
  },
  {
   "cell_type": "markdown",
   "metadata": {
    "colab_type": "text",
    "id": "IY8RgQ-GjNSa"
   },
   "source": [
    "Com base na representação matricial de *ratings* de usuários em itens, podemos extrair informação sobre usuários e itens, tal como a lista de todos os usuários que atribuíram *rating* a itens:"
   ]
  },
  {
   "cell_type": "code",
   "execution_count": 152,
   "metadata": {
    "colab": {
     "autoexec": {
      "startup": false,
      "wait_interval": 0
     },
     "base_uri": "https://localhost:8080/",
     "height": 34
    },
    "colab_type": "code",
    "executionInfo": {
     "elapsed": 667,
     "status": "ok",
     "timestamp": 1528912208230,
     "user": {
      "displayName": "Wladmir Cardoso Brandão",
      "photoUrl": "//lh5.googleusercontent.com/-SGSelMTRK_4/AAAAAAAAAAI/AAAAAAABeK0/PmbiLSnzkAE/s50-c-k-no/photo.jpg",
      "userId": "103335929661169749259"
     },
     "user_tz": 180
    },
    "id": "_z6yaobgIEJ2",
    "outputId": "749c86d0-ce2d-4f2b-eea0-3fe073cec557"
   },
   "outputs": [
    {
     "data": {
      "text/plain": [
       "[8, 242, 243, 254, 383, 388, 392, 446, 505, 507]"
      ]
     },
     "execution_count": 152,
     "metadata": {},
     "output_type": "execute_result"
    }
   ],
   "source": [
    "usersIds = list(usersItemsDF.index)\n",
    "usersIds[:10]"
   ]
  },
  {
   "cell_type": "markdown",
   "metadata": {
    "colab_type": "text",
    "id": "YFZYlw8wjnwp"
   },
   "source": [
    "A partir daí podemos implementar a abordagem de filtragem colaborativa para recomendação:"
   ]
  },
  {
   "cell_type": "code",
   "execution_count": 153,
   "metadata": {
    "colab": {
     "autoexec": {
      "startup": false,
      "wait_interval": 0
     }
    },
    "colab_type": "code",
    "id": "edahl4hH-4LG"
   },
   "outputs": [],
   "source": [
    "class CFRecommender:\n",
    "      \n",
    "    def __init__(self, modelName, CFPredictionsDF, itemsDF=None):\n",
    "        self.modelName = modelName\n",
    "        self.CFPredictionsDF = CFPredictionsDF\n",
    "        self.itemsDF = itemsDF\n",
    "        \n",
    "    def getModelName(self):\n",
    "        return self.modelName\n",
    "        \n",
    "    def recommend(self, user_id, items_to_ignore=[], topn=10, verbose=False):\n",
    "        # Get and sort the user's predictions\n",
    "        sorted_user_predictions = self.CFPredictionsDF[user_id].sort_values(ascending=False) \\\n",
    "                                  .reset_index().rename(columns={user_id: 'Score'})\n",
    "        # Recommend the highest predicted rating movies that the user hasn't seen yet.\n",
    "        recommendationsDF = sorted_user_predictions[~sorted_user_predictions['BookID'].isin(items_to_ignore)] \\\n",
    "                            .sort_values('Score', ascending = False) \\\n",
    "                            .head(topn)\n",
    "        if verbose:\n",
    "            if self.itemsDF is None:\n",
    "                raise Exception('The items data frame (itemsDF) is required in verbose mode')\n",
    "            recommendationsDF = recommendationsDF.merge(self.itemsDF, how = 'left', \n",
    "                                                        left_on = 'BookID', \n",
    "                                                        right_on = 'BookID')[['BookID', 'BookTitle', 'Score']]\n",
    "        return recommendationsDF"
   ]
  },
  {
   "cell_type": "markdown",
   "metadata": {
    "colab_type": "text",
    "id": "_neIowLqw4F_"
   },
   "source": [
    "#### Baseada em Usuário\n",
    "Estratégias de filtragem colaborativa baseadas em usuário utilizam os *ratings* de usuários similares a um usuário alvo para estimarem o interesse desse usuário alvo a itens que ele não atribuiu *rating*. Uma métrica de distância comumente utilizada para cálculo de similaridade é o coseno. Nesse caso, usuários são representados como vetores em um espaço $n$-dimensional e a similaridade entre eles é calculada usando o coseno do ângulo entre os vetores:"
   ]
  },
  {
   "cell_type": "code",
   "execution_count": 154,
   "metadata": {
    "colab": {
     "autoexec": {
      "startup": false,
      "wait_interval": 0
     }
    },
    "colab_type": "code",
    "id": "-RYC5rUvz0kA"
   },
   "outputs": [],
   "source": [
    "usersSimilarity = pairwise_distances(usersItemsMatrix, metric='cosine')"
   ]
  },
  {
   "cell_type": "markdown",
   "metadata": {
    "colab_type": "text",
    "id": "-PRKn3OQlgik"
   },
   "source": [
    "Uma vez calculada as similaridades entre usuários, podemos utiliza-las para computar as predições de *ratings* ausentes, estimando assim os *ratings* que usuários atribuiriam a itens ainda sem *rating*:"
   ]
  },
  {
   "cell_type": "code",
   "execution_count": 155,
   "metadata": {
    "colab": {
     "autoexec": {
      "startup": false,
      "wait_interval": 0
     },
     "base_uri": "https://localhost:8080/",
     "height": 284
    },
    "colab_type": "code",
    "executionInfo": {
     "elapsed": 661,
     "status": "ok",
     "timestamp": 1528912220391,
     "user": {
      "displayName": "Wladmir Cardoso Brandão",
      "photoUrl": "//lh5.googleusercontent.com/-SGSelMTRK_4/AAAAAAAAAAI/AAAAAAABeK0/PmbiLSnzkAE/s50-c-k-no/photo.jpg",
      "userId": "103335929661169749259"
     },
     "user_tz": 180
    },
    "id": "xPdLZGpx35FR",
    "outputId": "0efdd53c-4e74-45c0-c388-dd3c5c742007"
   },
   "outputs": [
    {
     "data": {
      "text/html": [
       "<div>\n",
       "<style scoped>\n",
       "    .dataframe tbody tr th:only-of-type {\n",
       "        vertical-align: middle;\n",
       "    }\n",
       "\n",
       "    .dataframe tbody tr th {\n",
       "        vertical-align: top;\n",
       "    }\n",
       "\n",
       "    .dataframe thead th {\n",
       "        text-align: right;\n",
       "    }\n",
       "</style>\n",
       "<table border=\"1\" class=\"dataframe\">\n",
       "  <thead>\n",
       "    <tr style=\"text-align: right;\">\n",
       "      <th></th>\n",
       "      <th>8</th>\n",
       "      <th>242</th>\n",
       "      <th>243</th>\n",
       "      <th>254</th>\n",
       "      <th>383</th>\n",
       "      <th>388</th>\n",
       "      <th>392</th>\n",
       "      <th>446</th>\n",
       "      <th>505</th>\n",
       "      <th>507</th>\n",
       "      <th>...</th>\n",
       "      <th>275970</th>\n",
       "      <th>276018</th>\n",
       "      <th>276463</th>\n",
       "      <th>276670</th>\n",
       "      <th>276925</th>\n",
       "      <th>276929</th>\n",
       "      <th>276994</th>\n",
       "      <th>277427</th>\n",
       "      <th>278144</th>\n",
       "      <th>278418</th>\n",
       "    </tr>\n",
       "    <tr>\n",
       "      <th>BookID</th>\n",
       "      <th></th>\n",
       "      <th></th>\n",
       "      <th></th>\n",
       "      <th></th>\n",
       "      <th></th>\n",
       "      <th></th>\n",
       "      <th></th>\n",
       "      <th></th>\n",
       "      <th></th>\n",
       "      <th></th>\n",
       "      <th></th>\n",
       "      <th></th>\n",
       "      <th></th>\n",
       "      <th></th>\n",
       "      <th></th>\n",
       "      <th></th>\n",
       "      <th></th>\n",
       "      <th></th>\n",
       "      <th></th>\n",
       "      <th></th>\n",
       "      <th></th>\n",
       "    </tr>\n",
       "  </thead>\n",
       "  <tbody>\n",
       "    <tr>\n",
       "      <th>10</th>\n",
       "      <td>0.000</td>\n",
       "      <td>0.088</td>\n",
       "      <td>-0.005</td>\n",
       "      <td>-0.002</td>\n",
       "      <td>-0.009</td>\n",
       "      <td>0.006</td>\n",
       "      <td>0.020</td>\n",
       "      <td>-0.003</td>\n",
       "      <td>0.005</td>\n",
       "      <td>-0.008</td>\n",
       "      <td>...</td>\n",
       "      <td>0.014</td>\n",
       "      <td>-0.002</td>\n",
       "      <td>0.001</td>\n",
       "      <td>-0.008</td>\n",
       "      <td>-0.007</td>\n",
       "      <td>-0.004</td>\n",
       "      <td>0.004</td>\n",
       "      <td>-0.008</td>\n",
       "      <td>-0.012</td>\n",
       "      <td>-0.005</td>\n",
       "    </tr>\n",
       "    <tr>\n",
       "      <th>12</th>\n",
       "      <td>0.000</td>\n",
       "      <td>0.085</td>\n",
       "      <td>-0.009</td>\n",
       "      <td>-0.006</td>\n",
       "      <td>-0.013</td>\n",
       "      <td>0.003</td>\n",
       "      <td>0.017</td>\n",
       "      <td>-0.007</td>\n",
       "      <td>0.002</td>\n",
       "      <td>-0.012</td>\n",
       "      <td>...</td>\n",
       "      <td>0.011</td>\n",
       "      <td>-0.006</td>\n",
       "      <td>-0.002</td>\n",
       "      <td>-0.011</td>\n",
       "      <td>-0.010</td>\n",
       "      <td>-0.007</td>\n",
       "      <td>0.000</td>\n",
       "      <td>-0.011</td>\n",
       "      <td>-0.016</td>\n",
       "      <td>-0.009</td>\n",
       "    </tr>\n",
       "    <tr>\n",
       "      <th>14</th>\n",
       "      <td>0.000</td>\n",
       "      <td>0.088</td>\n",
       "      <td>-0.005</td>\n",
       "      <td>-0.002</td>\n",
       "      <td>-0.009</td>\n",
       "      <td>0.006</td>\n",
       "      <td>0.020</td>\n",
       "      <td>-0.003</td>\n",
       "      <td>0.005</td>\n",
       "      <td>-0.008</td>\n",
       "      <td>...</td>\n",
       "      <td>0.014</td>\n",
       "      <td>-0.002</td>\n",
       "      <td>0.001</td>\n",
       "      <td>-0.008</td>\n",
       "      <td>-0.007</td>\n",
       "      <td>-0.004</td>\n",
       "      <td>0.004</td>\n",
       "      <td>-0.008</td>\n",
       "      <td>-0.012</td>\n",
       "      <td>-0.005</td>\n",
       "    </tr>\n",
       "    <tr>\n",
       "      <th>15</th>\n",
       "      <td>0.000</td>\n",
       "      <td>0.085</td>\n",
       "      <td>-0.009</td>\n",
       "      <td>-0.006</td>\n",
       "      <td>-0.013</td>\n",
       "      <td>0.003</td>\n",
       "      <td>0.017</td>\n",
       "      <td>-0.007</td>\n",
       "      <td>0.002</td>\n",
       "      <td>-0.012</td>\n",
       "      <td>...</td>\n",
       "      <td>0.011</td>\n",
       "      <td>-0.006</td>\n",
       "      <td>-0.002</td>\n",
       "      <td>-0.011</td>\n",
       "      <td>-0.010</td>\n",
       "      <td>-0.007</td>\n",
       "      <td>0.000</td>\n",
       "      <td>-0.011</td>\n",
       "      <td>-0.016</td>\n",
       "      <td>-0.009</td>\n",
       "    </tr>\n",
       "    <tr>\n",
       "      <th>16</th>\n",
       "      <td>0.000</td>\n",
       "      <td>0.089</td>\n",
       "      <td>-0.005</td>\n",
       "      <td>-0.002</td>\n",
       "      <td>-0.009</td>\n",
       "      <td>0.007</td>\n",
       "      <td>0.021</td>\n",
       "      <td>-0.003</td>\n",
       "      <td>0.006</td>\n",
       "      <td>-0.008</td>\n",
       "      <td>...</td>\n",
       "      <td>0.015</td>\n",
       "      <td>-0.002</td>\n",
       "      <td>0.002</td>\n",
       "      <td>-0.007</td>\n",
       "      <td>-0.006</td>\n",
       "      <td>-0.003</td>\n",
       "      <td>0.004</td>\n",
       "      <td>-0.007</td>\n",
       "      <td>-0.012</td>\n",
       "      <td>-0.005</td>\n",
       "    </tr>\n",
       "    <tr>\n",
       "      <th>17</th>\n",
       "      <td>0.000</td>\n",
       "      <td>0.089</td>\n",
       "      <td>-0.005</td>\n",
       "      <td>-0.002</td>\n",
       "      <td>-0.009</td>\n",
       "      <td>0.007</td>\n",
       "      <td>0.021</td>\n",
       "      <td>-0.003</td>\n",
       "      <td>0.006</td>\n",
       "      <td>-0.008</td>\n",
       "      <td>...</td>\n",
       "      <td>0.015</td>\n",
       "      <td>-0.002</td>\n",
       "      <td>0.002</td>\n",
       "      <td>-0.007</td>\n",
       "      <td>-0.006</td>\n",
       "      <td>-0.003</td>\n",
       "      <td>0.004</td>\n",
       "      <td>-0.007</td>\n",
       "      <td>-0.012</td>\n",
       "      <td>-0.005</td>\n",
       "    </tr>\n",
       "    <tr>\n",
       "      <th>18</th>\n",
       "      <td>0.000</td>\n",
       "      <td>0.089</td>\n",
       "      <td>-0.004</td>\n",
       "      <td>-0.001</td>\n",
       "      <td>-0.008</td>\n",
       "      <td>0.008</td>\n",
       "      <td>0.021</td>\n",
       "      <td>-0.002</td>\n",
       "      <td>0.007</td>\n",
       "      <td>-0.007</td>\n",
       "      <td>...</td>\n",
       "      <td>0.016</td>\n",
       "      <td>-0.001</td>\n",
       "      <td>0.002</td>\n",
       "      <td>-0.006</td>\n",
       "      <td>-0.005</td>\n",
       "      <td>-0.003</td>\n",
       "      <td>0.005</td>\n",
       "      <td>-0.006</td>\n",
       "      <td>-0.011</td>\n",
       "      <td>-0.004</td>\n",
       "    </tr>\n",
       "    <tr>\n",
       "      <th>23</th>\n",
       "      <td>0.000</td>\n",
       "      <td>0.085</td>\n",
       "      <td>-0.009</td>\n",
       "      <td>-0.006</td>\n",
       "      <td>-0.013</td>\n",
       "      <td>0.003</td>\n",
       "      <td>0.017</td>\n",
       "      <td>-0.007</td>\n",
       "      <td>0.002</td>\n",
       "      <td>-0.012</td>\n",
       "      <td>...</td>\n",
       "      <td>0.011</td>\n",
       "      <td>-0.006</td>\n",
       "      <td>-0.002</td>\n",
       "      <td>-0.011</td>\n",
       "      <td>-0.010</td>\n",
       "      <td>-0.007</td>\n",
       "      <td>0.000</td>\n",
       "      <td>-0.011</td>\n",
       "      <td>-0.016</td>\n",
       "      <td>-0.009</td>\n",
       "    </tr>\n",
       "    <tr>\n",
       "      <th>41</th>\n",
       "      <td>0.006</td>\n",
       "      <td>0.090</td>\n",
       "      <td>-0.003</td>\n",
       "      <td>-0.000</td>\n",
       "      <td>-0.007</td>\n",
       "      <td>0.008</td>\n",
       "      <td>0.022</td>\n",
       "      <td>-0.001</td>\n",
       "      <td>0.007</td>\n",
       "      <td>-0.006</td>\n",
       "      <td>...</td>\n",
       "      <td>0.016</td>\n",
       "      <td>-0.000</td>\n",
       "      <td>0.003</td>\n",
       "      <td>-0.006</td>\n",
       "      <td>-0.005</td>\n",
       "      <td>-0.002</td>\n",
       "      <td>0.006</td>\n",
       "      <td>-0.006</td>\n",
       "      <td>-0.010</td>\n",
       "      <td>-0.003</td>\n",
       "    </tr>\n",
       "    <tr>\n",
       "      <th>42</th>\n",
       "      <td>0.000</td>\n",
       "      <td>0.085</td>\n",
       "      <td>-0.009</td>\n",
       "      <td>-0.006</td>\n",
       "      <td>-0.013</td>\n",
       "      <td>0.003</td>\n",
       "      <td>0.017</td>\n",
       "      <td>-0.007</td>\n",
       "      <td>0.002</td>\n",
       "      <td>-0.012</td>\n",
       "      <td>...</td>\n",
       "      <td>0.011</td>\n",
       "      <td>-0.006</td>\n",
       "      <td>-0.002</td>\n",
       "      <td>-0.011</td>\n",
       "      <td>-0.010</td>\n",
       "      <td>-0.007</td>\n",
       "      <td>0.000</td>\n",
       "      <td>-0.011</td>\n",
       "      <td>-0.016</td>\n",
       "      <td>-0.009</td>\n",
       "    </tr>\n",
       "  </tbody>\n",
       "</table>\n",
       "<p>10 rows × 1510 columns</p>\n",
       "</div>"
      ],
      "text/plain": [
       "        8       242     243     254     383     388     392     446     \\\n",
       "BookID                                                                   \n",
       "10       0.000   0.088  -0.005  -0.002  -0.009   0.006   0.020  -0.003   \n",
       "12       0.000   0.085  -0.009  -0.006  -0.013   0.003   0.017  -0.007   \n",
       "14       0.000   0.088  -0.005  -0.002  -0.009   0.006   0.020  -0.003   \n",
       "15       0.000   0.085  -0.009  -0.006  -0.013   0.003   0.017  -0.007   \n",
       "16       0.000   0.089  -0.005  -0.002  -0.009   0.007   0.021  -0.003   \n",
       "17       0.000   0.089  -0.005  -0.002  -0.009   0.007   0.021  -0.003   \n",
       "18       0.000   0.089  -0.004  -0.001  -0.008   0.008   0.021  -0.002   \n",
       "23       0.000   0.085  -0.009  -0.006  -0.013   0.003   0.017  -0.007   \n",
       "41       0.006   0.090  -0.003  -0.000  -0.007   0.008   0.022  -0.001   \n",
       "42       0.000   0.085  -0.009  -0.006  -0.013   0.003   0.017  -0.007   \n",
       "\n",
       "        505     507      ...    275970  276018  276463  276670  276925  \\\n",
       "BookID                   ...                                             \n",
       "10       0.005  -0.008   ...     0.014  -0.002   0.001  -0.008  -0.007   \n",
       "12       0.002  -0.012   ...     0.011  -0.006  -0.002  -0.011  -0.010   \n",
       "14       0.005  -0.008   ...     0.014  -0.002   0.001  -0.008  -0.007   \n",
       "15       0.002  -0.012   ...     0.011  -0.006  -0.002  -0.011  -0.010   \n",
       "16       0.006  -0.008   ...     0.015  -0.002   0.002  -0.007  -0.006   \n",
       "17       0.006  -0.008   ...     0.015  -0.002   0.002  -0.007  -0.006   \n",
       "18       0.007  -0.007   ...     0.016  -0.001   0.002  -0.006  -0.005   \n",
       "23       0.002  -0.012   ...     0.011  -0.006  -0.002  -0.011  -0.010   \n",
       "41       0.007  -0.006   ...     0.016  -0.000   0.003  -0.006  -0.005   \n",
       "42       0.002  -0.012   ...     0.011  -0.006  -0.002  -0.011  -0.010   \n",
       "\n",
       "        276929  276994  277427  278144  278418  \n",
       "BookID                                          \n",
       "10      -0.004   0.004  -0.008  -0.012  -0.005  \n",
       "12      -0.007   0.000  -0.011  -0.016  -0.009  \n",
       "14      -0.004   0.004  -0.008  -0.012  -0.005  \n",
       "15      -0.007   0.000  -0.011  -0.016  -0.009  \n",
       "16      -0.003   0.004  -0.007  -0.012  -0.005  \n",
       "17      -0.003   0.004  -0.007  -0.012  -0.005  \n",
       "18      -0.003   0.005  -0.006  -0.011  -0.004  \n",
       "23      -0.007   0.000  -0.011  -0.016  -0.009  \n",
       "41      -0.002   0.006  -0.006  -0.010  -0.003  \n",
       "42      -0.007   0.000  -0.011  -0.016  -0.009  \n",
       "\n",
       "[10 rows x 1510 columns]"
      ]
     },
     "execution_count": 155,
     "metadata": {},
     "output_type": "execute_result"
    }
   ],
   "source": [
    "meanUserRating = usersItemsMatrix.mean(axis=1)\n",
    "DiffRating = (usersItemsMatrix - meanUserRating[:, np.newaxis])\n",
    "predictedRatings = meanUserRating[:, np.newaxis] + usersSimilarity.dot(DiffRating) / np.array([np.abs(usersSimilarity).sum(axis=1)]).T\n",
    "CFPredictionsDF = pd.DataFrame(predictedRatings, columns = usersItemsDF.columns, index=usersIds).transpose()\n",
    "CFPredictionsDF.head(10)"
   ]
  },
  {
   "cell_type": "markdown",
   "metadata": {
    "colab_type": "text",
    "id": "W8j685Y06h2u"
   },
   "source": [
    "Finalmente, vamos conferir as recomendações oferecidas pela abordagem para um usuário específico de nossa base de dados:"
   ]
  },
  {
   "cell_type": "code",
   "execution_count": 156,
   "metadata": {
    "colab": {
     "autoexec": {
      "startup": false,
      "wait_interval": 0
     }
    },
    "colab_type": "code",
    "id": "YvBh5vAk3GWR"
   },
   "outputs": [],
   "source": [
    "UBModel = CFRecommender('CF-UB',CFPredictionsDF, items)"
   ]
  },
  {
   "cell_type": "code",
   "execution_count": 157,
   "metadata": {
    "colab": {
     "autoexec": {
      "startup": false,
      "wait_interval": 0
     },
     "base_uri": "https://localhost:8080/",
     "height": 204
    },
    "colab_type": "code",
    "executionInfo": {
     "elapsed": 659,
     "status": "ok",
     "timestamp": 1528912228023,
     "user": {
      "displayName": "Wladmir Cardoso Brandão",
      "photoUrl": "//lh5.googleusercontent.com/-SGSelMTRK_4/AAAAAAAAAAI/AAAAAAABeK0/PmbiLSnzkAE/s50-c-k-no/photo.jpg",
      "userId": "103335929661169749259"
     },
     "user_tz": 180
    },
    "id": "trWSqhDchNwp",
    "outputId": "9c6076cd-d3f3-42e1-f762-6243b11d7528"
   },
   "outputs": [
    {
     "data": {
      "text/html": [
       "<div>\n",
       "<style scoped>\n",
       "    .dataframe tbody tr th:only-of-type {\n",
       "        vertical-align: middle;\n",
       "    }\n",
       "\n",
       "    .dataframe tbody tr th {\n",
       "        vertical-align: top;\n",
       "    }\n",
       "\n",
       "    .dataframe thead th {\n",
       "        text-align: right;\n",
       "    }\n",
       "</style>\n",
       "<table border=\"1\" class=\"dataframe\">\n",
       "  <thead>\n",
       "    <tr style=\"text-align: right;\">\n",
       "      <th></th>\n",
       "      <th>BookID</th>\n",
       "      <th>BookTitle</th>\n",
       "      <th>Score</th>\n",
       "    </tr>\n",
       "  </thead>\n",
       "  <tbody>\n",
       "    <tr>\n",
       "      <th>0</th>\n",
       "      <td>2144</td>\n",
       "      <td>Harry Potter and the Sorcerer's Stone (Harry P...</td>\n",
       "      <td>0.703</td>\n",
       "    </tr>\n",
       "    <tr>\n",
       "      <th>1</th>\n",
       "      <td>5507</td>\n",
       "      <td>Harry Potter and the Order of the Phoenix (Boo...</td>\n",
       "      <td>0.568</td>\n",
       "    </tr>\n",
       "    <tr>\n",
       "      <th>2</th>\n",
       "      <td>457</td>\n",
       "      <td>The Firm</td>\n",
       "      <td>0.491</td>\n",
       "    </tr>\n",
       "    <tr>\n",
       "      <th>3</th>\n",
       "      <td>1407</td>\n",
       "      <td>The No. 1 Ladies' Detective Agency (Today Show...</td>\n",
       "      <td>0.399</td>\n",
       "    </tr>\n",
       "    <tr>\n",
       "      <th>4</th>\n",
       "      <td>306</td>\n",
       "      <td>A Painted House</td>\n",
       "      <td>0.370</td>\n",
       "    </tr>\n",
       "    <tr>\n",
       "      <th>5</th>\n",
       "      <td>1923</td>\n",
       "      <td>Snow Falling on Cedars</td>\n",
       "      <td>0.368</td>\n",
       "    </tr>\n",
       "    <tr>\n",
       "      <th>6</th>\n",
       "      <td>5580</td>\n",
       "      <td>Tears of the Giraffe (No.1 Ladies Detective Ag...</td>\n",
       "      <td>0.359</td>\n",
       "    </tr>\n",
       "    <tr>\n",
       "      <th>7</th>\n",
       "      <td>4181</td>\n",
       "      <td>The Bridges of Madison County</td>\n",
       "      <td>0.349</td>\n",
       "    </tr>\n",
       "    <tr>\n",
       "      <th>8</th>\n",
       "      <td>5071</td>\n",
       "      <td>Bridget Jones's Diary</td>\n",
       "      <td>0.324</td>\n",
       "    </tr>\n",
       "    <tr>\n",
       "      <th>9</th>\n",
       "      <td>3235</td>\n",
       "      <td>A Child Called \\It\\\": One Child's Courage to S...</td>\n",
       "      <td>0.307</td>\n",
       "    </tr>\n",
       "  </tbody>\n",
       "</table>\n",
       "</div>"
      ],
      "text/plain": [
       "   BookID                                          BookTitle  Score\n",
       "0    2144  Harry Potter and the Sorcerer's Stone (Harry P...  0.703\n",
       "1    5507  Harry Potter and the Order of the Phoenix (Boo...  0.568\n",
       "2     457                                           The Firm  0.491\n",
       "3    1407  The No. 1 Ladies' Detective Agency (Today Show...  0.399\n",
       "4     306                                    A Painted House  0.370\n",
       "5    1923                             Snow Falling on Cedars  0.368\n",
       "6    5580  Tears of the Giraffe (No.1 Ladies Detective Ag...  0.359\n",
       "7    4181                      The Bridges of Madison County  0.349\n",
       "8    5071                              Bridget Jones's Diary  0.324\n",
       "9    3235  A Child Called \\It\\\": One Child's Courage to S...  0.307"
      ]
     },
     "execution_count": 157,
     "metadata": {},
     "output_type": "execute_result"
    }
   ],
   "source": [
    "recommendedItensUB = UBModel.recommend(4017, topn=10, verbose=True)\n",
    "recommendedItensUB.sort_values(ascending=False,by=['Score']).head(10)"
   ]
  },
  {
   "cell_type": "markdown",
   "metadata": {
    "colab_type": "text",
    "id": "HwClk-JAxDyI"
   },
   "source": [
    "#### Baseada em Item\n",
    "Estratégias de filtragem colaborativa baseadas em item utilizam os *ratings* que o usuário atribuiu a diversos itens para estimarem o interesse do usuário a itens semelhantes aos que ele atribuiu melhores *ratings*. Similarmente à estratégia baseada em usuário, podemos utilizar a distância por coseno para calcular a similaridade entre itens:"
   ]
  },
  {
   "cell_type": "code",
   "execution_count": 158,
   "metadata": {
    "colab": {
     "autoexec": {
      "startup": false,
      "wait_interval": 0
     }
    },
    "colab_type": "code",
    "id": "NJGEp6uryyxg"
   },
   "outputs": [],
   "source": [
    "itemsSimilarity = pairwise_distances(usersItemsMatrix.T, metric='cosine')"
   ]
  },
  {
   "cell_type": "markdown",
   "metadata": {
    "colab_type": "text",
    "id": "sL2ZgVtjm8Lv"
   },
   "source": [
    "Tal como na estratégia baseada em usuário, uma vez que calculada as similaridades entre itens, podemos utiliza-las para computar as predições de *ratings* ausentes, estimando assim os *ratings* que usuários atribuiriam a itens ainda sem *rating*:"
   ]
  },
  {
   "cell_type": "code",
   "execution_count": 159,
   "metadata": {
    "colab": {
     "autoexec": {
      "startup": false,
      "wait_interval": 0
     },
     "base_uri": "https://localhost:8080/",
     "height": 284
    },
    "colab_type": "code",
    "executionInfo": {
     "elapsed": 920,
     "status": "ok",
     "timestamp": 1528912237011,
     "user": {
      "displayName": "Wladmir Cardoso Brandão",
      "photoUrl": "//lh5.googleusercontent.com/-SGSelMTRK_4/AAAAAAAAAAI/AAAAAAABeK0/PmbiLSnzkAE/s50-c-k-no/photo.jpg",
      "userId": "103335929661169749259"
     },
     "user_tz": 180
    },
    "id": "4mzBmMOr8u6P",
    "outputId": "10498c7e-3ad9-44bb-8ae9-ab41cacf6315"
   },
   "outputs": [
    {
     "data": {
      "text/html": [
       "<div>\n",
       "<style scoped>\n",
       "    .dataframe tbody tr th:only-of-type {\n",
       "        vertical-align: middle;\n",
       "    }\n",
       "\n",
       "    .dataframe tbody tr th {\n",
       "        vertical-align: top;\n",
       "    }\n",
       "\n",
       "    .dataframe thead th {\n",
       "        text-align: right;\n",
       "    }\n",
       "</style>\n",
       "<table border=\"1\" class=\"dataframe\">\n",
       "  <thead>\n",
       "    <tr style=\"text-align: right;\">\n",
       "      <th></th>\n",
       "      <th>8</th>\n",
       "      <th>242</th>\n",
       "      <th>243</th>\n",
       "      <th>254</th>\n",
       "      <th>383</th>\n",
       "      <th>388</th>\n",
       "      <th>392</th>\n",
       "      <th>446</th>\n",
       "      <th>505</th>\n",
       "      <th>507</th>\n",
       "      <th>...</th>\n",
       "      <th>275970</th>\n",
       "      <th>276018</th>\n",
       "      <th>276463</th>\n",
       "      <th>276670</th>\n",
       "      <th>276925</th>\n",
       "      <th>276929</th>\n",
       "      <th>276994</th>\n",
       "      <th>277427</th>\n",
       "      <th>278144</th>\n",
       "      <th>278418</th>\n",
       "    </tr>\n",
       "    <tr>\n",
       "      <th>BookID</th>\n",
       "      <th></th>\n",
       "      <th></th>\n",
       "      <th></th>\n",
       "      <th></th>\n",
       "      <th></th>\n",
       "      <th></th>\n",
       "      <th></th>\n",
       "      <th></th>\n",
       "      <th></th>\n",
       "      <th></th>\n",
       "      <th></th>\n",
       "      <th></th>\n",
       "      <th></th>\n",
       "      <th></th>\n",
       "      <th></th>\n",
       "      <th></th>\n",
       "      <th></th>\n",
       "      <th></th>\n",
       "      <th></th>\n",
       "      <th></th>\n",
       "      <th></th>\n",
       "    </tr>\n",
       "  </thead>\n",
       "  <tbody>\n",
       "    <tr>\n",
       "      <th>10</th>\n",
       "      <td>0.000</td>\n",
       "      <td>0.100</td>\n",
       "      <td>0.007</td>\n",
       "      <td>0.010</td>\n",
       "      <td>0.003</td>\n",
       "      <td>0.019</td>\n",
       "      <td>0.032</td>\n",
       "      <td>0.009</td>\n",
       "      <td>0.018</td>\n",
       "      <td>0.004</td>\n",
       "      <td>...</td>\n",
       "      <td>0.026</td>\n",
       "      <td>0.010</td>\n",
       "      <td>0.013</td>\n",
       "      <td>0.004</td>\n",
       "      <td>0.005</td>\n",
       "      <td>0.008</td>\n",
       "      <td>0.016</td>\n",
       "      <td>0.004</td>\n",
       "      <td>0.000</td>\n",
       "      <td>0.007</td>\n",
       "    </tr>\n",
       "    <tr>\n",
       "      <th>12</th>\n",
       "      <td>0.016</td>\n",
       "      <td>0.100</td>\n",
       "      <td>0.007</td>\n",
       "      <td>0.010</td>\n",
       "      <td>0.003</td>\n",
       "      <td>0.019</td>\n",
       "      <td>0.032</td>\n",
       "      <td>0.009</td>\n",
       "      <td>0.018</td>\n",
       "      <td>0.004</td>\n",
       "      <td>...</td>\n",
       "      <td>0.026</td>\n",
       "      <td>0.010</td>\n",
       "      <td>0.013</td>\n",
       "      <td>0.004</td>\n",
       "      <td>0.005</td>\n",
       "      <td>0.008</td>\n",
       "      <td>0.016</td>\n",
       "      <td>0.004</td>\n",
       "      <td>0.000</td>\n",
       "      <td>0.007</td>\n",
       "    </tr>\n",
       "    <tr>\n",
       "      <th>14</th>\n",
       "      <td>0.000</td>\n",
       "      <td>0.100</td>\n",
       "      <td>0.007</td>\n",
       "      <td>0.010</td>\n",
       "      <td>0.003</td>\n",
       "      <td>0.019</td>\n",
       "      <td>0.032</td>\n",
       "      <td>0.009</td>\n",
       "      <td>0.018</td>\n",
       "      <td>0.004</td>\n",
       "      <td>...</td>\n",
       "      <td>0.026</td>\n",
       "      <td>0.010</td>\n",
       "      <td>0.013</td>\n",
       "      <td>0.004</td>\n",
       "      <td>0.005</td>\n",
       "      <td>0.008</td>\n",
       "      <td>0.016</td>\n",
       "      <td>0.004</td>\n",
       "      <td>0.000</td>\n",
       "      <td>0.007</td>\n",
       "    </tr>\n",
       "    <tr>\n",
       "      <th>15</th>\n",
       "      <td>0.016</td>\n",
       "      <td>0.100</td>\n",
       "      <td>0.007</td>\n",
       "      <td>0.010</td>\n",
       "      <td>0.003</td>\n",
       "      <td>0.019</td>\n",
       "      <td>0.032</td>\n",
       "      <td>0.009</td>\n",
       "      <td>0.018</td>\n",
       "      <td>0.004</td>\n",
       "      <td>...</td>\n",
       "      <td>0.026</td>\n",
       "      <td>0.010</td>\n",
       "      <td>0.013</td>\n",
       "      <td>0.004</td>\n",
       "      <td>0.005</td>\n",
       "      <td>0.008</td>\n",
       "      <td>0.016</td>\n",
       "      <td>0.004</td>\n",
       "      <td>0.000</td>\n",
       "      <td>0.007</td>\n",
       "    </tr>\n",
       "    <tr>\n",
       "      <th>16</th>\n",
       "      <td>0.000</td>\n",
       "      <td>0.100</td>\n",
       "      <td>0.007</td>\n",
       "      <td>0.010</td>\n",
       "      <td>0.003</td>\n",
       "      <td>0.019</td>\n",
       "      <td>0.032</td>\n",
       "      <td>0.009</td>\n",
       "      <td>0.018</td>\n",
       "      <td>0.004</td>\n",
       "      <td>...</td>\n",
       "      <td>0.026</td>\n",
       "      <td>0.010</td>\n",
       "      <td>0.013</td>\n",
       "      <td>0.004</td>\n",
       "      <td>0.005</td>\n",
       "      <td>0.008</td>\n",
       "      <td>0.016</td>\n",
       "      <td>0.004</td>\n",
       "      <td>0.000</td>\n",
       "      <td>0.007</td>\n",
       "    </tr>\n",
       "  </tbody>\n",
       "</table>\n",
       "<p>5 rows × 1510 columns</p>\n",
       "</div>"
      ],
      "text/plain": [
       "        8       242     243     254     383     388     392     446     \\\n",
       "BookID                                                                   \n",
       "10       0.000   0.100   0.007   0.010   0.003   0.019   0.032   0.009   \n",
       "12       0.016   0.100   0.007   0.010   0.003   0.019   0.032   0.009   \n",
       "14       0.000   0.100   0.007   0.010   0.003   0.019   0.032   0.009   \n",
       "15       0.016   0.100   0.007   0.010   0.003   0.019   0.032   0.009   \n",
       "16       0.000   0.100   0.007   0.010   0.003   0.019   0.032   0.009   \n",
       "\n",
       "        505     507      ...    275970  276018  276463  276670  276925  \\\n",
       "BookID                   ...                                             \n",
       "10       0.018   0.004   ...     0.026   0.010   0.013   0.004   0.005   \n",
       "12       0.018   0.004   ...     0.026   0.010   0.013   0.004   0.005   \n",
       "14       0.018   0.004   ...     0.026   0.010   0.013   0.004   0.005   \n",
       "15       0.018   0.004   ...     0.026   0.010   0.013   0.004   0.005   \n",
       "16       0.018   0.004   ...     0.026   0.010   0.013   0.004   0.005   \n",
       "\n",
       "        276929  276994  277427  278144  278418  \n",
       "BookID                                          \n",
       "10       0.008   0.016   0.004   0.000   0.007  \n",
       "12       0.008   0.016   0.004   0.000   0.007  \n",
       "14       0.008   0.016   0.004   0.000   0.007  \n",
       "15       0.008   0.016   0.004   0.000   0.007  \n",
       "16       0.008   0.016   0.004   0.000   0.007  \n",
       "\n",
       "[5 rows x 1510 columns]"
      ]
     },
     "execution_count": 159,
     "metadata": {},
     "output_type": "execute_result"
    }
   ],
   "source": [
    "predictedRatings = usersItemsMatrix.dot(itemsSimilarity) / np.array([np.abs(itemsSimilarity).sum(axis=1)])\n",
    "CFPredictionsDF = pd.DataFrame(predictedRatings, columns = usersItemsDF.columns, index=usersIds).transpose()\n",
    "CFPredictionsDF.head(5)"
   ]
  },
  {
   "cell_type": "markdown",
   "metadata": {
    "colab_type": "text",
    "id": "ApGegi6f6qrH"
   },
   "source": [
    "Vamos conferir as recomendações oferecidas pela abordagem para um usuário específico de nossa base de dados (usuário teste de número 4017, que possui 48 anos de idade e é morador de New Orleans, estado de Luisiania nos EUA):"
   ]
  },
  {
   "cell_type": "code",
   "execution_count": 160,
   "metadata": {
    "colab": {
     "autoexec": {
      "startup": false,
      "wait_interval": 0
     }
    },
    "colab_type": "code",
    "id": "1bVgNKYq9QF4"
   },
   "outputs": [],
   "source": [
    "IBModel = CFRecommender('CF-IB',CFPredictionsDF, items)"
   ]
  },
  {
   "cell_type": "code",
   "execution_count": 161,
   "metadata": {
    "colab": {
     "autoexec": {
      "startup": false,
      "wait_interval": 0
     },
     "base_uri": "https://localhost:8080/",
     "height": 204
    },
    "colab_type": "code",
    "executionInfo": {
     "elapsed": 673,
     "status": "ok",
     "timestamp": 1528912244787,
     "user": {
      "displayName": "Wladmir Cardoso Brandão",
      "photoUrl": "//lh5.googleusercontent.com/-SGSelMTRK_4/AAAAAAAAAAI/AAAAAAABeK0/PmbiLSnzkAE/s50-c-k-no/photo.jpg",
      "userId": "103335929661169749259"
     },
     "user_tz": 180
    },
    "id": "AvHk47DCiPf0",
    "outputId": "708791e9-a01d-4070-a1ce-a17b50d6decc"
   },
   "outputs": [
    {
     "data": {
      "text/html": [
       "<div>\n",
       "<style scoped>\n",
       "    .dataframe tbody tr th:only-of-type {\n",
       "        vertical-align: middle;\n",
       "    }\n",
       "\n",
       "    .dataframe tbody tr th {\n",
       "        vertical-align: top;\n",
       "    }\n",
       "\n",
       "    .dataframe thead th {\n",
       "        text-align: right;\n",
       "    }\n",
       "</style>\n",
       "<table border=\"1\" class=\"dataframe\">\n",
       "  <thead>\n",
       "    <tr style=\"text-align: right;\">\n",
       "      <th></th>\n",
       "      <th>BookID</th>\n",
       "      <th>BookTitle</th>\n",
       "      <th>Score</th>\n",
       "    </tr>\n",
       "  </thead>\n",
       "  <tbody>\n",
       "    <tr>\n",
       "      <th>0</th>\n",
       "      <td>9620</td>\n",
       "      <td>Lightning</td>\n",
       "      <td>0.095</td>\n",
       "    </tr>\n",
       "    <tr>\n",
       "      <th>1</th>\n",
       "      <td>596</td>\n",
       "      <td>Guilty as Sin</td>\n",
       "      <td>0.095</td>\n",
       "    </tr>\n",
       "    <tr>\n",
       "      <th>2</th>\n",
       "      <td>593</td>\n",
       "      <td>The Partner</td>\n",
       "      <td>0.095</td>\n",
       "    </tr>\n",
       "    <tr>\n",
       "      <th>3</th>\n",
       "      <td>2692</td>\n",
       "      <td>Montana Sky</td>\n",
       "      <td>0.095</td>\n",
       "    </tr>\n",
       "    <tr>\n",
       "      <th>4</th>\n",
       "      <td>1107</td>\n",
       "      <td>She's Come Undone (Oprah's Book Club (Paperback))</td>\n",
       "      <td>0.095</td>\n",
       "    </tr>\n",
       "    <tr>\n",
       "      <th>5</th>\n",
       "      <td>5756</td>\n",
       "      <td>The Villa</td>\n",
       "      <td>0.095</td>\n",
       "    </tr>\n",
       "    <tr>\n",
       "      <th>6</th>\n",
       "      <td>1196</td>\n",
       "      <td>Jurassic Park</td>\n",
       "      <td>0.095</td>\n",
       "    </tr>\n",
       "    <tr>\n",
       "      <th>7</th>\n",
       "      <td>6622</td>\n",
       "      <td>Timeline</td>\n",
       "      <td>0.095</td>\n",
       "    </tr>\n",
       "    <tr>\n",
       "      <th>8</th>\n",
       "      <td>505</td>\n",
       "      <td>The Sky Is Falling</td>\n",
       "      <td>0.095</td>\n",
       "    </tr>\n",
       "    <tr>\n",
       "      <th>9</th>\n",
       "      <td>3792</td>\n",
       "      <td>The Pelican Brief</td>\n",
       "      <td>0.095</td>\n",
       "    </tr>\n",
       "  </tbody>\n",
       "</table>\n",
       "</div>"
      ],
      "text/plain": [
       "   BookID                                          BookTitle  Score\n",
       "0    9620                                          Lightning  0.095\n",
       "1     596                                      Guilty as Sin  0.095\n",
       "2     593                                        The Partner  0.095\n",
       "3    2692                                        Montana Sky  0.095\n",
       "4    1107  She's Come Undone (Oprah's Book Club (Paperback))  0.095\n",
       "5    5756                                          The Villa  0.095\n",
       "6    1196                                      Jurassic Park  0.095\n",
       "7    6622                                           Timeline  0.095\n",
       "8     505                                 The Sky Is Falling  0.095\n",
       "9    3792                                  The Pelican Brief  0.095"
      ]
     },
     "execution_count": 161,
     "metadata": {},
     "output_type": "execute_result"
    }
   ],
   "source": [
    "recommendedItensIB = IBModel.recommend(4017, topn=10, verbose=True)\n",
    "recommendedItensIB.sort_values(ascending=False,by=['Score']).head(10)"
   ]
  },
  {
   "cell_type": "markdown",
   "metadata": {
    "colab_type": "text",
    "id": "50Xyp9o9H5T2"
   },
   "source": [
    "#### Fatoração de Matriz\n",
    "Modelos de [fatores latentes](https://en.wikipedia.org/wiki/Latent_variable) são capazes de comprimir a matriz usuário-item em uma representação matricial de baixa dimensionalidade. A principal vantagem de se usar essa técnica é a substituição de uma matriz esparsa de alta dimensionalidade por uma matriz densa de baixa dimensionalidade. Essa representação reduzida pode ser tanto utilizada em estratégias baseadas em vizinhança de usuário (*user-based*), quanto em vizinhança de itens (*item-based*). Particularmente, esses modelos tratam o problema de esparsidade melhor que os modelos baseados em memória e os cálculos de similaridade na matriz de baixa dimensionalidade resultante são mais eficientes e escaláveis.\n",
    "\n",
    "Aqui usaremos a implementação [SciPy](https://docs.scipy.org/doc/scipy/reference/generated/scipy.sparse.linalg.svds.html) de um modelo de fatores latentes popular denominado [*Singular-Value Decomposition (SVD)*](https://en.wikipedia.org/wiki/Singular-value_decomposition). Cabe ressaltar que existem diversos *frameworks* para fatoração de matrizes específicos para filtragem colaborativa, como [surprise](https://github.com/NicolasHug/Surprise), [mrec](https://github.com/Mendeley/mrec) e [python-recsys](https://github.com/ocelma/python-recsys). Veja outro [exemplo de SVD para recomendação de filmes](https://beckernick.github.io/matrix-factorization-recommender/).\n",
    "\n",
    "Um importante parâmetro da fatoração é o número de fatores utilizados para fatorar a matriz. Quanto maior o número de fatores, mais precisa será a fatoração para reconstrução da matriz original. Entretanto, se o modelo \"memorizar\" muitos detalhes da matriz original, ele pode perder capacidade de generalização. Em suma, o aumento  do número de fatores aumenta a precisão, enquanto a redução do número de fatores aumenta a capacidade de generalização do modelo. Aqui usaremos 15 fatores:"
   ]
  },
  {
   "cell_type": "code",
   "execution_count": 162,
   "metadata": {
    "colab": {
     "autoexec": {
      "startup": false,
      "wait_interval": 0
     }
    },
    "colab_type": "code",
    "id": "Nbsp-mbbIHBV"
   },
   "outputs": [],
   "source": [
    "U, sigma, Vt = svds(usersItemsMatrix, k=15)\n",
    "sigma = np.diag(sigma)"
   ]
  },
  {
   "cell_type": "code",
   "execution_count": 163,
   "metadata": {
    "colab": {
     "autoexec": {
      "startup": false,
      "wait_interval": 0
     },
     "base_uri": "https://localhost:8080/",
     "height": 34
    },
    "colab_type": "code",
    "executionInfo": {
     "elapsed": 717,
     "status": "ok",
     "timestamp": 1528912253154,
     "user": {
      "displayName": "Wladmir Cardoso Brandão",
      "photoUrl": "//lh5.googleusercontent.com/-SGSelMTRK_4/AAAAAAAAAAI/AAAAAAABeK0/PmbiLSnzkAE/s50-c-k-no/photo.jpg",
      "userId": "103335929661169749259"
     },
     "user_tz": 180
    },
    "id": "WPZZXL5hIKiX",
    "outputId": "0bf6f136-a1c6-499f-a9d0-6c0022726469"
   },
   "outputs": [
    {
     "data": {
      "text/plain": [
       "(1510, 15)"
      ]
     },
     "execution_count": 163,
     "metadata": {},
     "output_type": "execute_result"
    }
   ],
   "source": [
    "U.shape"
   ]
  },
  {
   "cell_type": "code",
   "execution_count": 164,
   "metadata": {
    "colab": {
     "autoexec": {
      "startup": false,
      "wait_interval": 0
     },
     "base_uri": "https://localhost:8080/",
     "height": 34
    },
    "colab_type": "code",
    "executionInfo": {
     "elapsed": 894,
     "status": "ok",
     "timestamp": 1528912256415,
     "user": {
      "displayName": "Wladmir Cardoso Brandão",
      "photoUrl": "//lh5.googleusercontent.com/-SGSelMTRK_4/AAAAAAAAAAI/AAAAAAABeK0/PmbiLSnzkAE/s50-c-k-no/photo.jpg",
      "userId": "103335929661169749259"
     },
     "user_tz": 180
    },
    "id": "As33sgtqIM0_",
    "outputId": "94649311-eac4-4943-a441-a37353a7787d"
   },
   "outputs": [
    {
     "data": {
      "text/plain": [
       "(15, 1827)"
      ]
     },
     "execution_count": 164,
     "metadata": {},
     "output_type": "execute_result"
    }
   ],
   "source": [
    "Vt.shape"
   ]
  },
  {
   "cell_type": "code",
   "execution_count": 165,
   "metadata": {
    "colab": {
     "autoexec": {
      "startup": false,
      "wait_interval": 0
     },
     "base_uri": "https://localhost:8080/",
     "height": 34
    },
    "colab_type": "code",
    "executionInfo": {
     "elapsed": 863,
     "status": "ok",
     "timestamp": 1528912259447,
     "user": {
      "displayName": "Wladmir Cardoso Brandão",
      "photoUrl": "//lh5.googleusercontent.com/-SGSelMTRK_4/AAAAAAAAAAI/AAAAAAABeK0/PmbiLSnzkAE/s50-c-k-no/photo.jpg",
      "userId": "103335929661169749259"
     },
     "user_tz": 180
    },
    "id": "t1mQIXOdIPUH",
    "outputId": "51c2d85b-9ad3-467d-ba6f-c2221be8fcfc"
   },
   "outputs": [
    {
     "data": {
      "text/plain": [
       "(15, 15)"
      ]
     },
     "execution_count": 165,
     "metadata": {},
     "output_type": "execute_result"
    }
   ],
   "source": [
    "sigma.shape"
   ]
  },
  {
   "cell_type": "markdown",
   "metadata": {
    "colab_type": "text",
    "id": "ObnNX4xnIRwf"
   },
   "source": [
    "Após a fatoração matricial, podemos reconstruir a matriz original através da multiplicação de seus fatores. A matriz resultante será uma aproximação da matriz original, porém não será mais tão esparsa, apresentando valores para itens sobre os quais os usuários não atribuíram *rating*, o que poderá ser explorado para recomendação."
   ]
  },
  {
   "cell_type": "code",
   "execution_count": 166,
   "metadata": {
    "colab": {
     "autoexec": {
      "startup": false,
      "wait_interval": 0
     },
     "base_uri": "https://localhost:8080/",
     "height": 238
    },
    "colab_type": "code",
    "executionInfo": {
     "elapsed": 673,
     "status": "ok",
     "timestamp": 1528912264885,
     "user": {
      "displayName": "Wladmir Cardoso Brandão",
      "photoUrl": "//lh5.googleusercontent.com/-SGSelMTRK_4/AAAAAAAAAAI/AAAAAAABeK0/PmbiLSnzkAE/s50-c-k-no/photo.jpg",
      "userId": "103335929661169749259"
     },
     "user_tz": 180
    },
    "id": "Cw2wAbIgIWOS",
    "outputId": "5b33d14d-1e22-4908-ddff-507ba6fc02d0"
   },
   "outputs": [
    {
     "data": {
      "text/plain": [
       "array([[ 1.94569697e-32,  0.00000000e+00,  1.94569697e-32, ...,\n",
       "         1.55166086e-17,  0.00000000e+00, -3.03609447e-17],\n",
       "       [-3.09398779e-18,  0.00000000e+00, -3.09398779e-18, ...,\n",
       "         4.89882492e-03,  0.00000000e+00,  8.86885208e-02],\n",
       "       [-9.35583462e-19,  0.00000000e+00, -9.35583462e-19, ...,\n",
       "        -1.49016542e-02,  0.00000000e+00, -6.86243046e-03],\n",
       "       ...,\n",
       "       [-1.16943911e-21,  0.00000000e+00, -1.16943911e-21, ...,\n",
       "        -4.77275644e-05,  0.00000000e+00,  8.06984532e-05],\n",
       "       [ 8.99387401e-36,  0.00000000e+00,  8.99387401e-36, ...,\n",
       "        -8.87447497e-20,  0.00000000e+00, -5.25538123e-18],\n",
       "       [ 6.77687627e-18,  0.00000000e+00,  6.77687627e-18, ...,\n",
       "         4.24808787e-03,  0.00000000e+00,  2.79514551e-02]])"
      ]
     },
     "execution_count": 166,
     "metadata": {},
     "output_type": "execute_result"
    }
   ],
   "source": [
    "predictedRatings = np.dot(np.dot(U, sigma), Vt) \n",
    "predictedRatings"
   ]
  },
  {
   "cell_type": "code",
   "execution_count": 167,
   "metadata": {
    "colab": {
     "autoexec": {
      "startup": false,
      "wait_interval": 0
     },
     "base_uri": "https://localhost:8080/",
     "height": 284
    },
    "colab_type": "code",
    "executionInfo": {
     "elapsed": 694,
     "status": "ok",
     "timestamp": 1528912268349,
     "user": {
      "displayName": "Wladmir Cardoso Brandão",
      "photoUrl": "//lh5.googleusercontent.com/-SGSelMTRK_4/AAAAAAAAAAI/AAAAAAABeK0/PmbiLSnzkAE/s50-c-k-no/photo.jpg",
      "userId": "103335929661169749259"
     },
     "user_tz": 180
    },
    "id": "KI_kfqbdIa3k",
    "outputId": "1c46ec2e-7166-4458-f586-619b67017679"
   },
   "outputs": [
    {
     "data": {
      "text/html": [
       "<div>\n",
       "<style scoped>\n",
       "    .dataframe tbody tr th:only-of-type {\n",
       "        vertical-align: middle;\n",
       "    }\n",
       "\n",
       "    .dataframe tbody tr th {\n",
       "        vertical-align: top;\n",
       "    }\n",
       "\n",
       "    .dataframe thead th {\n",
       "        text-align: right;\n",
       "    }\n",
       "</style>\n",
       "<table border=\"1\" class=\"dataframe\">\n",
       "  <thead>\n",
       "    <tr style=\"text-align: right;\">\n",
       "      <th></th>\n",
       "      <th>8</th>\n",
       "      <th>242</th>\n",
       "      <th>243</th>\n",
       "      <th>254</th>\n",
       "      <th>383</th>\n",
       "      <th>388</th>\n",
       "      <th>392</th>\n",
       "      <th>446</th>\n",
       "      <th>505</th>\n",
       "      <th>507</th>\n",
       "      <th>...</th>\n",
       "      <th>275970</th>\n",
       "      <th>276018</th>\n",
       "      <th>276463</th>\n",
       "      <th>276670</th>\n",
       "      <th>276925</th>\n",
       "      <th>276929</th>\n",
       "      <th>276994</th>\n",
       "      <th>277427</th>\n",
       "      <th>278144</th>\n",
       "      <th>278418</th>\n",
       "    </tr>\n",
       "    <tr>\n",
       "      <th>BookID</th>\n",
       "      <th></th>\n",
       "      <th></th>\n",
       "      <th></th>\n",
       "      <th></th>\n",
       "      <th></th>\n",
       "      <th></th>\n",
       "      <th></th>\n",
       "      <th></th>\n",
       "      <th></th>\n",
       "      <th></th>\n",
       "      <th></th>\n",
       "      <th></th>\n",
       "      <th></th>\n",
       "      <th></th>\n",
       "      <th></th>\n",
       "      <th></th>\n",
       "      <th></th>\n",
       "      <th></th>\n",
       "      <th></th>\n",
       "      <th></th>\n",
       "      <th></th>\n",
       "    </tr>\n",
       "  </thead>\n",
       "  <tbody>\n",
       "    <tr>\n",
       "      <th>10</th>\n",
       "      <td>0.000</td>\n",
       "      <td>-0.000</td>\n",
       "      <td>-0.000</td>\n",
       "      <td>-0.000</td>\n",
       "      <td>-0.000</td>\n",
       "      <td>0.000</td>\n",
       "      <td>-0.000</td>\n",
       "      <td>0.000</td>\n",
       "      <td>-0.000</td>\n",
       "      <td>0.000</td>\n",
       "      <td>...</td>\n",
       "      <td>-0.000</td>\n",
       "      <td>-0.000</td>\n",
       "      <td>-0.000</td>\n",
       "      <td>-0.000</td>\n",
       "      <td>-0.000</td>\n",
       "      <td>0.000</td>\n",
       "      <td>-0.000</td>\n",
       "      <td>-0.000</td>\n",
       "      <td>0.000</td>\n",
       "      <td>0.000</td>\n",
       "    </tr>\n",
       "    <tr>\n",
       "      <th>12</th>\n",
       "      <td>0.000</td>\n",
       "      <td>0.000</td>\n",
       "      <td>0.000</td>\n",
       "      <td>0.000</td>\n",
       "      <td>0.000</td>\n",
       "      <td>0.000</td>\n",
       "      <td>0.000</td>\n",
       "      <td>0.000</td>\n",
       "      <td>0.000</td>\n",
       "      <td>0.000</td>\n",
       "      <td>...</td>\n",
       "      <td>0.000</td>\n",
       "      <td>0.000</td>\n",
       "      <td>0.000</td>\n",
       "      <td>0.000</td>\n",
       "      <td>0.000</td>\n",
       "      <td>0.000</td>\n",
       "      <td>0.000</td>\n",
       "      <td>0.000</td>\n",
       "      <td>0.000</td>\n",
       "      <td>0.000</td>\n",
       "    </tr>\n",
       "    <tr>\n",
       "      <th>14</th>\n",
       "      <td>0.000</td>\n",
       "      <td>-0.000</td>\n",
       "      <td>-0.000</td>\n",
       "      <td>-0.000</td>\n",
       "      <td>-0.000</td>\n",
       "      <td>0.000</td>\n",
       "      <td>-0.000</td>\n",
       "      <td>0.000</td>\n",
       "      <td>-0.000</td>\n",
       "      <td>0.000</td>\n",
       "      <td>...</td>\n",
       "      <td>-0.000</td>\n",
       "      <td>-0.000</td>\n",
       "      <td>-0.000</td>\n",
       "      <td>-0.000</td>\n",
       "      <td>-0.000</td>\n",
       "      <td>0.000</td>\n",
       "      <td>-0.000</td>\n",
       "      <td>-0.000</td>\n",
       "      <td>0.000</td>\n",
       "      <td>0.000</td>\n",
       "    </tr>\n",
       "    <tr>\n",
       "      <th>15</th>\n",
       "      <td>0.000</td>\n",
       "      <td>0.000</td>\n",
       "      <td>0.000</td>\n",
       "      <td>0.000</td>\n",
       "      <td>0.000</td>\n",
       "      <td>0.000</td>\n",
       "      <td>0.000</td>\n",
       "      <td>0.000</td>\n",
       "      <td>0.000</td>\n",
       "      <td>0.000</td>\n",
       "      <td>...</td>\n",
       "      <td>0.000</td>\n",
       "      <td>0.000</td>\n",
       "      <td>0.000</td>\n",
       "      <td>0.000</td>\n",
       "      <td>0.000</td>\n",
       "      <td>0.000</td>\n",
       "      <td>0.000</td>\n",
       "      <td>0.000</td>\n",
       "      <td>0.000</td>\n",
       "      <td>0.000</td>\n",
       "    </tr>\n",
       "    <tr>\n",
       "      <th>16</th>\n",
       "      <td>0.000</td>\n",
       "      <td>-0.000</td>\n",
       "      <td>-0.000</td>\n",
       "      <td>-0.000</td>\n",
       "      <td>-0.000</td>\n",
       "      <td>0.000</td>\n",
       "      <td>-0.000</td>\n",
       "      <td>0.000</td>\n",
       "      <td>-0.000</td>\n",
       "      <td>0.000</td>\n",
       "      <td>...</td>\n",
       "      <td>-0.000</td>\n",
       "      <td>-0.000</td>\n",
       "      <td>-0.000</td>\n",
       "      <td>-0.000</td>\n",
       "      <td>-0.000</td>\n",
       "      <td>0.000</td>\n",
       "      <td>-0.000</td>\n",
       "      <td>-0.000</td>\n",
       "      <td>0.000</td>\n",
       "      <td>0.000</td>\n",
       "    </tr>\n",
       "  </tbody>\n",
       "</table>\n",
       "<p>5 rows × 1510 columns</p>\n",
       "</div>"
      ],
      "text/plain": [
       "        8       242     243     254     383     388     392     446     \\\n",
       "BookID                                                                   \n",
       "10       0.000  -0.000  -0.000  -0.000  -0.000   0.000  -0.000   0.000   \n",
       "12       0.000   0.000   0.000   0.000   0.000   0.000   0.000   0.000   \n",
       "14       0.000  -0.000  -0.000  -0.000  -0.000   0.000  -0.000   0.000   \n",
       "15       0.000   0.000   0.000   0.000   0.000   0.000   0.000   0.000   \n",
       "16       0.000  -0.000  -0.000  -0.000  -0.000   0.000  -0.000   0.000   \n",
       "\n",
       "        505     507      ...    275970  276018  276463  276670  276925  \\\n",
       "BookID                   ...                                             \n",
       "10      -0.000   0.000   ...    -0.000  -0.000  -0.000  -0.000  -0.000   \n",
       "12       0.000   0.000   ...     0.000   0.000   0.000   0.000   0.000   \n",
       "14      -0.000   0.000   ...    -0.000  -0.000  -0.000  -0.000  -0.000   \n",
       "15       0.000   0.000   ...     0.000   0.000   0.000   0.000   0.000   \n",
       "16      -0.000   0.000   ...    -0.000  -0.000  -0.000  -0.000  -0.000   \n",
       "\n",
       "        276929  276994  277427  278144  278418  \n",
       "BookID                                          \n",
       "10       0.000  -0.000  -0.000   0.000   0.000  \n",
       "12       0.000   0.000   0.000   0.000   0.000  \n",
       "14       0.000  -0.000  -0.000   0.000   0.000  \n",
       "15       0.000   0.000   0.000   0.000   0.000  \n",
       "16       0.000  -0.000  -0.000   0.000   0.000  \n",
       "\n",
       "[5 rows x 1510 columns]"
      ]
     },
     "execution_count": 167,
     "metadata": {},
     "output_type": "execute_result"
    }
   ],
   "source": [
    "CFPredictionsDF = pd.DataFrame(predictedRatings, columns = usersItemsDF.columns, index=usersIds).transpose()\n",
    "CFPredictionsDF.head(5)"
   ]
  },
  {
   "cell_type": "markdown",
   "metadata": {
    "colab_type": "text",
    "id": "66vpXXv-63MQ"
   },
   "source": [
    "Agora vamos conferir as recomendações oferecidas pela abordagem para um usuário específico de nossa base de dados:"
   ]
  },
  {
   "cell_type": "code",
   "execution_count": 168,
   "metadata": {
    "colab": {
     "autoexec": {
      "startup": false,
      "wait_interval": 0
     }
    },
    "colab_type": "code",
    "id": "9kFyXxtzIg2M"
   },
   "outputs": [],
   "source": [
    "SVDModel = CFRecommender('CF-SVD',CFPredictionsDF, items)"
   ]
  },
  {
   "cell_type": "code",
   "execution_count": 170,
   "metadata": {
    "colab": {
     "autoexec": {
      "startup": false,
      "wait_interval": 0
     },
     "base_uri": "https://localhost:8080/",
     "height": 204
    },
    "colab_type": "code",
    "executionInfo": {
     "elapsed": 681,
     "status": "ok",
     "timestamp": 1528912276297,
     "user": {
      "displayName": "Wladmir Cardoso Brandão",
      "photoUrl": "//lh5.googleusercontent.com/-SGSelMTRK_4/AAAAAAAAAAI/AAAAAAABeK0/PmbiLSnzkAE/s50-c-k-no/photo.jpg",
      "userId": "103335929661169749259"
     },
     "user_tz": 180
    },
    "id": "MnZG-sdTinKN",
    "outputId": "b4d6398d-a3b1-43eb-cde5-65525fc64740"
   },
   "outputs": [
    {
     "data": {
      "text/html": [
       "<div>\n",
       "<style scoped>\n",
       "    .dataframe tbody tr th:only-of-type {\n",
       "        vertical-align: middle;\n",
       "    }\n",
       "\n",
       "    .dataframe tbody tr th {\n",
       "        vertical-align: top;\n",
       "    }\n",
       "\n",
       "    .dataframe thead th {\n",
       "        text-align: right;\n",
       "    }\n",
       "</style>\n",
       "<table border=\"1\" class=\"dataframe\">\n",
       "  <thead>\n",
       "    <tr style=\"text-align: right;\">\n",
       "      <th></th>\n",
       "      <th>BookID</th>\n",
       "      <th>BookTitle</th>\n",
       "      <th>Score</th>\n",
       "    </tr>\n",
       "  </thead>\n",
       "  <tbody>\n",
       "    <tr>\n",
       "      <th>0</th>\n",
       "      <td>1923</td>\n",
       "      <td>Snow Falling on Cedars</td>\n",
       "      <td>14.064</td>\n",
       "    </tr>\n",
       "    <tr>\n",
       "      <th>1</th>\n",
       "      <td>648</td>\n",
       "      <td>Angela's Ashes: A Memoir</td>\n",
       "      <td>9.818</td>\n",
       "    </tr>\n",
       "    <tr>\n",
       "      <th>2</th>\n",
       "      <td>3784</td>\n",
       "      <td>STONES FROM THE RIVER</td>\n",
       "      <td>9.742</td>\n",
       "    </tr>\n",
       "    <tr>\n",
       "      <th>3</th>\n",
       "      <td>5071</td>\n",
       "      <td>Bridget Jones's Diary</td>\n",
       "      <td>6.819</td>\n",
       "    </tr>\n",
       "    <tr>\n",
       "      <th>4</th>\n",
       "      <td>1307</td>\n",
       "      <td>The Color of Water: A Black Man's Tribute to H...</td>\n",
       "      <td>5.692</td>\n",
       "    </tr>\n",
       "    <tr>\n",
       "      <th>5</th>\n",
       "      <td>1421</td>\n",
       "      <td>Breath, Eyes, Memory</td>\n",
       "      <td>3.579</td>\n",
       "    </tr>\n",
       "    <tr>\n",
       "      <th>6</th>\n",
       "      <td>4578</td>\n",
       "      <td>What Looks Like Crazy On An Ordinary Day</td>\n",
       "      <td>3.553</td>\n",
       "    </tr>\n",
       "    <tr>\n",
       "      <th>7</th>\n",
       "      <td>2545</td>\n",
       "      <td>How to Be Good</td>\n",
       "      <td>3.508</td>\n",
       "    </tr>\n",
       "    <tr>\n",
       "      <th>8</th>\n",
       "      <td>968</td>\n",
       "      <td>Charming Billy</td>\n",
       "      <td>3.368</td>\n",
       "    </tr>\n",
       "    <tr>\n",
       "      <th>9</th>\n",
       "      <td>716</td>\n",
       "      <td>Strange Fits of Passion: A Novel</td>\n",
       "      <td>2.989</td>\n",
       "    </tr>\n",
       "  </tbody>\n",
       "</table>\n",
       "</div>"
      ],
      "text/plain": [
       "   BookID                                          BookTitle  Score\n",
       "0    1923                             Snow Falling on Cedars 14.064\n",
       "1     648                           Angela's Ashes: A Memoir  9.818\n",
       "2    3784                              STONES FROM THE RIVER  9.742\n",
       "3    5071                              Bridget Jones's Diary  6.819\n",
       "4    1307  The Color of Water: A Black Man's Tribute to H...  5.692\n",
       "5    1421                               Breath, Eyes, Memory  3.579\n",
       "6    4578           What Looks Like Crazy On An Ordinary Day  3.553\n",
       "7    2545                                     How to Be Good  3.508\n",
       "8     968                                     Charming Billy  3.368\n",
       "9     716                   Strange Fits of Passion: A Novel  2.989"
      ]
     },
     "execution_count": 170,
     "metadata": {},
     "output_type": "execute_result"
    }
   ],
   "source": [
    "recommendedItensSVD = SVDModel.recommend(4017, topn=10, verbose=True)\n",
    "recommendedItensSVD.sort_values(ascending=False,by=['Score']).head(20)"
   ]
  },
  {
   "cell_type": "markdown",
   "metadata": {
    "colab_type": "text",
    "id": "-alhSw9WG-d4"
   },
   "source": [
    "### Baseada em Conteúdo\n",
    "Abordagens de recomendação baseadas em conteúdo levam em conta a descrição (ou atributos) de itens relevantes a usuários para sugerir itens similares. Elas consideram apenas escolhas prévias do próprio usuário, o que as torna resilientes ao problema de  [cold-start](https://en.wikipedia.org/wiki/Cold_start). Para recomendação de itens com farto conteúdo textual, como artigos, livros e notícias, o uso do texto associado ao item para construir perfis de itens e usuários se mostra uma tarefa muito simples e intuitiva.\n",
    "\n",
    "Aqui utilizaremos um modelo clássico de recuperação de informação para representação de itens e usuários, o [modelo vetorial](https://pt.wikipedia.org/wiki/Modelo_vetorial_em_sistemas_de_recupera%C3%A7%C3%A3o_da_informa%C3%A7%C3%A3o). Nesse modelo, textos não estruturados são convertidos em vetores de palavras, onde cada palavra é representada por uma posição no vetor e o valor nessa posição indica a importância (peso) da palavra no texto. Como todos os itens e usuários são representados em um espaço vetorial, o cálculo de similaridade entre itens e usuários pode ser feito utilizando o cosseno ([cosine similarity](https://en.wikipedia.org/wiki/Cosine_similarity)) entre seus respectivos vetores. Para o cálculo do peso das palavras no texto geralmente utiliza-se o [esquema TF-IDF](https://pt.wikipedia.org/wiki/Tf%E2%80%93idf), onde a frequência da palavra no texto e a raridade da palavra entre os diversos textos determinam sua importância."
   ]
  },
  {
   "cell_type": "markdown",
   "metadata": {},
   "source": [
    "Aqui foi realizado o cruzamento das bases Book Crossing e Good Books. O cógigo a seguir foi utilizado uma única vez na criação de um arquivo CSV contendo todas as palavras chave dos livros, a partir de content_full_df. Antes disso, não mostrado aqui, foi feito um cruzamento das bases pelo ISBN. Isso foi necessário para a implementação da recomendação por conteúdo, uma vez que ela será feita com base nas palavras chave dos livros que os usuários interagiram.\n",
    "\n",
    "import csv\n",
    "import pandas as pd\n",
    "\n",
    "book_tags_df = pd.read_csv('book_tags.csv', delimiter=';')\n",
    "tags_df = pd.read_csv('tags.csv', delimiter=';')\n",
    "content_df = pd.merge(itemsDF, book_tags_df, on='goodreads_book_id')\n",
    "content_full_df = pd.merge(content_df, tags_df, on='tag_id')\n",
    "\n",
    "content = pd.DataFrame(content_full_df, columns = ['book_id','goodreads_book_id','best_book_id','work_id','books_count','isbn','isbn13','authors','original_publication_year','original_title','ratings_1','ratings_2','ratings_3','ratings_4','ratings_5','image_url','small_image_url','tag_id','count','tag_name'])\n",
    "\n",
    "content = pd.DataFrame(content_full_df, columns = ['BookID','ISBN','BookTitle', 'tag_name'])\n",
    "\n",
    "content.to_csv('BX-Content.csv')"
   ]
  },
  {
   "cell_type": "code",
   "execution_count": 46,
   "metadata": {},
   "outputs": [
    {
     "data": {
      "text/html": [
       "<div>\n",
       "<style scoped>\n",
       "    .dataframe tbody tr th:only-of-type {\n",
       "        vertical-align: middle;\n",
       "    }\n",
       "\n",
       "    .dataframe tbody tr th {\n",
       "        vertical-align: top;\n",
       "    }\n",
       "\n",
       "    .dataframe thead th {\n",
       "        text-align: right;\n",
       "    }\n",
       "</style>\n",
       "<table border=\"1\" class=\"dataframe\">\n",
       "  <thead>\n",
       "    <tr style=\"text-align: right;\">\n",
       "      <th></th>\n",
       "      <th>BookID</th>\n",
       "      <th>ISBN</th>\n",
       "      <th>BookTitle</th>\n",
       "      <th>tag_name</th>\n",
       "    </tr>\n",
       "  </thead>\n",
       "  <tbody>\n",
       "    <tr>\n",
       "      <th>0</th>\n",
       "      <td>19</td>\n",
       "      <td>440234743</td>\n",
       "      <td>The Testament</td>\n",
       "      <td>to-read</td>\n",
       "    </tr>\n",
       "    <tr>\n",
       "      <th>1</th>\n",
       "      <td>21</td>\n",
       "      <td>609804618</td>\n",
       "      <td>Our Dumb Century: The Onion Presents 100 Years...</td>\n",
       "      <td>to-read</td>\n",
       "    </tr>\n",
       "    <tr>\n",
       "      <th>2</th>\n",
       "      <td>45</td>\n",
       "      <td>553582909</td>\n",
       "      <td>Icebound</td>\n",
       "      <td>to-read</td>\n",
       "    </tr>\n",
       "    <tr>\n",
       "      <th>3</th>\n",
       "      <td>46</td>\n",
       "      <td>671888587</td>\n",
       "      <td>I'll Be Seeing You</td>\n",
       "      <td>to-read</td>\n",
       "    </tr>\n",
       "    <tr>\n",
       "      <th>4</th>\n",
       "      <td>47</td>\n",
       "      <td>553582747</td>\n",
       "      <td>From the Corner of His Eye</td>\n",
       "      <td>to-read</td>\n",
       "    </tr>\n",
       "    <tr>\n",
       "      <th>5</th>\n",
       "      <td>52</td>\n",
       "      <td>842342702</td>\n",
       "      <td>Left Behind: A Novel of the Earth's Last Days ...</td>\n",
       "      <td>to-read</td>\n",
       "    </tr>\n",
       "    <tr>\n",
       "      <th>6</th>\n",
       "      <td>75</td>\n",
       "      <td>345465083</td>\n",
       "      <td>Seabiscuit</td>\n",
       "      <td>to-read</td>\n",
       "    </tr>\n",
       "    <tr>\n",
       "      <th>7</th>\n",
       "      <td>78</td>\n",
       "      <td>441783589</td>\n",
       "      <td>Starship Troopers</td>\n",
       "      <td>to-read</td>\n",
       "    </tr>\n",
       "    <tr>\n",
       "      <th>8</th>\n",
       "      <td>79</td>\n",
       "      <td>394895894</td>\n",
       "      <td>The Ruby in the Smoke (Sally Lockhart Trilogy,...</td>\n",
       "      <td>to-read</td>\n",
       "    </tr>\n",
       "    <tr>\n",
       "      <th>9</th>\n",
       "      <td>106</td>\n",
       "      <td>067976397X</td>\n",
       "      <td>Corelli's Mandolin : A Novel</td>\n",
       "      <td>to-read</td>\n",
       "    </tr>\n",
       "  </tbody>\n",
       "</table>\n",
       "</div>"
      ],
      "text/plain": [
       "   BookID        ISBN                                          BookTitle  \\\n",
       "0      19   440234743                                      The Testament   \n",
       "1      21   609804618  Our Dumb Century: The Onion Presents 100 Years...   \n",
       "2      45   553582909                                           Icebound   \n",
       "3      46   671888587                                 I'll Be Seeing You   \n",
       "4      47   553582747                         From the Corner of His Eye   \n",
       "5      52   842342702  Left Behind: A Novel of the Earth's Last Days ...   \n",
       "6      75   345465083                                         Seabiscuit   \n",
       "7      78   441783589                                  Starship Troopers   \n",
       "8      79   394895894  The Ruby in the Smoke (Sally Lockhart Trilogy,...   \n",
       "9     106  067976397X                       Corelli's Mandolin : A Novel   \n",
       "\n",
       "  tag_name  \n",
       "0  to-read  \n",
       "1  to-read  \n",
       "2  to-read  \n",
       "3  to-read  \n",
       "4  to-read  \n",
       "5  to-read  \n",
       "6  to-read  \n",
       "7  to-read  \n",
       "8  to-read  \n",
       "9  to-read  "
      ]
     },
     "execution_count": 46,
     "metadata": {},
     "output_type": "execute_result"
    }
   ],
   "source": [
    "#Carregamento da base de dados de livros com as palavras chave. A listagem mostra cada interação do livro com a palavra chave\n",
    "content = pd.read_csv('BX-Content.csv', sep=';')\n",
    "content.head(10)"
   ]
  },
  {
   "cell_type": "code",
   "execution_count": 47,
   "metadata": {
    "colab": {
     "autoexec": {
      "startup": false,
      "wait_interval": 0
     },
     "base_uri": "https://localhost:8080/",
     "height": 51
    },
    "colab_type": "code",
    "executionInfo": {
     "elapsed": 12524,
     "status": "ok",
     "timestamp": 1528912293262,
     "user": {
      "displayName": "Wladmir Cardoso Brandão",
      "photoUrl": "//lh5.googleusercontent.com/-SGSelMTRK_4/AAAAAAAAAAI/AAAAAAABeK0/PmbiLSnzkAE/s50-c-k-no/photo.jpg",
      "userId": "103335929661169749259"
     },
     "user_tz": 180
    },
    "id": "pM1p37AVHHHv",
    "outputId": "83925f27-27ef-4b2a-a97a-dee5295aac4b"
   },
   "outputs": [
    {
     "data": {
      "text/plain": [
       "<58697x413 sparse matrix of type '<class 'numpy.float64'>'\n",
       "\twith 160745 stored elements in Compressed Sparse Row format>"
      ]
     },
     "execution_count": 47,
     "metadata": {},
     "output_type": "execute_result"
    }
   ],
   "source": [
    "#Ignoring stopwords (words with no semantics) from English and Portuguese (as we have a corpus with mixed languages)\n",
    "stopwords_list = stopwords.words('english') + stopwords.words('portuguese')\n",
    "\n",
    "#Trains a model whose vectors size is 5000, composed by the main unigrams and bigrams found in the corpus, ignoring stopwords\n",
    "vectorizer = TfidfVectorizer(analyzer='word',\n",
    "                     ngram_range=(1, 2),\n",
    "                     min_df=0.003,\n",
    "                     max_df=0.5,\n",
    "                     max_features=5000,\n",
    "                     stop_words=stopwords_list)\n",
    "\n",
    "item_ids = content['BookID'].tolist()\n",
    "tfIdfMatrix = vectorizer.fit_transform(content['BookTitle'] + \"\" + content['tag_name'])\n",
    "tfIdfFeatureNames = vectorizer.get_feature_names()\n",
    "tfIdfMatrix"
   ]
  },
  {
   "cell_type": "markdown",
   "metadata": {
    "colab_type": "text",
    "id": "11BOwjRdHKWL"
   },
   "source": [
    "Para modelar o perfil de usuário, utilizaremos todos os perfis de itens que o usuário atribuiu *rating*. Mais especificamente, o vetor de palavras representativos de um usuário será constituído por todas as palavras presentes nos vetores de itens que o usuário atribuiu *rating* e os pesos de cada palavra serão determinados pelo TF-IDF ponderado pelo *rating* do usuário."
   ]
  },
  {
   "cell_type": "code",
   "execution_count": 48,
   "metadata": {},
   "outputs": [
    {
     "name": "stdout",
     "output_type": "stream",
     "text": [
      "Ratings de usuários com pelo menos 5 interações e de livros que possuem palavras-chave:  7181\n"
     ]
    }
   ],
   "source": [
    "#Observe que um novo arquivo de ratings teve que ser gerado, para conter apenas as avaliações de livros que possuem palavras\n",
    "#-chave\n",
    "ratings_content = pd.read_csv('BX-Book-Ratings-Content.csv', sep=';')\n",
    "ratings_content.columns = ['UserID', 'BookID','BookRating']\n",
    "print(\"Ratings de usuários com pelo menos 5 interações e de livros que possuem palavras-chave: \", len(ratings_content))"
   ]
  },
  {
   "cell_type": "code",
   "execution_count": 49,
   "metadata": {
    "colab": {
     "autoexec": {
      "startup": false,
      "wait_interval": 0
     }
    },
    "colab_type": "code",
    "id": "CAS-OhGHHK-m"
   },
   "outputs": [],
   "source": [
    "\n",
    "def get_item_profile(item_id):\n",
    "    idx = item_ids.index(item_id)\n",
    "    item_profile = tfIdfMatrix[idx:idx+1]\n",
    "    return item_profile\n",
    "\n",
    "def get_item_profiles(ids):\n",
    "    \n",
    "    item_profiles_list = [get_item_profile(x) for x in ids]\n",
    "    item_profiles = scipy.sparse.vstack(item_profiles_list)\n",
    "    return item_profiles\n",
    "\n",
    "def build_users_profile(user_id, interactions_indexed_df):\n",
    "   \n",
    "    interactions_user_df = interactions_indexed_df\n",
    "\n",
    "    user_item_profiles = get_item_profiles(interactions_user_df['BookID'])  \n",
    "    user_item_strengths = np.array(interactions_user_df['BookRating']).reshape(-1,1)\n",
    "    \n",
    "    #Weighted average of item profiles by the interactions strength\n",
    "    if (user_item_profiles.shape[0] == user_item_strengths.shape[0]):\n",
    "        user_item_strengths_weighted_avg = np.sum(user_item_profiles.multiply(user_item_strengths), axis=0) / np.sum(user_item_strengths)\n",
    "        user_profile_norm = sklearn.preprocessing.normalize(user_item_strengths_weighted_avg)\n",
    "        return user_profile_norm\n",
    "    \n",
    "\n",
    "def build_users_profiles(): \n",
    "    interactions_indexed_df = ratings_content[ratings_content['BookID'] \\\n",
    "                                                   .isin(items['BookID'])].set_index('UserID')\n",
    "    user_profiles = {}\n",
    "    for user_id in interactions_indexed_df.index.unique():\n",
    "        user_profiles[user_id] = build_users_profile(user_id, interactions_indexed_df)\n",
    "    return user_profiles"
   ]
  },
  {
   "cell_type": "code",
   "execution_count": 50,
   "metadata": {
    "colab": {
     "autoexec": {
      "startup": false,
      "wait_interval": 0
     },
     "base_uri": "https://localhost:8080/",
     "height": 34
    },
    "colab_type": "code",
    "executionInfo": {
     "elapsed": 14219,
     "status": "ok",
     "timestamp": 1528912317925,
     "user": {
      "displayName": "Wladmir Cardoso Brandão",
      "photoUrl": "//lh5.googleusercontent.com/-SGSelMTRK_4/AAAAAAAAAAI/AAAAAAABeK0/PmbiLSnzkAE/s50-c-k-no/photo.jpg",
      "userId": "103335929661169749259"
     },
     "user_tz": 180
    },
    "id": "szBEBmZKHQLR",
    "outputId": "d673ee4f-be44-45d3-e353-dec80a07f58c"
   },
   "outputs": [
    {
     "data": {
      "text/plain": [
       "4424"
      ]
     },
     "execution_count": 50,
     "metadata": {},
     "output_type": "execute_result"
    }
   ],
   "source": [
    "userProfiles = build_users_profiles() \n",
    "len(userProfiles)"
   ]
  },
  {
   "cell_type": "markdown",
   "metadata": {
    "colab_type": "text",
    "id": "eEOsxauAHUU_"
   },
   "source": [
    "Para simplificar e tornar os cálculos mais rápidos, faremos uma poda nos vetores de palavras e fixaremos o tamanho máximo do vetor em 5.000 palavras. Observando o perfil de um usuário específico, espera-se que as palavras mais representativas no perfil do usuário estejam realmente relacionadas aos conceitos que o usuário se interessa. "
   ]
  },
  {
   "cell_type": "code",
   "execution_count": 51,
   "metadata": {
    "colab": {
     "autoexec": {
      "startup": false,
      "wait_interval": 0
     },
     "base_uri": "https://localhost:8080/",
     "height": 221
    },
    "colab_type": "code",
    "executionInfo": {
     "elapsed": 808,
     "status": "ok",
     "timestamp": 1528912322513,
     "user": {
      "displayName": "Wladmir Cardoso Brandão",
      "photoUrl": "//lh5.googleusercontent.com/-SGSelMTRK_4/AAAAAAAAAAI/AAAAAAABeK0/PmbiLSnzkAE/s50-c-k-no/photo.jpg",
      "userId": "103335929661169749259"
     },
     "user_tz": 180
    },
    "id": "XJiDJVKSHVLd",
    "outputId": "66f6bdfd-f467-48af-8ced-5e6fd33ddaf7"
   },
   "outputs": [
    {
     "data": {
      "text/html": [
       "<div>\n",
       "<style scoped>\n",
       "    .dataframe tbody tr th:only-of-type {\n",
       "        vertical-align: middle;\n",
       "    }\n",
       "\n",
       "    .dataframe tbody tr th {\n",
       "        vertical-align: top;\n",
       "    }\n",
       "\n",
       "    .dataframe thead th {\n",
       "        text-align: right;\n",
       "    }\n",
       "</style>\n",
       "<table border=\"1\" class=\"dataframe\">\n",
       "  <thead>\n",
       "    <tr style=\"text-align: right;\">\n",
       "      <th></th>\n",
       "      <th>token</th>\n",
       "      <th>relevance</th>\n",
       "    </tr>\n",
       "  </thead>\n",
       "  <tbody>\n",
       "    <tr>\n",
       "      <th>0</th>\n",
       "      <td>read</td>\n",
       "      <td>0.975</td>\n",
       "    </tr>\n",
       "    <tr>\n",
       "      <th>1</th>\n",
       "      <td>falling</td>\n",
       "      <td>0.086</td>\n",
       "    </tr>\n",
       "    <tr>\n",
       "      <th>2</th>\n",
       "      <td>snow</td>\n",
       "      <td>0.086</td>\n",
       "    </tr>\n",
       "    <tr>\n",
       "      <th>3</th>\n",
       "      <td>called</td>\n",
       "      <td>0.051</td>\n",
       "    </tr>\n",
       "    <tr>\n",
       "      <th>4</th>\n",
       "      <td>one</td>\n",
       "      <td>0.047</td>\n",
       "    </tr>\n",
       "    <tr>\n",
       "      <th>5</th>\n",
       "      <td>agency</td>\n",
       "      <td>0.041</td>\n",
       "    </tr>\n",
       "    <tr>\n",
       "      <th>6</th>\n",
       "      <td>detective agency</td>\n",
       "      <td>0.041</td>\n",
       "    </tr>\n",
       "    <tr>\n",
       "      <th>7</th>\n",
       "      <td>ladies</td>\n",
       "      <td>0.041</td>\n",
       "    </tr>\n",
       "    <tr>\n",
       "      <th>8</th>\n",
       "      <td>ladies detective</td>\n",
       "      <td>0.041</td>\n",
       "    </tr>\n",
       "    <tr>\n",
       "      <th>9</th>\n",
       "      <td>detective</td>\n",
       "      <td>0.037</td>\n",
       "    </tr>\n",
       "  </tbody>\n",
       "</table>\n",
       "</div>"
      ],
      "text/plain": [
       "              token  relevance\n",
       "0              read      0.975\n",
       "1           falling      0.086\n",
       "2              snow      0.086\n",
       "3            called      0.051\n",
       "4               one      0.047\n",
       "5            agency      0.041\n",
       "6  detective agency      0.041\n",
       "7            ladies      0.041\n",
       "8  ladies detective      0.041\n",
       "9         detective      0.037"
      ]
     },
     "execution_count": 51,
     "metadata": {},
     "output_type": "execute_result"
    }
   ],
   "source": [
    "user1 = userProfiles[4017]\n",
    "pd.DataFrame(sorted(zip(tfIdfFeatureNames, \n",
    "                        userProfiles[4017].flatten().tolist()), key=lambda x: -x[1])[:10],\n",
    "             columns=['token', 'relevance'])"
   ]
  },
  {
   "cell_type": "markdown",
   "metadata": {
    "colab_type": "text",
    "id": "H6eubsJk7Wfm"
   },
   "source": [
    "Agora, vamos implementar a abordagem de recomendação baseada em conteúdo:"
   ]
  },
  {
   "cell_type": "code",
   "execution_count": 52,
   "metadata": {
    "colab": {
     "autoexec": {
      "startup": false,
      "wait_interval": 0
     }
    },
    "colab_type": "code",
    "id": "TwuouHDuHcLD"
   },
   "outputs": [],
   "source": [
    "class CBRecommender:\n",
    "    \n",
    "    def __init__(self, modelName, itemsDF=None):\n",
    "        self.modelName = modelName\n",
    "        self.item_ids = item_ids\n",
    "        self.itemsDF = itemsDF\n",
    "        \n",
    "    def getModelName(self):\n",
    "        return self.modelName\n",
    "        \n",
    "    def _getSimilarItems(self, user_id, topn=1000):\n",
    "        #Computes the cosine similarity between the user profile and all item profiles\n",
    "        cosine_similarities = cosine_similarity(userProfiles[user_id], tfIdfMatrix)\n",
    "        #Gets the top similar items\n",
    "        similar_indices = cosine_similarities.argsort().flatten()[-topn:]\n",
    "        #Sort the similar items by similarity\n",
    "        similar_items = sorted([(item_ids[i], cosine_similarities[0,i]) for i in similar_indices], key=lambda x: -x[1])\n",
    "        return similar_items\n",
    "        \n",
    "    def recommend(self, user_id, items_to_ignore=[], topn=10, verbose=False):\n",
    "        similar_items = self._getSimilarItems(user_id)\n",
    "        #Ignores items the user has already interacted\n",
    "        similar_items_filtered = list(filter(lambda x: x[0] not in items_to_ignore, similar_items))\n",
    "        recommendationsDF = pd.DataFrame(similar_items_filtered, columns=['BookID', 'Score']) \\\n",
    "                                         .head(topn)\n",
    "        if verbose:\n",
    "            if self.itemsDF is None:\n",
    "                raise Exception('The items data frame (itemsDF) is required in verbose mode')\n",
    "            recommendationsDF = recommendationsDF.merge(self.itemsDF, how = 'left', \n",
    "                                                        left_on = 'BookID', \n",
    "                                                        right_on = 'BookID')[['BookID', 'BookTitle','Score']]\n",
    "        return recommendationsDF"
   ]
  },
  {
   "cell_type": "code",
   "execution_count": 53,
   "metadata": {
    "colab": {
     "autoexec": {
      "startup": false,
      "wait_interval": 0
     }
    },
    "colab_type": "code",
    "id": "AkRthhUOsJ36"
   },
   "outputs": [],
   "source": [
    "CBModel = CBRecommender('CB',items)"
   ]
  },
  {
   "cell_type": "markdown",
   "metadata": {
    "colab_type": "text",
    "id": "tD7wvF727NVC"
   },
   "source": [
    "Finalmente, vamos conferir as recomendações oferecidas pela abordagem para um usuário específico de nossa base de dados:"
   ]
  },
  {
   "cell_type": "code",
   "execution_count": 54,
   "metadata": {
    "colab": {
     "autoexec": {
      "startup": false,
      "wait_interval": 0
     },
     "base_uri": "https://localhost:8080/",
     "height": 204
    },
    "colab_type": "code",
    "executionInfo": {
     "elapsed": 714,
     "status": "ok",
     "timestamp": 1528912337729,
     "user": {
      "displayName": "Wladmir Cardoso Brandão",
      "photoUrl": "//lh5.googleusercontent.com/-SGSelMTRK_4/AAAAAAAAAAI/AAAAAAABeK0/PmbiLSnzkAE/s50-c-k-no/photo.jpg",
      "userId": "103335929661169749259"
     },
     "user_tz": 180
    },
    "id": "N5aCM5YUjWJB",
    "outputId": "a188dab9-c5ce-4b7c-88cd-4ebb02e370ef"
   },
   "outputs": [
    {
     "data": {
      "text/html": [
       "<div>\n",
       "<style scoped>\n",
       "    .dataframe tbody tr th:only-of-type {\n",
       "        vertical-align: middle;\n",
       "    }\n",
       "\n",
       "    .dataframe tbody tr th {\n",
       "        vertical-align: top;\n",
       "    }\n",
       "\n",
       "    .dataframe thead th {\n",
       "        text-align: right;\n",
       "    }\n",
       "</style>\n",
       "<table border=\"1\" class=\"dataframe\">\n",
       "  <thead>\n",
       "    <tr style=\"text-align: right;\">\n",
       "      <th></th>\n",
       "      <th>BookID</th>\n",
       "      <th>BookTitle</th>\n",
       "      <th>Score</th>\n",
       "    </tr>\n",
       "  </thead>\n",
       "  <tbody>\n",
       "    <tr>\n",
       "      <th>0</th>\n",
       "      <td>7541</td>\n",
       "      <td>Awakening the Buddha Within : Tibetan Wisdom f...</td>\n",
       "      <td>0.975</td>\n",
       "    </tr>\n",
       "    <tr>\n",
       "      <th>1</th>\n",
       "      <td>3482</td>\n",
       "      <td>Timbuktu : A Novel</td>\n",
       "      <td>0.975</td>\n",
       "    </tr>\n",
       "    <tr>\n",
       "      <th>2</th>\n",
       "      <td>3300</td>\n",
       "      <td>Without Remorse</td>\n",
       "      <td>0.975</td>\n",
       "    </tr>\n",
       "    <tr>\n",
       "      <th>3</th>\n",
       "      <td>1494</td>\n",
       "      <td>The Fountainhead</td>\n",
       "      <td>0.975</td>\n",
       "    </tr>\n",
       "    <tr>\n",
       "      <th>4</th>\n",
       "      <td>1674</td>\n",
       "      <td>The Sparrow</td>\n",
       "      <td>0.975</td>\n",
       "    </tr>\n",
       "    <tr>\n",
       "      <th>5</th>\n",
       "      <td>8713</td>\n",
       "      <td>The List</td>\n",
       "      <td>0.975</td>\n",
       "    </tr>\n",
       "    <tr>\n",
       "      <th>6</th>\n",
       "      <td>2037</td>\n",
       "      <td>An Acceptable Time</td>\n",
       "      <td>0.975</td>\n",
       "    </tr>\n",
       "    <tr>\n",
       "      <th>7</th>\n",
       "      <td>4275</td>\n",
       "      <td>The Sicilian</td>\n",
       "      <td>0.975</td>\n",
       "    </tr>\n",
       "    <tr>\n",
       "      <th>8</th>\n",
       "      <td>1573</td>\n",
       "      <td>Watership Down</td>\n",
       "      <td>0.975</td>\n",
       "    </tr>\n",
       "    <tr>\n",
       "      <th>9</th>\n",
       "      <td>2027</td>\n",
       "      <td>Written on the Body</td>\n",
       "      <td>0.975</td>\n",
       "    </tr>\n",
       "  </tbody>\n",
       "</table>\n",
       "</div>"
      ],
      "text/plain": [
       "   BookID                                          BookTitle  Score\n",
       "0    7541  Awakening the Buddha Within : Tibetan Wisdom f...  0.975\n",
       "1    3482                                 Timbuktu : A Novel  0.975\n",
       "2    3300                                    Without Remorse  0.975\n",
       "3    1494                                   The Fountainhead  0.975\n",
       "4    1674                                        The Sparrow  0.975\n",
       "5    8713                                           The List  0.975\n",
       "6    2037                                 An Acceptable Time  0.975\n",
       "7    4275                                       The Sicilian  0.975\n",
       "8    1573                                     Watership Down  0.975\n",
       "9    2027                                Written on the Body  0.975"
      ]
     },
     "execution_count": 54,
     "metadata": {},
     "output_type": "execute_result"
    }
   ],
   "source": [
    "recommendedItensCB = CBModel.recommend(4017, topn=10, verbose=True)\n",
    "#A linha a seguir foi adicionada pois como mais os filmes possuem mais de uma palavra que pode ser relevante para o usuário\n",
    "#o livro poderia aparecer repetido na lista\n",
    "recommendedItensCB = recommendedItensCB.drop_duplicates(subset='BookID',keep='first')\n",
    "recommendedItensCB.sort_values(ascending=False,by=['Score']).head(10)"
   ]
  },
  {
   "cell_type": "markdown",
   "metadata": {
    "colab_type": "text",
    "id": "DDa37NF2ItEf"
   },
   "source": [
    "### Híbrida\n",
    "Abordagens híbridas têm apresentado melhores resultados que abordagens puras em muitos casos reais e por esse motivo têm sido muito utilizadas na prática. Aqui, implementaremos uma abordagem híbrida simples obtida usando a multiplicação dos pesos das abordagens de filtragem colaborativa com fatoração de matriz e por popularidade previamente apresentadas, para prover um ranking obtido a partir dos pesos combinados."
   ]
  },
  {
   "cell_type": "code",
   "execution_count": 174,
   "metadata": {
    "colab": {
     "autoexec": {
      "startup": false,
      "wait_interval": 0
     }
    },
    "colab_type": "code",
    "id": "X1VFGRCtI2mp"
   },
   "outputs": [],
   "source": [
    "class HBRecommender:\n",
    "    \n",
    "    def __init__(self, modelName, SVDModel, PBmodel, itemsDF):\n",
    "        self.modelName = modelName\n",
    "        self.SVDModel = SVDModel\n",
    "        self.PBmodel = PBmodel\n",
    "        self.itemsDF = itemsDF\n",
    "        \n",
    "    def getModelName(self):\n",
    "        return self.modelName\n",
    "        \n",
    "    def recommend(self, user_id, items_to_ignore=[], topn=10, verbose=False):\n",
    "        #Getting the top-1000 SVD recommendations\n",
    "        SVDRecommendationsDF = self.SVDModel.recommend(user_id, items_to_ignore=items_to_ignore, verbose=verbose,\n",
    "                                                           topn=1000).rename(columns={'Score': 'ScoreUB'})\n",
    "        \n",
    "        #Getting the top-1000 Popularity recommendations\n",
    "        PBRecommendationsDF = self.PBmodel.recommend(user_id, items_to_ignore=items_to_ignore, verbose=verbose, \n",
    "                                                             topn=1000).rename(columns={'Score': 'ScorePB'})\n",
    "        \n",
    "        #Combining the results by contentId\n",
    "        HBRecommendationsDF = SVDRecommendationsDF.merge(PBRecommendationsDF,\n",
    "                                                        how = 'inner', \n",
    "                                                        left_on = 'BookID', \n",
    "                                                        right_on = 'BookID')\n",
    "        \n",
    "        #Computing a hybrid recommendation score based on UB and PB scores\n",
    "        HBRecommendationsDF['Score'] = HBRecommendationsDF['ScoreUB'] * HBRecommendationsDF['ScorePB']\n",
    "        \n",
    "        #Sorting recommendations by hybrid score\n",
    "        recommendationsDF = HBRecommendationsDF.sort_values('Score', ascending=False).head(topn)\n",
    "\n",
    "        if verbose:\n",
    "            if self.itemsDF is None:\n",
    "                raise Exception('The items data frame (itemsDF) is required in verbose mode')\n",
    "            \n",
    "            recommendationsDF = recommendationsDF.merge(self.itemsDF, how = 'left', \n",
    "                                                        left_on = 'BookID', \n",
    "                                                        right_on = 'BookID')[['BookID', 'BookTitle_x','Score']]\n",
    "            recommendationsDF.columns = ['BookID', 'BookTitle', 'Score']\n",
    "        return recommendationsDF"
   ]
  },
  {
   "cell_type": "code",
   "execution_count": 175,
   "metadata": {
    "colab": {
     "autoexec": {
      "startup": false,
      "wait_interval": 0
     }
    },
    "colab_type": "code",
    "id": "QyGIRKlHtPPz"
   },
   "outputs": [],
   "source": [
    "HBModel = HBRecommender('HB', SVDModel, PBModel, items)"
   ]
  },
  {
   "cell_type": "markdown",
   "metadata": {
    "colab_type": "text",
    "id": "Hmv8yoH67e0w"
   },
   "source": [
    "Vejamos as recomendações oferecidas pela abordagem para um usuário específico de nossa base de dados:"
   ]
  },
  {
   "cell_type": "code",
   "execution_count": 177,
   "metadata": {
    "colab": {
     "autoexec": {
      "startup": false,
      "wait_interval": 0
     },
     "base_uri": "https://localhost:8080/",
     "height": 204
    },
    "colab_type": "code",
    "executionInfo": {
     "elapsed": 667,
     "status": "ok",
     "timestamp": 1528912354379,
     "user": {
      "displayName": "Wladmir Cardoso Brandão",
      "photoUrl": "//lh5.googleusercontent.com/-SGSelMTRK_4/AAAAAAAAAAI/AAAAAAABeK0/PmbiLSnzkAE/s50-c-k-no/photo.jpg",
      "userId": "103335929661169749259"
     },
     "user_tz": 180
    },
    "id": "xa4HWZBcj5W1",
    "outputId": "bb9e74b6-c6a3-476d-9ffb-5dee6dba3cee"
   },
   "outputs": [
    {
     "data": {
      "text/html": [
       "<div>\n",
       "<style scoped>\n",
       "    .dataframe tbody tr th:only-of-type {\n",
       "        vertical-align: middle;\n",
       "    }\n",
       "\n",
       "    .dataframe tbody tr th {\n",
       "        vertical-align: top;\n",
       "    }\n",
       "\n",
       "    .dataframe thead th {\n",
       "        text-align: right;\n",
       "    }\n",
       "</style>\n",
       "<table border=\"1\" class=\"dataframe\">\n",
       "  <thead>\n",
       "    <tr style=\"text-align: right;\">\n",
       "      <th></th>\n",
       "      <th>BookID</th>\n",
       "      <th>BookTitle</th>\n",
       "      <th>Score</th>\n",
       "    </tr>\n",
       "  </thead>\n",
       "  <tbody>\n",
       "    <tr>\n",
       "      <th>0</th>\n",
       "      <td>1923</td>\n",
       "      <td>Snow Falling on Cedars</td>\n",
       "      <td>7369.678</td>\n",
       "    </tr>\n",
       "    <tr>\n",
       "      <th>1</th>\n",
       "      <td>3784</td>\n",
       "      <td>STONES FROM THE RIVER</td>\n",
       "      <td>3380.645</td>\n",
       "    </tr>\n",
       "    <tr>\n",
       "      <th>2</th>\n",
       "      <td>648</td>\n",
       "      <td>Angela's Ashes: A Memoir</td>\n",
       "      <td>3249.612</td>\n",
       "    </tr>\n",
       "    <tr>\n",
       "      <th>3</th>\n",
       "      <td>5071</td>\n",
       "      <td>Bridget Jones's Diary</td>\n",
       "      <td>2966.432</td>\n",
       "    </tr>\n",
       "    <tr>\n",
       "      <th>4</th>\n",
       "      <td>1307</td>\n",
       "      <td>The Color of Water: A Black Man's Tribute to H...</td>\n",
       "      <td>1474.314</td>\n",
       "    </tr>\n",
       "    <tr>\n",
       "      <th>5</th>\n",
       "      <td>4578</td>\n",
       "      <td>What Looks Like Crazy On An Ordinary Day</td>\n",
       "      <td>1098.024</td>\n",
       "    </tr>\n",
       "    <tr>\n",
       "      <th>6</th>\n",
       "      <td>2545</td>\n",
       "      <td>How to Be Good</td>\n",
       "      <td>810.309</td>\n",
       "    </tr>\n",
       "    <tr>\n",
       "      <th>7</th>\n",
       "      <td>7548</td>\n",
       "      <td>Girl in Hyacinth Blue</td>\n",
       "      <td>640.098</td>\n",
       "    </tr>\n",
       "    <tr>\n",
       "      <th>8</th>\n",
       "      <td>1485</td>\n",
       "      <td>At Home in Mitford (The Mitford Years)</td>\n",
       "      <td>621.981</td>\n",
       "    </tr>\n",
       "    <tr>\n",
       "      <th>9</th>\n",
       "      <td>3235</td>\n",
       "      <td>A Child Called \\It\\\": One Child's Courage to S...</td>\n",
       "      <td>529.795</td>\n",
       "    </tr>\n",
       "  </tbody>\n",
       "</table>\n",
       "</div>"
      ],
      "text/plain": [
       "   BookID                                          BookTitle    Score\n",
       "0    1923                             Snow Falling on Cedars 7369.678\n",
       "1    3784                              STONES FROM THE RIVER 3380.645\n",
       "2     648                           Angela's Ashes: A Memoir 3249.612\n",
       "3    5071                              Bridget Jones's Diary 2966.432\n",
       "4    1307  The Color of Water: A Black Man's Tribute to H... 1474.314\n",
       "5    4578           What Looks Like Crazy On An Ordinary Day 1098.024\n",
       "6    2545                                     How to Be Good  810.309\n",
       "7    7548                              Girl in Hyacinth Blue  640.098\n",
       "8    1485             At Home in Mitford (The Mitford Years)  621.981\n",
       "9    3235  A Child Called \\It\\\": One Child's Courage to S...  529.795"
      ]
     },
     "execution_count": 177,
     "metadata": {},
     "output_type": "execute_result"
    }
   ],
   "source": [
    "recommendedItensHB = HBModel.recommend(4017, topn=10, verbose=True)\n",
    "#A linha a seguir foi adicionada pois como mais os filmes possuem mais de uma palavra que pode ser relevante para o usuário\n",
    "#o livro poderia aparecer repetido na lista\n",
    "recommendedItensHB = recommendedItensHB.drop_duplicates(subset='BookID',keep='first')\n",
    "recommendedItensHB.sort_values(ascending=False,by=['Score']).head(10)"
   ]
  },
  {
   "cell_type": "markdown",
   "metadata": {
    "colab_type": "text",
    "id": "ZuYscJzD9JJW"
   },
   "source": [
    "## Avaliação das Abordagens\n",
    "---\n",
    "Para comparar as diferentes abordagens de recomendação precisamos estabelecer métricas e modelos de avaliação, além de adotar técnicas de validação estatística de resultados. A seguir apresento as métricas, modelos e técnicas utilizadas para avaliar as abordagens previamente apresentadas. "
   ]
  },
  {
   "cell_type": "markdown",
   "metadata": {
    "colab_type": "text",
    "id": "rJmNmdovEnMX"
   },
   "source": [
    "### Métricas de Avaliação\n",
    "\n",
    "---\n",
    "Podemos avaliar sistemas de recomendação sob diferentes aspectos, cobrindo diferentes expectativas dos usuários:\n",
    "\n",
    "\n",
    "1.   Acurárica (*accuracy*): capacidade do sistema de recomendar itens *\"corretos\"* para o usuário, onde* \"correto\"* significa itens similares àqueles que o sistema já sabe que o usuário tem interesse.\n",
    "2.   Novidade (*novelty*): capacidade do sistema recomendar itens *\"novos\"* para o usuário, onde *\"novo\"* significa itens que o usuário desconhece.\n",
    "1.   Diversidade (*diversity*): capacidade do sistema recomendar itens* \"diversos\"* para o usuário, onde *\"diverso\"* significa um conjunto de itens com características bem diferentes uns dos outros.\n",
    "2.   Surpresa (*serendipity*): capacidade do sistema recomendar itens *\"surpreendentes\"* para o usuário, onde *\"surpreendente\"* significa itens com características que o usuário nem sabia que existia."
   ]
  },
  {
   "cell_type": "markdown",
   "metadata": {
    "colab_type": "text",
    "id": "kJB9ajYQK-RW"
   },
   "source": [
    "#### Acurácia\n",
    "\n",
    "---\n",
    "\n",
    "Existem diferentes métricas para avaliação da acurácia de sistemas de recomendação, mais ou menos adequadas dependendo do tipo de predição que o recomendador provê:\n",
    "\n",
    "*   Predição de *Rating*: recomendadores que predizem o valor efetivo do *rating* que um usuário atribui a um item são recomendadores preditores de *ratings*. Para eles, comumente utilizamos métricas de erro, tais como [MAE (Mean Absolute Error)](https://en.wikipedia.org/wiki/Mean_absolute_error), [MSE(Mean Squared Error)](https://en.wikipedia.org/wiki/Mean_squared_error) e [RMSE (Root Mean Squared Error)](https://en.wikipedia.org/wiki/Root-mean-square_deviation). Particularmente, tais métricas acumulam erros (diferenças) de predição e quanto maior o valor da métrica, menor a acurácia da predição. \n",
    "*   Predição de Ranking:  recomendadores que predizem a ordem com que itens devem ser recomendados a usuários, considerando a relevância do item ao usuário, são recomendadores preditores de ranking. Comumente eles oferecem listas de recomendações e utilizamos métricas de recuperação de informação baseadas em relevância, tais como [P@n (Precision at n)](https://en.wikipedia.org/wiki/Evaluation_measures_%28information_retrieval%29#Precision_at_K), [Recall](https://en.wikipedia.org/wiki/Evaluation_measures_%28information_retrieval%29#Recall), [MAP (Mean Average Precision)](https://en.wikipedia.org/wiki/Evaluation_measures_%28information_retrieval%29#Mean_average_precision) e [nDCG (normalized Discounted Cumulative Gain](https://en.wikipedia.org/wiki/Evaluation_measures_%28information_retrieval%29#Discounted_cumulative_gain). \n",
    "\n",
    "Veja também a postagem sobre [avaliação de sistemas de recomendação](http://fastml.com/evaluating-recommender-systems/)."
   ]
  },
  {
   "cell_type": "markdown",
   "metadata": {
    "colab_type": "text",
    "id": "g_fXw41GmEPw"
   },
   "source": [
    "##### MAE\n",
    "\n",
    "---\n",
    "\n",
    "MAE mede a diferença entre observações pareadas que expressam o mesmo fenômeno, por exemplo *ratings* preditos e observados em um sistema de recomendação. Em particular, considerando um evento com $n$ ocorrências, onde em cada ocorrência temos um valor predito $\\hat{y}_i$ e um valor observado $y_i$, define-se MAE como:\n",
    "$$MAE = \\frac{\\sum_{i=1}^{n} |y_i - \\hat{y}_i|}{n}$$\n",
    "No código abaixo, denominamos a série de valores preditos como `y_score` e a série de valores observados como `y_true`:"
   ]
  },
  {
   "cell_type": "code",
   "execution_count": 178,
   "metadata": {
    "colab": {
     "autoexec": {
      "startup": false,
      "wait_interval": 0
     }
    },
    "colab_type": "code",
    "id": "h39tdy2BxRfA"
   },
   "outputs": [],
   "source": [
    "def MAE(y_true, y_score):\n",
    "    return (np.absolute(y_true - y_score)).sum() / len(y_true)"
   ]
  },
  {
   "cell_type": "code",
   "execution_count": 179,
   "metadata": {
    "colab": {
     "autoexec": {
      "startup": false,
      "wait_interval": 0
     },
     "base_uri": "https://localhost:8080/",
     "height": 34
    },
    "colab_type": "code",
    "executionInfo": {
     "elapsed": 722,
     "status": "ok",
     "timestamp": 1528912365242,
     "user": {
      "displayName": "Wladmir Cardoso Brandão",
      "photoUrl": "//lh5.googleusercontent.com/-SGSelMTRK_4/AAAAAAAAAAI/AAAAAAABeK0/PmbiLSnzkAE/s50-c-k-no/photo.jpg",
      "userId": "103335929661169749259"
     },
     "user_tz": 180
    },
    "id": "t96z82mFys9y",
    "outputId": "03c21c47-2693-4bb1-d68a-934b690cccd6"
   },
   "outputs": [
    {
     "name": "stdout",
     "output_type": "stream",
     "text": [
      "MAE: 0.800000\n"
     ]
    }
   ],
   "source": [
    "score=np.array([1, 8, 6, 9, 4])\n",
    "oracle=np.array([1, 7, 5, 8, 3])\n",
    "print(\"MAE: %f\" % MAE(oracle,score))"
   ]
  },
  {
   "cell_type": "markdown",
   "metadata": {
    "colab_type": "text",
    "id": "A3Y0QAkumKxK"
   },
   "source": [
    "##### MSE\n",
    "\n",
    "---\n",
    "MSE é uma função de risco que apura a média dos quadrados dos erros (perda de erro quadrática ou simplesmente perda quadrática), ou seja, a diferença entre o estimador e o que é estimado. Tal como MAE, ela pode ser usada para medir a diferença entre *ratings* preditos e observados em um sistema de recomendação.\n",
    "$$MSE = \\frac{\\sum_{i=1}^{n} (y_i - \\hat{y}_i)^2}{n}$$\n"
   ]
  },
  {
   "cell_type": "code",
   "execution_count": 180,
   "metadata": {
    "colab": {
     "autoexec": {
      "startup": false,
      "wait_interval": 0
     }
    },
    "colab_type": "code",
    "id": "7RfyDdBzw72t"
   },
   "outputs": [],
   "source": [
    "def MSE(y_true, y_score):\n",
    "    return np.power((y_true - y_score),2).sum() / len(y_true)"
   ]
  },
  {
   "cell_type": "code",
   "execution_count": 181,
   "metadata": {
    "colab": {
     "autoexec": {
      "startup": false,
      "wait_interval": 0
     },
     "base_uri": "https://localhost:8080/",
     "height": 34
    },
    "colab_type": "code",
    "executionInfo": {
     "elapsed": 790,
     "status": "ok",
     "timestamp": 1528912373140,
     "user": {
      "displayName": "Wladmir Cardoso Brandão",
      "photoUrl": "//lh5.googleusercontent.com/-SGSelMTRK_4/AAAAAAAAAAI/AAAAAAABeK0/PmbiLSnzkAE/s50-c-k-no/photo.jpg",
      "userId": "103335929661169749259"
     },
     "user_tz": 180
    },
    "id": "ABalzq95yrlU",
    "outputId": "a4d3b7a5-e5be-4dfa-ef1a-196e367f1adb"
   },
   "outputs": [
    {
     "name": "stdout",
     "output_type": "stream",
     "text": [
      "MSE: 0.800000\n"
     ]
    }
   ],
   "source": [
    "score=np.array([1, 8, 6, 9, 4])\n",
    "oracle=np.array([1, 7, 5, 8, 3])\n",
    "print(\"MSE: %f\" % MSE(oracle,score))"
   ]
  },
  {
   "cell_type": "markdown",
   "metadata": {
    "colab_type": "text",
    "id": "36iMRutkmO8D"
   },
   "source": [
    "##### RMSE\n",
    "\n",
    "---\n",
    "\n",
    "MSE também é uma função de risco para medição de perda quadrática e tal como MAE e MSE, ela pode ser usada para medir a diferença entre *ratings* preditos e observados em um sistema de recomendação.\n",
    "$$RMSE = \\sqrt{\\frac{\\sum_{i=1}^{n} (y_i - \\hat{y}_i)^2}{n}}$$"
   ]
  },
  {
   "cell_type": "code",
   "execution_count": 182,
   "metadata": {
    "colab": {
     "autoexec": {
      "startup": false,
      "wait_interval": 0
     }
    },
    "colab_type": "code",
    "id": "TFmAvn4cuqAE"
   },
   "outputs": [],
   "source": [
    "def RMSE(y_true, y_score):\n",
    "    return sqrt(np.power((y_true - y_score),2).sum() / len(y_true))"
   ]
  },
  {
   "cell_type": "code",
   "execution_count": 183,
   "metadata": {
    "colab": {
     "autoexec": {
      "startup": false,
      "wait_interval": 0
     },
     "base_uri": "https://localhost:8080/",
     "height": 34
    },
    "colab_type": "code",
    "executionInfo": {
     "elapsed": 673,
     "status": "ok",
     "timestamp": 1528912381201,
     "user": {
      "displayName": "Wladmir Cardoso Brandão",
      "photoUrl": "//lh5.googleusercontent.com/-SGSelMTRK_4/AAAAAAAAAAI/AAAAAAABeK0/PmbiLSnzkAE/s50-c-k-no/photo.jpg",
      "userId": "103335929661169749259"
     },
     "user_tz": 180
    },
    "id": "BTqwFhV5vduD",
    "outputId": "7a8dbd80-ef0d-4751-ad15-aa2b92919b16"
   },
   "outputs": [
    {
     "name": "stdout",
     "output_type": "stream",
     "text": [
      "RMSE: 0.894427\n"
     ]
    }
   ],
   "source": [
    "score=np.array([1, 8, 6, 9, 4])\n",
    "oracle=np.array([1, 7, 5, 8, 3])\n",
    "print(\"RMSE: %f\" % RMSE(oracle,score))"
   ]
  },
  {
   "cell_type": "markdown",
   "metadata": {
    "colab_type": "text",
    "id": "p7w1bek3mUrw"
   },
   "source": [
    "##### Precisão\n",
    "\n",
    "---\n",
    "\n",
    "Precisão, ou [valores positivamente preditos](https://en.wikipedia.org/wiki/Positive_and_negative_predictive_values), é uma medida de relevância computada pela fração de instâncias relevantes recuperadas dentre todas as instâncias recuperadas. Pode ser usada para medir a *pureza* de uma lista de recomendação. Particularmente, considerando um evento com $n$ ocorrências, onde em cada ocorrência temos um valor de relevância predita $\\hat{y}_i$ e um julgamento binário de relevância $y_i$, define-se Precisão ($P$) como:\n",
    "$$P = \\frac{\\sum_{i=1}^{n} y_i}{n}$$\n",
    "No código abaixo, denominamos a série de valores preditos de relevância como `y_score` e a série de julgamentos binários de relevância como `y_true`:"
   ]
  },
  {
   "cell_type": "code",
   "execution_count": 184,
   "metadata": {
    "colab": {
     "autoexec": {
      "startup": false,
      "wait_interval": 0
     }
    },
    "colab_type": "code",
    "id": "Bae57FYYUazP"
   },
   "outputs": [],
   "source": [
    "def Precision(y_true, y_score, k=None):\n",
    "    ranking = np.argsort(y_score)[::-1]\n",
    "    rating = y_true[ranking]\n",
    "\n",
    "    if k is not None:\n",
    "        rating = rating[0:k]\n",
    "        \n",
    "    return np.count_nonzero(rating) / len(rating)"
   ]
  },
  {
   "cell_type": "code",
   "execution_count": 185,
   "metadata": {
    "colab": {
     "autoexec": {
      "startup": false,
      "wait_interval": 0
     },
     "base_uri": "https://localhost:8080/",
     "height": 34
    },
    "colab_type": "code",
    "executionInfo": {
     "elapsed": 710,
     "status": "ok",
     "timestamp": 1528912396876,
     "user": {
      "displayName": "Wladmir Cardoso Brandão",
      "photoUrl": "//lh5.googleusercontent.com/-SGSelMTRK_4/AAAAAAAAAAI/AAAAAAABeK0/PmbiLSnzkAE/s50-c-k-no/photo.jpg",
      "userId": "103335929661169749259"
     },
     "user_tz": 180
    },
    "id": "MD-ZbC0nVVE4",
    "outputId": "6f3f8b34-5ff8-4d5e-9c6c-6c2d6d831513"
   },
   "outputs": [
    {
     "name": "stdout",
     "output_type": "stream",
     "text": [
      "Precision: 0.800000\n"
     ]
    }
   ],
   "source": [
    "score=np.array([1, 8, 6, 9, 4])\n",
    "oracle=np.array([1, 0, 1, 4, 1])\n",
    "print(\"Precision: %f\" % Precision(oracle,score))"
   ]
  },
  {
   "cell_type": "markdown",
   "metadata": {
    "colab_type": "text",
    "id": "5Af55T85map-"
   },
   "source": [
    "##### Revocação\n",
    "\n",
    "---\n",
    "\n",
    "Tal como a Precisão, a Revocação (do inglês *Recall*) é também uma medida de relevância, mas computada pela fração de instâncias relevantes recuperadas dentre o total de instâncias relevantes existentes. Pode ser usada para medir a *completude* de uma lista de recomendação. Considerando um evento com $n$ ocorrências e $m$ instâncias relevantes dentre as ocorrências, onde em cada ocorrência temos um valor de relevância predita $\\hat{y}_i$ e um julgamento binário de relevância $y_i$, define-se Revocação ($R$) como:\n",
    "$$R = \\frac{\\sum_{i=1}^{n} y_i}{m}$$"
   ]
  },
  {
   "cell_type": "code",
   "execution_count": 186,
   "metadata": {
    "colab": {
     "autoexec": {
      "startup": false,
      "wait_interval": 0
     }
    },
    "colab_type": "code",
    "id": "DLViRo5IiMfQ"
   },
   "outputs": [],
   "source": [
    "def Recall(y_true, y_score, k=None):\n",
    "    ranking = np.argsort(y_score)[::-1]\n",
    "    rating = y_true[ranking]\n",
    "    allRelevant = np.count_nonzero(rating)\n",
    "\n",
    "    if k is not None:\n",
    "        rating = rating[0:k]\n",
    "        \n",
    "    return np.count_nonzero(rating) / allRelevant"
   ]
  },
  {
   "cell_type": "code",
   "execution_count": 187,
   "metadata": {
    "colab": {
     "autoexec": {
      "startup": false,
      "wait_interval": 0
     },
     "base_uri": "https://localhost:8080/",
     "height": 34
    },
    "colab_type": "code",
    "executionInfo": {
     "elapsed": 700,
     "status": "ok",
     "timestamp": 1528912405157,
     "user": {
      "displayName": "Wladmir Cardoso Brandão",
      "photoUrl": "//lh5.googleusercontent.com/-SGSelMTRK_4/AAAAAAAAAAI/AAAAAAABeK0/PmbiLSnzkAE/s50-c-k-no/photo.jpg",
      "userId": "103335929661169749259"
     },
     "user_tz": 180
    },
    "id": "TbcOdCQWiuoY",
    "outputId": "1c6cb452-7fb6-4707-ac7f-53a10500f30a"
   },
   "outputs": [
    {
     "name": "stdout",
     "output_type": "stream",
     "text": [
      "Recall: 0.500000\n"
     ]
    }
   ],
   "source": [
    "score=np.array([1, 8, 6, 9, 4])\n",
    "oracle=np.array([1, 0, 1, 4, 1])\n",
    "print(\"Recall: %f\" % Recall(oracle,score,k=3))"
   ]
  },
  {
   "cell_type": "markdown",
   "metadata": {
    "colab_type": "text",
    "id": "RGK1_1DBmeI7"
   },
   "source": [
    "##### Precisão Média\n",
    "\n",
    "---\n",
    "Precisão e revocação são métricas de valores calculados a partir da lista completa de instâncias, sem considerar ordem. Quando tempos uma sequência ordenada de instâncias, é adequado que consideremos a ordem das instâncias no ranking. Considerando um evento com $n$ ocorrências (em ordem decrescente de valores preditos de relevância) e $m$ instâncias relevantes presentes no ranking, onde em cada ocorrência temos um valor predito de relevância $\\hat{y}_i$ e um valor de julgamento binário de relevância $y_i$, define-se Precisão Média ($AP$ do acrônimo em inglês para *Average Precision*) como:\n",
    "$$AP = \\frac{\\sum_{i=1}^{n} P(i) \\times y_i}{m}$$\n",
    "onde $P(i)$ é a precisão na posição de ranking $i$. Cabe ressaltar que a série de valores preditos de relevância deve estar ordenada descendentemente pelo valor predito de relevância $\\hat{y}_i$. No código abaixo, denominamos a série de valores preditos de relevância como `y_score` e a série de julgamentos binários de relevância como `y_true`:"
   ]
  },
  {
   "cell_type": "code",
   "execution_count": 188,
   "metadata": {
    "colab": {
     "autoexec": {
      "startup": false,
      "wait_interval": 0
     }
    },
    "colab_type": "code",
    "id": "K920onmL0QDc"
   },
   "outputs": [],
   "source": [
    "def getPrecision(hits):\n",
    "    v=np.cumsum(hits)[::-1]\n",
    "    v=np.where((v[1:] - v[:-1]) == 0, 0, v[:-1])\n",
    "    v=np.append(v, hits[0])\n",
    "    pos=np.arange(len(hits))+1\n",
    "    return v[::-1] / pos\n",
    "\n",
    "def AveragePrecision(y_true, y_score, k=None, binary=True):\n",
    "    ranking = np.argsort(y_score)[::-1]\n",
    "    rating = y_true[ranking]\n",
    "    if k is not None:\n",
    "        rating = rating[0:k]\n",
    "    hits=np.where(rating > 0, 1, 0)\n",
    "    if binary:\n",
    "        rating=hits\n",
    "    precision = getPrecision(hits)\n",
    "    return (rating * precision).sum() / np.count_nonzero(hits)"
   ]
  },
  {
   "cell_type": "code",
   "execution_count": 189,
   "metadata": {
    "colab": {
     "autoexec": {
      "startup": false,
      "wait_interval": 0
     },
     "base_uri": "https://localhost:8080/",
     "height": 34
    },
    "colab_type": "code",
    "executionInfo": {
     "elapsed": 877,
     "status": "ok",
     "timestamp": 1528912414927,
     "user": {
      "displayName": "Wladmir Cardoso Brandão",
      "photoUrl": "//lh5.googleusercontent.com/-SGSelMTRK_4/AAAAAAAAAAI/AAAAAAABeK0/PmbiLSnzkAE/s50-c-k-no/photo.jpg",
      "userId": "103335929661169749259"
     },
     "user_tz": 180
    },
    "id": "SAE7kZP_PfWJ",
    "outputId": "cc556331-e2ff-47a4-8f0f-e25a96558cae"
   },
   "outputs": [
    {
     "name": "stdout",
     "output_type": "stream",
     "text": [
      "AP: 0.833333\n"
     ]
    }
   ],
   "source": [
    "score=np.array([1, 8, 6, 9, 4])\n",
    "oracle=np.array([1, 0, 1, 4, 1])\n",
    "print(\"AP: %f\" % AveragePrecision(oracle,score,k=3))"
   ]
  },
  {
   "cell_type": "markdown",
   "metadata": {
    "colab_type": "text",
    "id": "gvN-NSEsmhIK"
   },
   "source": [
    "##### nDCG\n",
    "\n",
    "---\n",
    "A métrica $nDCG$ (acrônimo em inglês para *normalized Discounted Cumulative Gain*) utiliza uma escala não-binária de julgamento de relevância para avaliar a relevância (ganho) de uma instância baseado na sua posição na lista de resultados. A premissa é que uma instância altamente relevante aparecendo em posições finais na lista de resultados deve ser penalizada com a redução de seu valor não-binário de relevância por um fator logarítmico proporcional a sua posição na lista. Particularmente, considerando um evento com $n$ ocorrências (em ordem decrescente de valores preditos de relevância), onde em cada ocorrência temos um valor predito de relevância $\\hat{y}_i$ e um valor de julgamento não-binário de relevância $y_i$, define-se $DCG$ (*Discounted Cumulative Gain*) como:\n",
    "$$DCG =  \\sum_{i=1}^{n} \\frac{y_i}{\\log_2 (i+1)}$$\n",
    "Para normalizar os valores de $DCG$, dividimo-os pelo valor de $IDCG$, ou seja, o valor de $DCG$ do melhor ordenamento possível (decrescente) dos valores de julgamento de relevância não-binários $y_i$:\n",
    "$$nDCG =  \\frac{DCG}{IDCG}$$\n"
   ]
  },
  {
   "cell_type": "code",
   "execution_count": 190,
   "metadata": {
    "colab": {
     "autoexec": {
      "startup": false,
      "wait_interval": 0
     }
    },
    "colab_type": "code",
    "id": "O0S_MHx4SpuA"
   },
   "outputs": [],
   "source": [
    "def getCumulativeGain(y_true, y_score, k=None):\n",
    "    ranking = np.argsort(y_score)[::-1]\n",
    "    rating = y_true[ranking]\n",
    "    if k is not None:\n",
    "        rating = rating[0:k]    \n",
    "    logIndices = np.log2(np.arange(len(rating))+2)\n",
    "    return (rating / logIndices).sum()\n",
    "\n",
    "\n",
    "def nDCG(y_true, y_score, k=None):\n",
    "    gain = getCumulativeGain(y_true, y_score, k)\n",
    "    norm = getCumulativeGain(y_true[np.argsort(y_true)[::-1]], y_score[np.argsort(y_score)[::-1]], k)\n",
    "    return gain / norm"
   ]
  },
  {
   "cell_type": "code",
   "execution_count": 191,
   "metadata": {
    "colab": {
     "autoexec": {
      "startup": false,
      "wait_interval": 0
     },
     "base_uri": "https://localhost:8080/",
     "height": 51
    },
    "colab_type": "code",
    "executionInfo": {
     "elapsed": 666,
     "status": "ok",
     "timestamp": 1528912429804,
     "user": {
      "displayName": "Wladmir Cardoso Brandão",
      "photoUrl": "//lh5.googleusercontent.com/-SGSelMTRK_4/AAAAAAAAAAI/AAAAAAABeK0/PmbiLSnzkAE/s50-c-k-no/photo.jpg",
      "userId": "103335929661169749259"
     },
     "user_tz": 180
    },
    "id": "neY4vf4gpeTb",
    "outputId": "d248ec6b-ae68-40c9-ec50-5d16ad87519f"
   },
   "outputs": [
    {
     "name": "stdout",
     "output_type": "stream",
     "text": [
      "DCG: 4.500000\n",
      "nDCG: 0.877034\n"
     ]
    }
   ],
   "source": [
    "score=np.array([1, 8, 6, 9, 4])\n",
    "oracle=np.array([1, 0, 1, 4, 1])\n",
    "print(\"DCG: %f\" % getCumulativeGain(oracle,score,k=3))\n",
    "print(\"nDCG: %f\" % nDCG(oracle,score,k=3))"
   ]
  },
  {
   "cell_type": "markdown",
   "metadata": {
    "colab_type": "text",
    "id": "7PeaiHlAJqBY"
   },
   "source": [
    "### Modelos de Avaliação\n",
    "\n",
    "---\n",
    "\n",
    "Como existem diferenças na forma como as abordagens de recomendação são capazes de entregar os resultados, se faz necessário desenvolver diferentes modelos para avaliação das abordagens. Por exemplo, para abordagens capazes de entregar listas ordenadas (ranking) de recomendações é adequado utilizar modelos que avaliem a qualidade do ranking entregue. Já para abordagens capazes de entregar *ratings* de usuários em itens é adequado utilizar modelos que avaliem o quanto os *ratings* entregues são próximas dos *ratings* reais, aquelas o usuário efetivamente atribuiria a itens."
   ]
  },
  {
   "cell_type": "markdown",
   "metadata": {
    "colab_type": "text",
    "id": "F6lVVV30Mx2W"
   },
   "source": [
    "#### Ranking\n",
    "\n",
    "---\n",
    "\n",
    "O modelo de avaliação de ranking aqui utilizado considera que cada abordagem avaliada seja capaz de sugerir aos usuários um ranking de $k$ itens relevantes. Particularmente, cada abordagem é capaz de associar a cada um dos $k$ items que o usuário não atribuiu *rating* uma medida (*score*) que permite a ordenação dos itens em uma lista de recomendação onde os top-$n$ elementos serão utilizados no cálculo da acurácia da abordagem."
   ]
  },
  {
   "cell_type": "code",
   "execution_count": 192,
   "metadata": {
    "colab": {
     "autoexec": {
      "startup": false,
      "wait_interval": 0
     }
    },
    "colab_type": "code",
    "id": "c-kOEVXfF7NA"
   },
   "outputs": [],
   "source": [
    "class RankingEvaluator:\n",
    "     \n",
    "    def getRatedItems(self, user_id, interactions_from_selected_users_df):\n",
    "        ratedItems = interactions_from_selected_users_df.loc[user_id]['BookID']\n",
    "        return set(ratedItems if type(ratedItems) == pd.Series else [ratedItems])\n",
    "\n",
    "    def evaluateModelForUser(self, model, user_id, k=1000, n=10):\n",
    "        relevantItems = ratingsTestIndexedDF.loc[user_id]\n",
    "        if type(relevantItems['BookID']) == pd.Series:\n",
    "            relevantItems = set(relevantItems['BookID'])\n",
    "        else:\n",
    "            relevantItems = set([int(relevantItems['BookID'])])\n",
    "        if (not relevantItems or len(relevantItems) < n):\n",
    "            return {}\n",
    "          \n",
    "        APValue = 0\n",
    "        nDCG1Value = 0\n",
    "        nDCG3Value = 0\n",
    "        nDCG5Value = 0\n",
    "        nDCG10Value = 0\n",
    "        recommendationsDF = model.recommend(user_id, \n",
    "                                            items_to_ignore=self.getRatedItems(user_id, ratingsTrainIndexedDF), \n",
    "                                            topn=k)[['BookID', 'Score']]\n",
    "        oracleDF = recommendationsDF['BookID'].isin(relevantItems)\n",
    "        if (any(oracleDF)):\n",
    "            APValue = AveragePrecision(oracleDF.values.flatten(), recommendationsDF['Score'].values.flatten())\n",
    "            nDCG1Value = nDCG(oracleDF.values.flatten(), recommendationsDF['Score'].values.flatten(), k=1)            \n",
    "            nDCG3Value = nDCG(oracleDF.values.flatten(), recommendationsDF['Score'].values.flatten(), k=3)\n",
    "            nDCG5Value = nDCG(oracleDF.values.flatten(), recommendationsDF['Score'].values.flatten(), k=5)\n",
    "            nDCG10Value = nDCG(oracleDF.values.flatten(), recommendationsDF['Score'].values.flatten(), k=10)\n",
    "            \n",
    "        userMetrics = {'relevant': len(relevantItems), \n",
    "                      'AP': APValue,\n",
    "                      'nDCG@1': nDCG1Value,\n",
    "                      'nDCG@3': nDCG3Value,\n",
    "                      'nDCG@5': nDCG5Value,\n",
    "                      'nDCG@10': nDCG10Value}\n",
    "        return userMetrics\n",
    "\n",
    "    def evaluate(self, model, k=1000, n=10):\n",
    "        usersMetrics = []\n",
    "        for idx, user_id in enumerate(list(ratingsTestIndexedDF.index.unique().values)):\n",
    "            userMetrics = self.evaluateModelForUser(model, user_id, k, n) \n",
    "            if (not userMetrics):\n",
    "              continue;\n",
    "            userMetrics['UserID'] = user_id\n",
    "            usersMetrics.append(userMetrics)\n",
    "\n",
    "        resultsDF = pd.DataFrame(usersMetrics) \\\n",
    "                      .sort_values('relevant', ascending=False)\n",
    "        \n",
    "        globalMAP = resultsDF['AP'].sum() / float(len(resultsDF))\n",
    "        globalNDCG1 = resultsDF['nDCG@1'].sum() / float(len(resultsDF))\n",
    "        globalNDCG3 = resultsDF['nDCG@3'].sum() / float(len(resultsDF))       \n",
    "        globalNDCG5 = resultsDF['nDCG@5'].sum() / float(len(resultsDF))\n",
    "        globalNDCG10 = resultsDF['nDCG@10'].sum() / float(len(resultsDF))\n",
    "\n",
    "        globalMetrics = {'modelName': model.getModelName(),\n",
    "                          'MAP': globalMAP,\n",
    "                          'nDCG@1': globalNDCG1,\n",
    "                          'nDCG@3': globalNDCG3,\n",
    "                          'nDCG@5': globalNDCG5,\n",
    "                          'nDCG@10': globalNDCG10}  \n",
    "        \n",
    "        return globalMetrics, resultsDF\n",
    "    \n",
    "rankingEvaluator = RankingEvaluator()"
   ]
  },
  {
   "cell_type": "markdown",
   "metadata": {
    "colab_type": "text",
    "id": "YhbJYABzP6U_"
   },
   "source": [
    "Cabe ressaltar que as métricas de avaliação de acurácia utilizadas por esse modelo devem ser métricas de relevância que captem a qualidade do ranking entregue pela abordagem, tais como $P$, $R$, $AP$ e $nDCG$. "
   ]
  },
  {
   "cell_type": "markdown",
   "metadata": {
    "colab_type": "text",
    "id": "lXz8gtd_POBQ"
   },
   "source": [
    "#### *Rating*\n",
    "\n",
    "---\n",
    "\n",
    "O modelo de avaliação de *rating* aqui utilizado considera que cada abordagem avaliada seja capaz de associar a cada um dos items que o usuário não atribuiu *rating* uma medida (*score*) que corresponde ao *rating* que o usuário efetivamente atribuiria ao item."
   ]
  },
  {
   "cell_type": "code",
   "execution_count": 193,
   "metadata": {
    "colab": {
     "autoexec": {
      "startup": false,
      "wait_interval": 0
     }
    },
    "colab_type": "code",
    "id": "L9t2PEt4ix95"
   },
   "outputs": [],
   "source": [
    "class RatingEvaluator:\n",
    "     \n",
    "    def getRatedItems(self, UserID, interactions_from_selected_users_df):\n",
    "        ratedItems = interactions_from_selected_users_df.loc[UserID]['BookID']\n",
    "        return set(ratedItems if type(ratedItems) == pd.Series else [ratedItems])\n",
    "\n",
    "    def evaluateModelForUser(self, model, UserID):\n",
    "        MAEValue = 0\n",
    "        MSEValue = 0\n",
    "        RMSEValue = 0\n",
    "        recommendationsDF = model.recommend(UserID, \n",
    "                                            items_to_ignore=self.getRatedItems(UserID, ratingsTrainIndexedDF), \n",
    "                                            topn=1000000000)[['BookID', 'Score']]\n",
    "        recommendationsDF.loc[:,'UserID'] = pd.Series([UserID]*len(recommendationsDF))     \n",
    "        recommendationsDF = recommendationsDF.merge(ratingsTestDF, how = 'inner', \n",
    "                                                    left_on = ['UserID','BookID'], \n",
    "                                                    right_on = ['UserID','BookID'])[['UserID','BookID','Score','BookRating']]\n",
    "        if (not recommendationsDF.empty):\n",
    "            MAEValue = MAE(recommendationsDF['BookRating'].values.flatten(), recommendationsDF['Score'].values.flatten())\n",
    "            MSEValue = MSE(recommendationsDF['BookRating'].values.flatten(), recommendationsDF['Score'].values.flatten())\n",
    "            RMSEValue = RMSE(recommendationsDF['BookRating'].values.flatten(), recommendationsDF['Score'].values.flatten())\n",
    "            \n",
    "        userMetrics = {'items': len(recommendationsDF), \n",
    "                      'MAE': MAEValue,\n",
    "                      'MSE': MSEValue,\n",
    "                      'RMSE': RMSEValue}\n",
    "        return (userMetrics, recommendationsDF)\n",
    "\n",
    "    def evaluate(self, model):\n",
    "        usersMetrics = []\n",
    "        recommendationsDF = pd.DataFrame(columns=['UserID','BookID','Score','BookRating'])\n",
    "        for idx, UserID in enumerate(list(ratingsTestIndexedDF.index.unique().values)):\n",
    "            userMetrics, recommendationDF = self.evaluateModelForUser(model, UserID) \n",
    "            if (recommendationDF.empty):\n",
    "              continue;\n",
    "            userMetrics['UserID'] = UserID\n",
    "            usersMetrics.append(userMetrics)\n",
    "            recommendationsDF = recommendationsDF.append(recommendationDF)\n",
    "\n",
    "        resultsDF = pd.DataFrame(usersMetrics) \\\n",
    "                      .sort_values('items', ascending=False)\n",
    "        \n",
    "        globalMAE = MAE(recommendationsDF['BookRating'].values.flatten(), recommendationsDF['Score'].values.flatten())\n",
    "        globalMSE = MSE(recommendationsDF['BookRating'].values.flatten(), recommendationsDF['Score'].values.flatten())\n",
    "        globalRMSE = RMSE(recommendationsDF['BookRating'].values.flatten(), recommendationsDF['Score'].values.flatten())       \n",
    "        \n",
    "        globalMetrics = {'modelName': model.getModelName(),\n",
    "                          'MAE': globalMAE,\n",
    "                          'MSE': globalMSE,\n",
    "                          'RMSE': globalRMSE}  \n",
    "        \n",
    "        return globalMetrics, resultsDF\n",
    "    \n",
    "ratingEvaluator = RatingEvaluator()"
   ]
  },
  {
   "cell_type": "markdown",
   "metadata": {
    "colab_type": "text",
    "id": "C6Ae9F8qQguO"
   },
   "source": [
    "Cabe ressaltar que as métricas de avaliação de acurácia utilizadas por esse modelo devem ser métricas de erro que captem o quanto os *ratings* entregues pela abordagem estão próximas dos *ratings* efetivamente atribuídos pelo usuário, tais como $MAE$, $MSE$ e $RMSE$."
   ]
  },
  {
   "cell_type": "markdown",
   "metadata": {
    "colab_type": "text",
    "id": "suexrWzoEuX9"
   },
   "source": [
    "### Técnicas de Validação\n",
    "\n",
    "---\n",
    "\n",
    "Uma das técnicas mais utilizadas para validação estatística de resultados experimentais é a [validação cruzada](https://pt.wikipedia.org/wiki/Valida%C3%A7%C3%A3o_cruzada) (*cross-validation*). O objetivo é observar como os resultados de uma análise experimental em uma amostra de dados podem ser generalizados considerando uma base de dados real. Particularmente, a técnica divide a análise experimental em rodadas (*rounds*), particionando a amostra de dados utilizada no experimento em subconjuntos complementares e, a partir daí, realizando a análise em um subconjunto de treino e validando os resultados em outro conjunto de teste. "
   ]
  },
  {
   "cell_type": "markdown",
   "metadata": {
    "colab_type": "text",
    "id": "lDST5Z-zdecx"
   },
   "source": [
    "#### Holdout\n",
    "\n",
    "---\n",
    "\n",
    "O método de validação cruzada com  [holdout](https://pt.wikipedia.org/wiki/Valida%C3%A7%C3%A3o_cruzada#M%C3%A9todo_holdout), implica em escolhar aleatoriamente um percentual de amostras de dados para treino e o restante para teste. Ao final da iteração calculamos os valores das métricas de acurácia. Por essa razão é também conhecido como validação cruzada de rodada única. É comum utilizar grande parte dos dados para compor uma amostra aleatória de treino, algo entre 80% a 90%, e o restante para compor a amostra de teste."
   ]
  },
  {
   "cell_type": "markdown",
   "metadata": {
    "colab_type": "text",
    "id": "OmLnqJTbVXvv"
   },
   "source": [
    "#### k-fold\n",
    "\n",
    "---\n",
    "\n",
    "Uma forma mais efetiva de avaliação seria adotar a [validação cruzada k-fold](https://pt.wikipedia.org/wiki/Valida%C3%A7%C3%A3o_cruzada#M%C3%A9todo_k-fold). Nela, dividimos nossa amostra de dados em $k$ subconjuntos mutuamente exclusivos de mesmo tamanho e, a partir daí, $k-1$ subconjuntos são utilizados para treino e o subconjunto remanescente é utilizado para teste. Este processo é realizado $k$ vezes alternando de forma circular o subconjunto de teste. Ao final das $k$ iterações calculamos os valores médios das métricas de acurácia nessas diversas rodadas de avaliação.\n",
    "\n"
   ]
  },
  {
   "cell_type": "markdown",
   "metadata": {
    "colab_type": "text",
    "id": "Bm1Q3tE08KwA"
   },
   "source": [
    "Podemos tornar a avaliação ainda mais efetiva se não dividirmos os conjuntos de treino e teste aleatoriamente, mas por datas de referência por exemplo. Nesse caso, o conjunto de treino seria composto por todas as avaliações anteriores a uma determinada data e o conjunto de teste seria formado pelas avaliações restantes. Assim, poderíamos simular o desempenho de uma abordagem para predições futuras."
   ]
  },
  {
   "cell_type": "markdown",
   "metadata": {
    "colab_type": "text",
    "id": "xHkVQ2csV38F"
   },
   "source": [
    "## Experimentos e Resultados\n",
    "\n",
    "---\n",
    "\n",
    "Nossa avaliação se concentrará no aspecto da acurácia e usaremos o método de validação cruzada com  [holdout](https://pt.wikipedia.org/wiki/Valida%C3%A7%C3%A3o_cruzada#M%C3%A9todo_holdout) com uma amostra aleatória de 80% dos dados para treino das abordagens de recomendação e os 20% restantes para teste.\n",
    "Para todas as abordagens avaliadas utilizaremos o modelo de avaliação de ranking reportando as métricas $MAP$ (acrônimo em inglês para *Mean Average Precision*), $nDCG@1$, $nDCG@3$, $nDCG@5$ e $nDCG@10$ e para as abordagens de filtragem colaborativa utilizaremos também o modelo de avaliação de *rating* reportando as métricas $MAE$, $MSE$ e $RMSE$, uma vez que se trata de abordagens capazes de entregar, além de listas de recomendações, *ratings* de usuários em itens."
   ]
  },
  {
   "cell_type": "code",
   "execution_count": 194,
   "metadata": {
    "colab": {
     "autoexec": {
      "startup": false,
      "wait_interval": 0
     },
     "base_uri": "https://localhost:8080/",
     "height": 51
    },
    "colab_type": "code",
    "executionInfo": {
     "elapsed": 768,
     "status": "ok",
     "timestamp": 1528912451431,
     "user": {
      "displayName": "Wladmir Cardoso Brandão",
      "photoUrl": "//lh5.googleusercontent.com/-SGSelMTRK_4/AAAAAAAAAAI/AAAAAAABeK0/PmbiLSnzkAE/s50-c-k-no/photo.jpg",
      "userId": "103335929661169749259"
     },
     "user_tz": 180
    },
    "id": "z4QG1o9OFrHZ",
    "outputId": "e42e0789-98d6-41b8-a130-d7a4c07c92aa"
   },
   "outputs": [
    {
     "name": "stdout",
     "output_type": "stream",
     "text": [
      "17971\n",
      "# de ratings no subconjunto de treino: 14376\n",
      "# de ratings no subconjunto de teste: 3595\n"
     ]
    }
   ],
   "source": [
    "ratingsTrainDF, ratingsTestDF = train_test_split(interactions_from_selected_users_df,\n",
    "                                                 stratify=interactions_from_selected_users_df['UserID'], \n",
    "                                                 test_size=0.20,\n",
    "                                                 random_state=73)\n",
    "print(len(interactions_from_selected_users_df))\n",
    "print('# de ratings no subconjunto de treino: %d' % len(ratingsTrainDF))\n",
    "print('# de ratings no subconjunto de teste: %d' % len(ratingsTestDF))"
   ]
  },
  {
   "cell_type": "code",
   "execution_count": 195,
   "metadata": {
    "colab": {
     "autoexec": {
      "startup": false,
      "wait_interval": 0
     }
    },
    "colab_type": "code",
    "id": "0oL0VKeDF0aN"
   },
   "outputs": [],
   "source": [
    "#Indexing by userId to speed up the searches during evaluation\n",
    "ratingsIndexedDF = interactions_from_selected_users_df.set_index('UserID')\n",
    "ratingsTrainIndexedDF = ratingsTrainDF.set_index('UserID')\n",
    "ratingsTestIndexedDF = ratingsTestDF.set_index('UserID')"
   ]
  },
  {
   "cell_type": "markdown",
   "metadata": {
    "colab_type": "text",
    "id": "qlGq8-a-y7cV"
   },
   "source": [
    "### Popularidade\n",
    "\n",
    "---\n",
    "\n"
   ]
  },
  {
   "cell_type": "code",
   "execution_count": 196,
   "metadata": {
    "colab": {
     "autoexec": {
      "startup": false,
      "wait_interval": 0
     },
     "base_uri": "https://localhost:8080/",
     "height": 105
    },
    "colab_type": "code",
    "executionInfo": {
     "elapsed": 4362,
     "status": "ok",
     "timestamp": 1528912464890,
     "user": {
      "displayName": "Wladmir Cardoso Brandão",
      "photoUrl": "//lh5.googleusercontent.com/-SGSelMTRK_4/AAAAAAAAAAI/AAAAAAABeK0/PmbiLSnzkAE/s50-c-k-no/photo.jpg",
      "userId": "103335929661169749259"
     },
     "user_tz": 180
    },
    "id": "NvCEmfRDG1LD",
    "outputId": "545fd1c4-b5ce-4f45-f7c6-4f3ca2fd374b"
   },
   "outputs": [
    {
     "name": "stdout",
     "output_type": "stream",
     "text": [
      "Avaliando a abordagem PB...\n",
      "\n",
      "Métricas Globais:\n",
      "{'modelName': 'PB', 'MAP': 0.15282424842463327, 'nDCG@1': 0.2413793103448276, 'nDCG@3': 0.2251972853095601, 'nDCG@5': 0.230709184116797, 'nDCG@10': 0.22347317793320678}\n"
     ]
    }
   ],
   "source": [
    "print('Avaliando a abordagem %s...' % PBModel.getModelName())\n",
    "PBGlobalMetricsRankingDF, PBDetailedMetricsRankingDF = rankingEvaluator.evaluate(PBModel)\n",
    "print('\\nMétricas Globais:\\n%s' % PBGlobalMetricsRankingDF)"
   ]
  },
  {
   "cell_type": "code",
   "execution_count": 197,
   "metadata": {
    "colab": {
     "autoexec": {
      "startup": false,
      "wait_interval": 0
     },
     "base_uri": "https://localhost:8080/",
     "height": 204
    },
    "colab_type": "code",
    "executionInfo": {
     "elapsed": 691,
     "status": "ok",
     "timestamp": 1528912468630,
     "user": {
      "displayName": "Wladmir Cardoso Brandão",
      "photoUrl": "//lh5.googleusercontent.com/-SGSelMTRK_4/AAAAAAAAAAI/AAAAAAABeK0/PmbiLSnzkAE/s50-c-k-no/photo.jpg",
      "userId": "103335929661169749259"
     },
     "user_tz": 180
    },
    "id": "_CYbboViN-CP",
    "outputId": "9b4bf091-a47d-43e7-82aa-8b0eb1acc044"
   },
   "outputs": [
    {
     "data": {
      "text/html": [
       "<div>\n",
       "<style scoped>\n",
       "    .dataframe tbody tr th:only-of-type {\n",
       "        vertical-align: middle;\n",
       "    }\n",
       "\n",
       "    .dataframe tbody tr th {\n",
       "        vertical-align: top;\n",
       "    }\n",
       "\n",
       "    .dataframe thead th {\n",
       "        text-align: right;\n",
       "    }\n",
       "</style>\n",
       "<table border=\"1\" class=\"dataframe\">\n",
       "  <thead>\n",
       "    <tr style=\"text-align: right;\">\n",
       "      <th></th>\n",
       "      <th>UserID</th>\n",
       "      <th>relevant</th>\n",
       "      <th>AP</th>\n",
       "      <th>nDCG@1</th>\n",
       "      <th>nDCG@3</th>\n",
       "      <th>nDCG@5</th>\n",
       "      <th>nDCG@10</th>\n",
       "    </tr>\n",
       "  </thead>\n",
       "  <tbody>\n",
       "    <tr>\n",
       "      <th>0</th>\n",
       "      <td>3363</td>\n",
       "      <td>10</td>\n",
       "      <td>0.043</td>\n",
       "      <td>0.000</td>\n",
       "      <td>0.000</td>\n",
       "      <td>0.000</td>\n",
       "      <td>0.000</td>\n",
       "    </tr>\n",
       "    <tr>\n",
       "      <th>27</th>\n",
       "      <td>6575</td>\n",
       "      <td>11</td>\n",
       "      <td>0.045</td>\n",
       "      <td>0.000</td>\n",
       "      <td>0.000</td>\n",
       "      <td>0.000</td>\n",
       "      <td>0.090</td>\n",
       "    </tr>\n",
       "    <tr>\n",
       "      <th>5</th>\n",
       "      <td>11676</td>\n",
       "      <td>76</td>\n",
       "      <td>0.341</td>\n",
       "      <td>1.000</td>\n",
       "      <td>1.000</td>\n",
       "      <td>1.000</td>\n",
       "      <td>0.791</td>\n",
       "    </tr>\n",
       "    <tr>\n",
       "      <th>24</th>\n",
       "      <td>16795</td>\n",
       "      <td>13</td>\n",
       "      <td>0.099</td>\n",
       "      <td>0.000</td>\n",
       "      <td>0.000</td>\n",
       "      <td>0.146</td>\n",
       "      <td>0.161</td>\n",
       "    </tr>\n",
       "    <tr>\n",
       "      <th>10</th>\n",
       "      <td>23768</td>\n",
       "      <td>13</td>\n",
       "      <td>0.193</td>\n",
       "      <td>0.000</td>\n",
       "      <td>0.000</td>\n",
       "      <td>0.131</td>\n",
       "      <td>0.227</td>\n",
       "    </tr>\n",
       "    <tr>\n",
       "      <th>11</th>\n",
       "      <td>35859</td>\n",
       "      <td>21</td>\n",
       "      <td>0.117</td>\n",
       "      <td>0.000</td>\n",
       "      <td>0.000</td>\n",
       "      <td>0.000</td>\n",
       "      <td>0.143</td>\n",
       "    </tr>\n",
       "    <tr>\n",
       "      <th>18</th>\n",
       "      <td>43246</td>\n",
       "      <td>10</td>\n",
       "      <td>0.114</td>\n",
       "      <td>0.000</td>\n",
       "      <td>0.235</td>\n",
       "      <td>0.170</td>\n",
       "      <td>0.179</td>\n",
       "    </tr>\n",
       "    <tr>\n",
       "      <th>23</th>\n",
       "      <td>55492</td>\n",
       "      <td>12</td>\n",
       "      <td>0.238</td>\n",
       "      <td>1.000</td>\n",
       "      <td>0.765</td>\n",
       "      <td>0.553</td>\n",
       "      <td>0.359</td>\n",
       "    </tr>\n",
       "    <tr>\n",
       "      <th>2</th>\n",
       "      <td>60244</td>\n",
       "      <td>18</td>\n",
       "      <td>0.283</td>\n",
       "      <td>1.000</td>\n",
       "      <td>0.469</td>\n",
       "      <td>0.485</td>\n",
       "      <td>0.600</td>\n",
       "    </tr>\n",
       "    <tr>\n",
       "      <th>1</th>\n",
       "      <td>73394</td>\n",
       "      <td>10</td>\n",
       "      <td>0.058</td>\n",
       "      <td>0.000</td>\n",
       "      <td>0.000</td>\n",
       "      <td>0.146</td>\n",
       "      <td>0.101</td>\n",
       "    </tr>\n",
       "  </tbody>\n",
       "</table>\n",
       "</div>"
      ],
      "text/plain": [
       "    UserID  relevant    AP  nDCG@1  nDCG@3  nDCG@5  nDCG@10\n",
       "0     3363        10 0.043   0.000   0.000   0.000    0.000\n",
       "27    6575        11 0.045   0.000   0.000   0.000    0.090\n",
       "5    11676        76 0.341   1.000   1.000   1.000    0.791\n",
       "24   16795        13 0.099   0.000   0.000   0.146    0.161\n",
       "10   23768        13 0.193   0.000   0.000   0.131    0.227\n",
       "11   35859        21 0.117   0.000   0.000   0.000    0.143\n",
       "18   43246        10 0.114   0.000   0.235   0.170    0.179\n",
       "23   55492        12 0.238   1.000   0.765   0.553    0.359\n",
       "2    60244        18 0.283   1.000   0.469   0.485    0.600\n",
       "1    73394        10 0.058   0.000   0.000   0.146    0.101"
      ]
     },
     "execution_count": 197,
     "metadata": {},
     "output_type": "execute_result"
    }
   ],
   "source": [
    "PBDetailedMetricsRankingDF = PBDetailedMetricsRankingDF[['UserID', 'relevant', 'AP', 'nDCG@1', 'nDCG@3', 'nDCG@5', 'nDCG@10']]\n",
    "PBDetailedMetricsRankingDF.sort_values(by=['UserID']).head(10)"
   ]
  },
  {
   "cell_type": "markdown",
   "metadata": {
    "colab_type": "text",
    "id": "xbNHGwR3zB5T"
   },
   "source": [
    "### Filtragem Colaborativa\n",
    "\n",
    "---\n",
    "\n"
   ]
  },
  {
   "cell_type": "code",
   "execution_count": 198,
   "metadata": {
    "colab": {
     "autoexec": {
      "startup": false,
      "wait_interval": 0
     }
    },
    "colab_type": "code",
    "id": "iOz09Cx1ywGt"
   },
   "outputs": [
    {
     "name": "stderr",
     "output_type": "stream",
     "text": [
      "C:\\Anaconda3\\lib\\site-packages\\ipykernel_launcher.py:4: FutureWarning: Method .as_matrix will be removed in a future version. Use .values instead.\n",
      "  after removing the cwd from sys.path.\n"
     ]
    }
   ],
   "source": [
    "usersItemsDF = ratingsTrainDF.pivot(index='UserID',                           \n",
    "                                    columns='BookID', \n",
    "                                    values='BookRating').fillna(0)\n",
    "usersItemsMatrix = usersItemsDF.as_matrix()\n",
    "usersSimilarity = pairwise_distances(usersItemsMatrix, metric='cosine')\n",
    "meanUserRating = usersItemsMatrix.mean(axis=1)\n",
    "DiffRating = (usersItemsMatrix - meanUserRating[:, np.newaxis])\n",
    "predictedRatings = meanUserRating[:, np.newaxis] + usersSimilarity.dot(DiffRating) / np.array([np.abs(usersSimilarity).sum(axis=1)]).T\n",
    "CFPredictionsDF = pd.DataFrame(predictedRatings, columns = usersItemsDF.columns, index=usersIds).transpose()\n",
    "UBModel = CFRecommender('CF-UB',CFPredictionsDF, items)"
   ]
  },
  {
   "cell_type": "code",
   "execution_count": 199,
   "metadata": {
    "colab": {
     "autoexec": {
      "startup": false,
      "wait_interval": 0
     },
     "base_uri": "https://localhost:8080/",
     "height": 105
    },
    "colab_type": "code",
    "executionInfo": {
     "elapsed": 4888,
     "status": "ok",
     "timestamp": 1528912484899,
     "user": {
      "displayName": "Wladmir Cardoso Brandão",
      "photoUrl": "//lh5.googleusercontent.com/-SGSelMTRK_4/AAAAAAAAAAI/AAAAAAABeK0/PmbiLSnzkAE/s50-c-k-no/photo.jpg",
      "userId": "103335929661169749259"
     },
     "user_tz": 180
    },
    "id": "Xn4O2cX676G1",
    "outputId": "09b16bfb-2d7d-4706-9865-4e640b112f2f"
   },
   "outputs": [
    {
     "name": "stdout",
     "output_type": "stream",
     "text": [
      "Avaliando a abordagem CF-UB...\n",
      "\n",
      "Métricas Globais:\n",
      "{'modelName': 'CF-UB', 'MAP': 0.1520600738688741, 'nDCG@1': 0.20689655172413793, 'nDCG@3': 0.21922498134208107, 'nDCG@5': 0.2359539940070025, 'nDCG@10': 0.23071813875369032}\n"
     ]
    }
   ],
   "source": [
    "print('Avaliando a abordagem %s...' % UBModel.getModelName())\n",
    "UBGlobalMetricsRankingDF, UBDetailedMetricsRankingDF = rankingEvaluator.evaluate(UBModel)\n",
    "print('\\nMétricas Globais:\\n%s' % UBGlobalMetricsRankingDF)"
   ]
  },
  {
   "cell_type": "code",
   "execution_count": 200,
   "metadata": {
    "colab": {
     "autoexec": {
      "startup": false,
      "wait_interval": 0
     },
     "base_uri": "https://localhost:8080/",
     "height": 204
    },
    "colab_type": "code",
    "executionInfo": {
     "elapsed": 3200,
     "status": "ok",
     "timestamp": 1528912492941,
     "user": {
      "displayName": "Wladmir Cardoso Brandão",
      "photoUrl": "//lh5.googleusercontent.com/-SGSelMTRK_4/AAAAAAAAAAI/AAAAAAABeK0/PmbiLSnzkAE/s50-c-k-no/photo.jpg",
      "userId": "103335929661169749259"
     },
     "user_tz": 180
    },
    "id": "lYPbEoRr8MSZ",
    "outputId": "1939f11a-4aa8-4e9b-a4e9-95183c35fa1f"
   },
   "outputs": [
    {
     "data": {
      "text/html": [
       "<div>\n",
       "<style scoped>\n",
       "    .dataframe tbody tr th:only-of-type {\n",
       "        vertical-align: middle;\n",
       "    }\n",
       "\n",
       "    .dataframe tbody tr th {\n",
       "        vertical-align: top;\n",
       "    }\n",
       "\n",
       "    .dataframe thead th {\n",
       "        text-align: right;\n",
       "    }\n",
       "</style>\n",
       "<table border=\"1\" class=\"dataframe\">\n",
       "  <thead>\n",
       "    <tr style=\"text-align: right;\">\n",
       "      <th></th>\n",
       "      <th>UserID</th>\n",
       "      <th>relevant</th>\n",
       "      <th>AP</th>\n",
       "      <th>nDCG@1</th>\n",
       "      <th>nDCG@3</th>\n",
       "      <th>nDCG@5</th>\n",
       "      <th>nDCG@10</th>\n",
       "    </tr>\n",
       "  </thead>\n",
       "  <tbody>\n",
       "    <tr>\n",
       "      <th>0</th>\n",
       "      <td>3363</td>\n",
       "      <td>10</td>\n",
       "      <td>0.036</td>\n",
       "      <td>0.000</td>\n",
       "      <td>0.000</td>\n",
       "      <td>0.000</td>\n",
       "      <td>0.000</td>\n",
       "    </tr>\n",
       "    <tr>\n",
       "      <th>27</th>\n",
       "      <td>6575</td>\n",
       "      <td>11</td>\n",
       "      <td>0.042</td>\n",
       "      <td>0.000</td>\n",
       "      <td>0.000</td>\n",
       "      <td>0.000</td>\n",
       "      <td>0.084</td>\n",
       "    </tr>\n",
       "    <tr>\n",
       "      <th>5</th>\n",
       "      <td>11676</td>\n",
       "      <td>76</td>\n",
       "      <td>0.343</td>\n",
       "      <td>1.000</td>\n",
       "      <td>1.000</td>\n",
       "      <td>1.000</td>\n",
       "      <td>0.797</td>\n",
       "    </tr>\n",
       "    <tr>\n",
       "      <th>24</th>\n",
       "      <td>16795</td>\n",
       "      <td>13</td>\n",
       "      <td>0.103</td>\n",
       "      <td>0.000</td>\n",
       "      <td>0.000</td>\n",
       "      <td>0.131</td>\n",
       "      <td>0.225</td>\n",
       "    </tr>\n",
       "    <tr>\n",
       "      <th>10</th>\n",
       "      <td>23768</td>\n",
       "      <td>13</td>\n",
       "      <td>0.195</td>\n",
       "      <td>0.000</td>\n",
       "      <td>0.000</td>\n",
       "      <td>0.131</td>\n",
       "      <td>0.294</td>\n",
       "    </tr>\n",
       "    <tr>\n",
       "      <th>11</th>\n",
       "      <td>35859</td>\n",
       "      <td>21</td>\n",
       "      <td>0.116</td>\n",
       "      <td>0.000</td>\n",
       "      <td>0.000</td>\n",
       "      <td>0.146</td>\n",
       "      <td>0.158</td>\n",
       "    </tr>\n",
       "    <tr>\n",
       "      <th>18</th>\n",
       "      <td>43246</td>\n",
       "      <td>10</td>\n",
       "      <td>0.104</td>\n",
       "      <td>0.000</td>\n",
       "      <td>0.235</td>\n",
       "      <td>0.170</td>\n",
       "      <td>0.174</td>\n",
       "    </tr>\n",
       "    <tr>\n",
       "      <th>23</th>\n",
       "      <td>55492</td>\n",
       "      <td>12</td>\n",
       "      <td>0.213</td>\n",
       "      <td>1.000</td>\n",
       "      <td>0.765</td>\n",
       "      <td>0.553</td>\n",
       "      <td>0.359</td>\n",
       "    </tr>\n",
       "    <tr>\n",
       "      <th>2</th>\n",
       "      <td>60244</td>\n",
       "      <td>18</td>\n",
       "      <td>0.276</td>\n",
       "      <td>1.000</td>\n",
       "      <td>0.469</td>\n",
       "      <td>0.485</td>\n",
       "      <td>0.529</td>\n",
       "    </tr>\n",
       "    <tr>\n",
       "      <th>1</th>\n",
       "      <td>73394</td>\n",
       "      <td>10</td>\n",
       "      <td>0.057</td>\n",
       "      <td>0.000</td>\n",
       "      <td>0.000</td>\n",
       "      <td>0.146</td>\n",
       "      <td>0.101</td>\n",
       "    </tr>\n",
       "  </tbody>\n",
       "</table>\n",
       "</div>"
      ],
      "text/plain": [
       "    UserID  relevant    AP  nDCG@1  nDCG@3  nDCG@5  nDCG@10\n",
       "0     3363        10 0.036   0.000   0.000   0.000    0.000\n",
       "27    6575        11 0.042   0.000   0.000   0.000    0.084\n",
       "5    11676        76 0.343   1.000   1.000   1.000    0.797\n",
       "24   16795        13 0.103   0.000   0.000   0.131    0.225\n",
       "10   23768        13 0.195   0.000   0.000   0.131    0.294\n",
       "11   35859        21 0.116   0.000   0.000   0.146    0.158\n",
       "18   43246        10 0.104   0.000   0.235   0.170    0.174\n",
       "23   55492        12 0.213   1.000   0.765   0.553    0.359\n",
       "2    60244        18 0.276   1.000   0.469   0.485    0.529\n",
       "1    73394        10 0.057   0.000   0.000   0.146    0.101"
      ]
     },
     "execution_count": 200,
     "metadata": {},
     "output_type": "execute_result"
    }
   ],
   "source": [
    "UBDetailedMetricsRankingDF = UBDetailedMetricsRankingDF[['UserID', 'relevant', 'AP', 'nDCG@1', 'nDCG@3', 'nDCG@5', 'nDCG@10']]\n",
    "UBDetailedMetricsRankingDF.sort_values(by=['UserID']).head(10)"
   ]
  },
  {
   "cell_type": "code",
   "execution_count": 201,
   "metadata": {
    "colab": {
     "autoexec": {
      "startup": false,
      "wait_interval": 0
     },
     "base_uri": "https://localhost:8080/",
     "height": 85
    },
    "colab_type": "code",
    "executionInfo": {
     "elapsed": 14241,
     "status": "ok",
     "timestamp": 1528912514098,
     "user": {
      "displayName": "Wladmir Cardoso Brandão",
      "photoUrl": "//lh5.googleusercontent.com/-SGSelMTRK_4/AAAAAAAAAAI/AAAAAAABeK0/PmbiLSnzkAE/s50-c-k-no/photo.jpg",
      "userId": "103335929661169749259"
     },
     "user_tz": 180
    },
    "id": "YPoBcaI2dP0F",
    "outputId": "cd685279-44ac-40e5-d757-8ceaabad3bc6"
   },
   "outputs": [
    {
     "name": "stdout",
     "output_type": "stream",
     "text": [
      "Avaliando a abordagem CF-UB...\n",
      "\n",
      "Métricas Globais:\n",
      "{'modelName': 'CF-UB', 'MAE': 2.4170665282592334, 'MSE': 19.318259557515294, 'RMSE': 4.395254208520287}\n"
     ]
    }
   ],
   "source": [
    "print('Avaliando a abordagem %s...' % UBModel.getModelName())\n",
    "UBGlobalMetricsRatingDF, UBDetailedMetricsRatingDF = ratingEvaluator.evaluate(UBModel)\n",
    "print('\\nMétricas Globais:\\n%s' % UBGlobalMetricsRatingDF)"
   ]
  },
  {
   "cell_type": "code",
   "execution_count": 202,
   "metadata": {
    "colab": {
     "autoexec": {
      "startup": false,
      "wait_interval": 0
     },
     "base_uri": "https://localhost:8080/",
     "height": 204
    },
    "colab_type": "code",
    "executionInfo": {
     "elapsed": 809,
     "status": "ok",
     "timestamp": 1528912518350,
     "user": {
      "displayName": "Wladmir Cardoso Brandão",
      "photoUrl": "//lh5.googleusercontent.com/-SGSelMTRK_4/AAAAAAAAAAI/AAAAAAABeK0/PmbiLSnzkAE/s50-c-k-no/photo.jpg",
      "userId": "103335929661169749259"
     },
     "user_tz": 180
    },
    "id": "4PUxW-X5dcLA",
    "outputId": "09bfe066-2e75-4687-f981-0ce95f8be746"
   },
   "outputs": [
    {
     "data": {
      "text/html": [
       "<div>\n",
       "<style scoped>\n",
       "    .dataframe tbody tr th:only-of-type {\n",
       "        vertical-align: middle;\n",
       "    }\n",
       "\n",
       "    .dataframe tbody tr th {\n",
       "        vertical-align: top;\n",
       "    }\n",
       "\n",
       "    .dataframe thead th {\n",
       "        text-align: right;\n",
       "    }\n",
       "</style>\n",
       "<table border=\"1\" class=\"dataframe\">\n",
       "  <thead>\n",
       "    <tr style=\"text-align: right;\">\n",
       "      <th></th>\n",
       "      <th>UserID</th>\n",
       "      <th>items</th>\n",
       "      <th>MAE</th>\n",
       "      <th>MSE</th>\n",
       "      <th>RMSE</th>\n",
       "    </tr>\n",
       "  </thead>\n",
       "  <tbody>\n",
       "    <tr>\n",
       "      <th>3</th>\n",
       "      <td>242</td>\n",
       "      <td>4</td>\n",
       "      <td>5.709</td>\n",
       "      <td>43.344</td>\n",
       "      <td>6.584</td>\n",
       "    </tr>\n",
       "    <tr>\n",
       "      <th>1074</th>\n",
       "      <td>243</td>\n",
       "      <td>1</td>\n",
       "      <td>0.075</td>\n",
       "      <td>0.006</td>\n",
       "      <td>0.075</td>\n",
       "    </tr>\n",
       "    <tr>\n",
       "      <th>118</th>\n",
       "      <td>254</td>\n",
       "      <td>4</td>\n",
       "      <td>0.147</td>\n",
       "      <td>0.035</td>\n",
       "      <td>0.186</td>\n",
       "    </tr>\n",
       "    <tr>\n",
       "      <th>594</th>\n",
       "      <td>383</td>\n",
       "      <td>1</td>\n",
       "      <td>0.006</td>\n",
       "      <td>0.000</td>\n",
       "      <td>0.006</td>\n",
       "    </tr>\n",
       "    <tr>\n",
       "      <th>612</th>\n",
       "      <td>388</td>\n",
       "      <td>1</td>\n",
       "      <td>6.943</td>\n",
       "      <td>48.201</td>\n",
       "      <td>6.943</td>\n",
       "    </tr>\n",
       "    <tr>\n",
       "      <th>524</th>\n",
       "      <td>505</td>\n",
       "      <td>1</td>\n",
       "      <td>6.966</td>\n",
       "      <td>48.525</td>\n",
       "      <td>6.966</td>\n",
       "    </tr>\n",
       "    <tr>\n",
       "      <th>808</th>\n",
       "      <td>507</td>\n",
       "      <td>2</td>\n",
       "      <td>3.500</td>\n",
       "      <td>24.330</td>\n",
       "      <td>4.933</td>\n",
       "    </tr>\n",
       "    <tr>\n",
       "      <th>804</th>\n",
       "      <td>625</td>\n",
       "      <td>1</td>\n",
       "      <td>0.028</td>\n",
       "      <td>0.001</td>\n",
       "      <td>0.028</td>\n",
       "    </tr>\n",
       "    <tr>\n",
       "      <th>1102</th>\n",
       "      <td>638</td>\n",
       "      <td>1</td>\n",
       "      <td>8.994</td>\n",
       "      <td>80.892</td>\n",
       "      <td>8.994</td>\n",
       "    </tr>\n",
       "    <tr>\n",
       "      <th>16</th>\n",
       "      <td>651</td>\n",
       "      <td>1</td>\n",
       "      <td>5.999</td>\n",
       "      <td>35.982</td>\n",
       "      <td>5.999</td>\n",
       "    </tr>\n",
       "  </tbody>\n",
       "</table>\n",
       "</div>"
      ],
      "text/plain": [
       "      UserID  items   MAE    MSE  RMSE\n",
       "3        242      4 5.709 43.344 6.584\n",
       "1074     243      1 0.075  0.006 0.075\n",
       "118      254      4 0.147  0.035 0.186\n",
       "594      383      1 0.006  0.000 0.006\n",
       "612      388      1 6.943 48.201 6.943\n",
       "524      505      1 6.966 48.525 6.966\n",
       "808      507      2 3.500 24.330 4.933\n",
       "804      625      1 0.028  0.001 0.028\n",
       "1102     638      1 8.994 80.892 8.994\n",
       "16       651      1 5.999 35.982 5.999"
      ]
     },
     "execution_count": 202,
     "metadata": {},
     "output_type": "execute_result"
    }
   ],
   "source": [
    "UBDetailedMetricsRatingDF = UBDetailedMetricsRatingDF[['UserID', 'items', 'MAE', 'MSE', 'RMSE']]\n",
    "UBDetailedMetricsRatingDF.sort_values(by=['UserID']).head(10)"
   ]
  },
  {
   "cell_type": "code",
   "execution_count": 203,
   "metadata": {
    "colab": {
     "autoexec": {
      "startup": false,
      "wait_interval": 0
     }
    },
    "colab_type": "code",
    "id": "GOFR-a-TzkvG"
   },
   "outputs": [],
   "source": [
    "itemsSimilarity = pairwise_distances(usersItemsMatrix.T, metric='cosine')\n",
    "predictedRatings = usersItemsMatrix.dot(itemsSimilarity) / np.array([np.abs(itemsSimilarity).sum(axis=1)])\n",
    "CFPredictionsDF = pd.DataFrame(predictedRatings, columns = usersItemsDF.columns, index=usersIds).transpose()\n",
    "IBModel = CFRecommender('CF-IB',CFPredictionsDF, items)"
   ]
  },
  {
   "cell_type": "code",
   "execution_count": 204,
   "metadata": {
    "colab": {
     "autoexec": {
      "startup": false,
      "wait_interval": 0
     },
     "base_uri": "https://localhost:8080/",
     "height": 105
    },
    "colab_type": "code",
    "executionInfo": {
     "elapsed": 4631,
     "status": "ok",
     "timestamp": 1528912533105,
     "user": {
      "displayName": "Wladmir Cardoso Brandão",
      "photoUrl": "//lh5.googleusercontent.com/-SGSelMTRK_4/AAAAAAAAAAI/AAAAAAABeK0/PmbiLSnzkAE/s50-c-k-no/photo.jpg",
      "userId": "103335929661169749259"
     },
     "user_tz": 180
    },
    "id": "purCWm-l984i",
    "outputId": "d61e145b-385e-420d-8777-d3c446340738"
   },
   "outputs": [
    {
     "name": "stdout",
     "output_type": "stream",
     "text": [
      "Avaliando a abordagem CF-IB...\n"
     ]
    },
    {
     "name": "stderr",
     "output_type": "stream",
     "text": [
      "C:\\Anaconda3\\lib\\site-packages\\ipykernel_launcher.py:13: RuntimeWarning: invalid value encountered in double_scalars\n",
      "  del sys.path[0]\n"
     ]
    },
    {
     "name": "stdout",
     "output_type": "stream",
     "text": [
      "\n",
      "Métricas Globais:\n",
      "{'modelName': 'CF-IB', 'MAP': 0.011110825972117551, 'nDCG@1': 0.0, 'nDCG@3': 0.0, 'nDCG@5': 0.0, 'nDCG@10': 0.0}\n"
     ]
    }
   ],
   "source": [
    "print('Avaliando a abordagem %s...' % IBModel.getModelName())\n",
    "IBGlobalMetricsRankingDF, IBDetailedMetricsRankingDF = rankingEvaluator.evaluate(IBModel)\n",
    "print('\\nMétricas Globais:\\n%s' % IBGlobalMetricsRankingDF)"
   ]
  },
  {
   "cell_type": "code",
   "execution_count": 205,
   "metadata": {
    "colab": {
     "autoexec": {
      "startup": false,
      "wait_interval": 0
     },
     "base_uri": "https://localhost:8080/",
     "height": 204
    },
    "colab_type": "code",
    "executionInfo": {
     "elapsed": 717,
     "status": "ok",
     "timestamp": 1528912538930,
     "user": {
      "displayName": "Wladmir Cardoso Brandão",
      "photoUrl": "//lh5.googleusercontent.com/-SGSelMTRK_4/AAAAAAAAAAI/AAAAAAABeK0/PmbiLSnzkAE/s50-c-k-no/photo.jpg",
      "userId": "103335929661169749259"
     },
     "user_tz": 180
    },
    "id": "7fhsouMG-qXK",
    "outputId": "8af34708-211a-4239-9fa6-282580d18811"
   },
   "outputs": [
    {
     "data": {
      "text/html": [
       "<div>\n",
       "<style scoped>\n",
       "    .dataframe tbody tr th:only-of-type {\n",
       "        vertical-align: middle;\n",
       "    }\n",
       "\n",
       "    .dataframe tbody tr th {\n",
       "        vertical-align: top;\n",
       "    }\n",
       "\n",
       "    .dataframe thead th {\n",
       "        text-align: right;\n",
       "    }\n",
       "</style>\n",
       "<table border=\"1\" class=\"dataframe\">\n",
       "  <thead>\n",
       "    <tr style=\"text-align: right;\">\n",
       "      <th></th>\n",
       "      <th>UserID</th>\n",
       "      <th>relevant</th>\n",
       "      <th>AP</th>\n",
       "      <th>nDCG@1</th>\n",
       "      <th>nDCG@3</th>\n",
       "      <th>nDCG@5</th>\n",
       "      <th>nDCG@10</th>\n",
       "    </tr>\n",
       "  </thead>\n",
       "  <tbody>\n",
       "    <tr>\n",
       "      <th>0</th>\n",
       "      <td>3363</td>\n",
       "      <td>10</td>\n",
       "      <td>0.007</td>\n",
       "      <td>0.000</td>\n",
       "      <td>0.000</td>\n",
       "      <td>0.000</td>\n",
       "      <td>0.000</td>\n",
       "    </tr>\n",
       "    <tr>\n",
       "      <th>27</th>\n",
       "      <td>6575</td>\n",
       "      <td>11</td>\n",
       "      <td>0.006</td>\n",
       "      <td>0.000</td>\n",
       "      <td>0.000</td>\n",
       "      <td>0.000</td>\n",
       "      <td>0.000</td>\n",
       "    </tr>\n",
       "    <tr>\n",
       "      <th>5</th>\n",
       "      <td>11676</td>\n",
       "      <td>76</td>\n",
       "      <td>0.040</td>\n",
       "      <td>0.000</td>\n",
       "      <td>0.000</td>\n",
       "      <td>0.000</td>\n",
       "      <td>0.000</td>\n",
       "    </tr>\n",
       "    <tr>\n",
       "      <th>24</th>\n",
       "      <td>16795</td>\n",
       "      <td>13</td>\n",
       "      <td>0.007</td>\n",
       "      <td>0.000</td>\n",
       "      <td>0.000</td>\n",
       "      <td>0.000</td>\n",
       "      <td>0.000</td>\n",
       "    </tr>\n",
       "    <tr>\n",
       "      <th>10</th>\n",
       "      <td>23768</td>\n",
       "      <td>13</td>\n",
       "      <td>0.009</td>\n",
       "      <td>0.000</td>\n",
       "      <td>0.000</td>\n",
       "      <td>0.000</td>\n",
       "      <td>0.000</td>\n",
       "    </tr>\n",
       "    <tr>\n",
       "      <th>11</th>\n",
       "      <td>35859</td>\n",
       "      <td>21</td>\n",
       "      <td>0.004</td>\n",
       "      <td>0.000</td>\n",
       "      <td>0.000</td>\n",
       "      <td>0.000</td>\n",
       "      <td>0.000</td>\n",
       "    </tr>\n",
       "    <tr>\n",
       "      <th>18</th>\n",
       "      <td>43246</td>\n",
       "      <td>10</td>\n",
       "      <td>0.002</td>\n",
       "      <td>0.000</td>\n",
       "      <td>0.000</td>\n",
       "      <td>0.000</td>\n",
       "      <td>0.000</td>\n",
       "    </tr>\n",
       "    <tr>\n",
       "      <th>23</th>\n",
       "      <td>55492</td>\n",
       "      <td>12</td>\n",
       "      <td>0.004</td>\n",
       "      <td>0.000</td>\n",
       "      <td>0.000</td>\n",
       "      <td>0.000</td>\n",
       "      <td>0.000</td>\n",
       "    </tr>\n",
       "    <tr>\n",
       "      <th>2</th>\n",
       "      <td>60244</td>\n",
       "      <td>18</td>\n",
       "      <td>0.016</td>\n",
       "      <td>0.000</td>\n",
       "      <td>0.000</td>\n",
       "      <td>0.000</td>\n",
       "      <td>0.000</td>\n",
       "    </tr>\n",
       "    <tr>\n",
       "      <th>1</th>\n",
       "      <td>73394</td>\n",
       "      <td>10</td>\n",
       "      <td>0.012</td>\n",
       "      <td>nan</td>\n",
       "      <td>nan</td>\n",
       "      <td>nan</td>\n",
       "      <td>nan</td>\n",
       "    </tr>\n",
       "  </tbody>\n",
       "</table>\n",
       "</div>"
      ],
      "text/plain": [
       "    UserID  relevant    AP  nDCG@1  nDCG@3  nDCG@5  nDCG@10\n",
       "0     3363        10 0.007   0.000   0.000   0.000    0.000\n",
       "27    6575        11 0.006   0.000   0.000   0.000    0.000\n",
       "5    11676        76 0.040   0.000   0.000   0.000    0.000\n",
       "24   16795        13 0.007   0.000   0.000   0.000    0.000\n",
       "10   23768        13 0.009   0.000   0.000   0.000    0.000\n",
       "11   35859        21 0.004   0.000   0.000   0.000    0.000\n",
       "18   43246        10 0.002   0.000   0.000   0.000    0.000\n",
       "23   55492        12 0.004   0.000   0.000   0.000    0.000\n",
       "2    60244        18 0.016   0.000   0.000   0.000    0.000\n",
       "1    73394        10 0.012     nan     nan     nan      nan"
      ]
     },
     "execution_count": 205,
     "metadata": {},
     "output_type": "execute_result"
    }
   ],
   "source": [
    "IBDetailedMetricsRankingDF = IBDetailedMetricsRankingDF[['UserID', 'relevant', 'AP', 'nDCG@1', 'nDCG@3', 'nDCG@5', 'nDCG@10']]\n",
    "IBDetailedMetricsRankingDF.sort_values(by=['UserID']).head(10)"
   ]
  },
  {
   "cell_type": "code",
   "execution_count": 206,
   "metadata": {
    "colab": {
     "autoexec": {
      "startup": false,
      "wait_interval": 0
     },
     "base_uri": "https://localhost:8080/",
     "height": 85
    },
    "colab_type": "code",
    "executionInfo": {
     "elapsed": 13745,
     "status": "ok",
     "timestamp": 1528912559857,
     "user": {
      "displayName": "Wladmir Cardoso Brandão",
      "photoUrl": "//lh5.googleusercontent.com/-SGSelMTRK_4/AAAAAAAAAAI/AAAAAAABeK0/PmbiLSnzkAE/s50-c-k-no/photo.jpg",
      "userId": "103335929661169749259"
     },
     "user_tz": 180
    },
    "id": "YWF4maB6eKYb",
    "outputId": "56f64269-b022-45e2-911d-a1d07fe6314b"
   },
   "outputs": [
    {
     "name": "stdout",
     "output_type": "stream",
     "text": [
      "Avaliando a abordagem CF-IB...\n",
      "\n",
      "Métricas Globais:\n",
      "{'modelName': 'CF-IB', 'MAE': 2.317557569176532, 'MSE': 18.98878391621152, 'RMSE': 4.357612180565352}\n"
     ]
    }
   ],
   "source": [
    "print('Avaliando a abordagem %s...' % IBModel.getModelName())\n",
    "IBGlobalMetricsRatingDF, IBDetailedMetricsRatingDF = ratingEvaluator.evaluate(IBModel)\n",
    "print('\\nMétricas Globais:\\n%s' % IBGlobalMetricsRatingDF)"
   ]
  },
  {
   "cell_type": "code",
   "execution_count": 207,
   "metadata": {
    "colab": {
     "autoexec": {
      "startup": false,
      "wait_interval": 0
     },
     "base_uri": "https://localhost:8080/",
     "height": 204
    },
    "colab_type": "code",
    "executionInfo": {
     "elapsed": 1411,
     "status": "ok",
     "timestamp": 1528912564093,
     "user": {
      "displayName": "Wladmir Cardoso Brandão",
      "photoUrl": "//lh5.googleusercontent.com/-SGSelMTRK_4/AAAAAAAAAAI/AAAAAAABeK0/PmbiLSnzkAE/s50-c-k-no/photo.jpg",
      "userId": "103335929661169749259"
     },
     "user_tz": 180
    },
    "id": "2dCRxrRlen71",
    "outputId": "f31c20e0-2722-453c-f51c-8c6c7e0a9f0a"
   },
   "outputs": [
    {
     "data": {
      "text/html": [
       "<div>\n",
       "<style scoped>\n",
       "    .dataframe tbody tr th:only-of-type {\n",
       "        vertical-align: middle;\n",
       "    }\n",
       "\n",
       "    .dataframe tbody tr th {\n",
       "        vertical-align: top;\n",
       "    }\n",
       "\n",
       "    .dataframe thead th {\n",
       "        text-align: right;\n",
       "    }\n",
       "</style>\n",
       "<table border=\"1\" class=\"dataframe\">\n",
       "  <thead>\n",
       "    <tr style=\"text-align: right;\">\n",
       "      <th></th>\n",
       "      <th>UserID</th>\n",
       "      <th>items</th>\n",
       "      <th>MAE</th>\n",
       "      <th>MSE</th>\n",
       "      <th>RMSE</th>\n",
       "    </tr>\n",
       "  </thead>\n",
       "  <tbody>\n",
       "    <tr>\n",
       "      <th>3</th>\n",
       "      <td>242</td>\n",
       "      <td>4</td>\n",
       "      <td>5.706</td>\n",
       "      <td>43.235</td>\n",
       "      <td>6.575</td>\n",
       "    </tr>\n",
       "    <tr>\n",
       "      <th>1061</th>\n",
       "      <td>243</td>\n",
       "      <td>1</td>\n",
       "      <td>0.007</td>\n",
       "      <td>0.000</td>\n",
       "      <td>0.007</td>\n",
       "    </tr>\n",
       "    <tr>\n",
       "      <th>118</th>\n",
       "      <td>254</td>\n",
       "      <td>4</td>\n",
       "      <td>0.011</td>\n",
       "      <td>0.000</td>\n",
       "      <td>0.011</td>\n",
       "    </tr>\n",
       "    <tr>\n",
       "      <th>587</th>\n",
       "      <td>383</td>\n",
       "      <td>1</td>\n",
       "      <td>0.003</td>\n",
       "      <td>0.000</td>\n",
       "      <td>0.003</td>\n",
       "    </tr>\n",
       "    <tr>\n",
       "      <th>605</th>\n",
       "      <td>388</td>\n",
       "      <td>1</td>\n",
       "      <td>6.984</td>\n",
       "      <td>48.776</td>\n",
       "      <td>6.984</td>\n",
       "    </tr>\n",
       "    <tr>\n",
       "      <th>519</th>\n",
       "      <td>505</td>\n",
       "      <td>1</td>\n",
       "      <td>6.985</td>\n",
       "      <td>48.792</td>\n",
       "      <td>6.985</td>\n",
       "    </tr>\n",
       "    <tr>\n",
       "      <th>798</th>\n",
       "      <td>507</td>\n",
       "      <td>2</td>\n",
       "      <td>3.500</td>\n",
       "      <td>24.500</td>\n",
       "      <td>4.950</td>\n",
       "    </tr>\n",
       "    <tr>\n",
       "      <th>794</th>\n",
       "      <td>625</td>\n",
       "      <td>1</td>\n",
       "      <td>0.037</td>\n",
       "      <td>0.001</td>\n",
       "      <td>0.037</td>\n",
       "    </tr>\n",
       "    <tr>\n",
       "      <th>1088</th>\n",
       "      <td>638</td>\n",
       "      <td>1</td>\n",
       "      <td>8.984</td>\n",
       "      <td>80.712</td>\n",
       "      <td>8.984</td>\n",
       "    </tr>\n",
       "    <tr>\n",
       "      <th>16</th>\n",
       "      <td>651</td>\n",
       "      <td>1</td>\n",
       "      <td>5.985</td>\n",
       "      <td>35.822</td>\n",
       "      <td>5.985</td>\n",
       "    </tr>\n",
       "  </tbody>\n",
       "</table>\n",
       "</div>"
      ],
      "text/plain": [
       "      UserID  items   MAE    MSE  RMSE\n",
       "3        242      4 5.706 43.235 6.575\n",
       "1061     243      1 0.007  0.000 0.007\n",
       "118      254      4 0.011  0.000 0.011\n",
       "587      383      1 0.003  0.000 0.003\n",
       "605      388      1 6.984 48.776 6.984\n",
       "519      505      1 6.985 48.792 6.985\n",
       "798      507      2 3.500 24.500 4.950\n",
       "794      625      1 0.037  0.001 0.037\n",
       "1088     638      1 8.984 80.712 8.984\n",
       "16       651      1 5.985 35.822 5.985"
      ]
     },
     "execution_count": 207,
     "metadata": {},
     "output_type": "execute_result"
    }
   ],
   "source": [
    "IBDetailedMetricsRatingDF = IBDetailedMetricsRatingDF[['UserID', 'items', 'MAE', 'MSE', 'RMSE']]\n",
    "IBDetailedMetricsRatingDF.sort_values(by=['UserID']).head(10)"
   ]
  },
  {
   "cell_type": "code",
   "execution_count": 208,
   "metadata": {
    "colab": {
     "autoexec": {
      "startup": false,
      "wait_interval": 0
     }
    },
    "colab_type": "code",
    "id": "8_bGsbA3z6la"
   },
   "outputs": [],
   "source": [
    "#Performs matrix factorization of the original user item matrix\n",
    "U, sigma, Vt = svds(usersItemsMatrix, k=15)\n",
    "sigma = np.diag(sigma)\n",
    "predictedRatings = np.dot(np.dot(U, sigma), Vt) \n",
    "CFPredictionsDF = pd.DataFrame(predictedRatings, columns = usersItemsDF.columns, index=usersIds).transpose()\n",
    "SVDModel = CFRecommender('CF-SVD',CFPredictionsDF, items)"
   ]
  },
  {
   "cell_type": "code",
   "execution_count": 209,
   "metadata": {
    "colab": {
     "autoexec": {
      "startup": false,
      "wait_interval": 0
     },
     "base_uri": "https://localhost:8080/",
     "height": 105
    },
    "colab_type": "code",
    "executionInfo": {
     "elapsed": 4910,
     "status": "ok",
     "timestamp": 1528912577494,
     "user": {
      "displayName": "Wladmir Cardoso Brandão",
      "photoUrl": "//lh5.googleusercontent.com/-SGSelMTRK_4/AAAAAAAAAAI/AAAAAAABeK0/PmbiLSnzkAE/s50-c-k-no/photo.jpg",
      "userId": "103335929661169749259"
     },
     "user_tz": 180
    },
    "id": "OYmgEe91InPU",
    "outputId": "67ab72be-bdaa-4ede-fd70-b7b67b18a4b5"
   },
   "outputs": [
    {
     "name": "stdout",
     "output_type": "stream",
     "text": [
      "Avaliando a abordagem CF-SVD...\n",
      "\n",
      "Métricas Globais:\n",
      "{'modelName': 'CF-SVD', 'MAP': 0.14122200371209992, 'nDCG@1': 0.20689655172413793, 'nDCG@3': 0.19668683065634943, 'nDCG@5': 0.17370260883430577, 'nDCG@10': 0.16904957005907692}\n"
     ]
    }
   ],
   "source": [
    "print('Avaliando a abordagem %s...' % SVDModel.getModelName())\n",
    "SVDGlobalMetricsRankingDF, SVDDetailedMetricsRankingDF = rankingEvaluator.evaluate(SVDModel)\n",
    "print('\\nMétricas Globais:\\n%s' % SVDGlobalMetricsRankingDF)"
   ]
  },
  {
   "cell_type": "code",
   "execution_count": 210,
   "metadata": {
    "colab": {
     "autoexec": {
      "startup": false,
      "wait_interval": 0
     },
     "base_uri": "https://localhost:8080/",
     "height": 204
    },
    "colab_type": "code",
    "executionInfo": {
     "elapsed": 850,
     "status": "ok",
     "timestamp": 1528912582984,
     "user": {
      "displayName": "Wladmir Cardoso Brandão",
      "photoUrl": "//lh5.googleusercontent.com/-SGSelMTRK_4/AAAAAAAAAAI/AAAAAAABeK0/PmbiLSnzkAE/s50-c-k-no/photo.jpg",
      "userId": "103335929661169749259"
     },
     "user_tz": 180
    },
    "id": "ebJGOgZyQPJo",
    "outputId": "cf730451-1114-40af-db2c-54ef3bedc303"
   },
   "outputs": [
    {
     "data": {
      "text/html": [
       "<div>\n",
       "<style scoped>\n",
       "    .dataframe tbody tr th:only-of-type {\n",
       "        vertical-align: middle;\n",
       "    }\n",
       "\n",
       "    .dataframe tbody tr th {\n",
       "        vertical-align: top;\n",
       "    }\n",
       "\n",
       "    .dataframe thead th {\n",
       "        text-align: right;\n",
       "    }\n",
       "</style>\n",
       "<table border=\"1\" class=\"dataframe\">\n",
       "  <thead>\n",
       "    <tr style=\"text-align: right;\">\n",
       "      <th></th>\n",
       "      <th>UserID</th>\n",
       "      <th>relevant</th>\n",
       "      <th>AP</th>\n",
       "      <th>nDCG@1</th>\n",
       "      <th>nDCG@3</th>\n",
       "      <th>nDCG@5</th>\n",
       "      <th>nDCG@10</th>\n",
       "    </tr>\n",
       "  </thead>\n",
       "  <tbody>\n",
       "    <tr>\n",
       "      <th>0</th>\n",
       "      <td>3363</td>\n",
       "      <td>10</td>\n",
       "      <td>0.045</td>\n",
       "      <td>0.000</td>\n",
       "      <td>0.000</td>\n",
       "      <td>0.000</td>\n",
       "      <td>0.000</td>\n",
       "    </tr>\n",
       "    <tr>\n",
       "      <th>27</th>\n",
       "      <td>6575</td>\n",
       "      <td>11</td>\n",
       "      <td>0.021</td>\n",
       "      <td>0.000</td>\n",
       "      <td>0.000</td>\n",
       "      <td>0.000</td>\n",
       "      <td>0.000</td>\n",
       "    </tr>\n",
       "    <tr>\n",
       "      <th>5</th>\n",
       "      <td>11676</td>\n",
       "      <td>76</td>\n",
       "      <td>0.108</td>\n",
       "      <td>0.000</td>\n",
       "      <td>0.000</td>\n",
       "      <td>0.000</td>\n",
       "      <td>0.000</td>\n",
       "    </tr>\n",
       "    <tr>\n",
       "      <th>24</th>\n",
       "      <td>16795</td>\n",
       "      <td>13</td>\n",
       "      <td>0.059</td>\n",
       "      <td>0.000</td>\n",
       "      <td>0.000</td>\n",
       "      <td>0.000</td>\n",
       "      <td>0.000</td>\n",
       "    </tr>\n",
       "    <tr>\n",
       "      <th>10</th>\n",
       "      <td>23768</td>\n",
       "      <td>13</td>\n",
       "      <td>0.494</td>\n",
       "      <td>1.000</td>\n",
       "      <td>1.000</td>\n",
       "      <td>0.854</td>\n",
       "      <td>0.592</td>\n",
       "    </tr>\n",
       "    <tr>\n",
       "      <th>11</th>\n",
       "      <td>35859</td>\n",
       "      <td>21</td>\n",
       "      <td>0.181</td>\n",
       "      <td>1.000</td>\n",
       "      <td>0.704</td>\n",
       "      <td>0.509</td>\n",
       "      <td>0.396</td>\n",
       "    </tr>\n",
       "    <tr>\n",
       "      <th>18</th>\n",
       "      <td>43246</td>\n",
       "      <td>10</td>\n",
       "      <td>0.053</td>\n",
       "      <td>0.000</td>\n",
       "      <td>0.000</td>\n",
       "      <td>0.000</td>\n",
       "      <td>0.073</td>\n",
       "    </tr>\n",
       "    <tr>\n",
       "      <th>23</th>\n",
       "      <td>55492</td>\n",
       "      <td>12</td>\n",
       "      <td>0.028</td>\n",
       "      <td>0.000</td>\n",
       "      <td>0.000</td>\n",
       "      <td>0.000</td>\n",
       "      <td>0.000</td>\n",
       "    </tr>\n",
       "    <tr>\n",
       "      <th>2</th>\n",
       "      <td>60244</td>\n",
       "      <td>18</td>\n",
       "      <td>0.283</td>\n",
       "      <td>1.000</td>\n",
       "      <td>0.469</td>\n",
       "      <td>0.339</td>\n",
       "      <td>0.419</td>\n",
       "    </tr>\n",
       "    <tr>\n",
       "      <th>1</th>\n",
       "      <td>73394</td>\n",
       "      <td>10</td>\n",
       "      <td>0.174</td>\n",
       "      <td>0.000</td>\n",
       "      <td>0.296</td>\n",
       "      <td>0.296</td>\n",
       "      <td>0.296</td>\n",
       "    </tr>\n",
       "  </tbody>\n",
       "</table>\n",
       "</div>"
      ],
      "text/plain": [
       "    UserID  relevant    AP  nDCG@1  nDCG@3  nDCG@5  nDCG@10\n",
       "0     3363        10 0.045   0.000   0.000   0.000    0.000\n",
       "27    6575        11 0.021   0.000   0.000   0.000    0.000\n",
       "5    11676        76 0.108   0.000   0.000   0.000    0.000\n",
       "24   16795        13 0.059   0.000   0.000   0.000    0.000\n",
       "10   23768        13 0.494   1.000   1.000   0.854    0.592\n",
       "11   35859        21 0.181   1.000   0.704   0.509    0.396\n",
       "18   43246        10 0.053   0.000   0.000   0.000    0.073\n",
       "23   55492        12 0.028   0.000   0.000   0.000    0.000\n",
       "2    60244        18 0.283   1.000   0.469   0.339    0.419\n",
       "1    73394        10 0.174   0.000   0.296   0.296    0.296"
      ]
     },
     "execution_count": 210,
     "metadata": {},
     "output_type": "execute_result"
    }
   ],
   "source": [
    "SVDDetailedMetricsRankingDF = SVDDetailedMetricsRankingDF[['UserID', 'relevant', 'AP', 'nDCG@1', 'nDCG@3', 'nDCG@5', 'nDCG@10']]\n",
    "SVDDetailedMetricsRankingDF.sort_values(by=['UserID']).head(10)"
   ]
  },
  {
   "cell_type": "code",
   "execution_count": 211,
   "metadata": {
    "colab": {
     "autoexec": {
      "startup": false,
      "wait_interval": 0
     },
     "base_uri": "https://localhost:8080/",
     "height": 85
    },
    "colab_type": "code",
    "executionInfo": {
     "elapsed": 14685,
     "status": "ok",
     "timestamp": 1528912601523,
     "user": {
      "displayName": "Wladmir Cardoso Brandão",
      "photoUrl": "//lh5.googleusercontent.com/-SGSelMTRK_4/AAAAAAAAAAI/AAAAAAABeK0/PmbiLSnzkAE/s50-c-k-no/photo.jpg",
      "userId": "103335929661169749259"
     },
     "user_tz": 180
    },
    "id": "tDzpiKlCfIax",
    "outputId": "b3896d20-4bfd-452a-df94-aa18fd6908d2"
   },
   "outputs": [
    {
     "name": "stdout",
     "output_type": "stream",
     "text": [
      "Avaliando a abordagem CF-SVD...\n",
      "\n",
      "Métricas Globais:\n",
      "{'modelName': 'CF-SVD', 'MAE': 2.4453272649251674, 'MSE': 19.386730526880847, 'RMSE': 4.403036512099445}\n"
     ]
    }
   ],
   "source": [
    "print('Avaliando a abordagem %s...' % SVDModel.getModelName())\n",
    "SVDGlobalMetricsRatingDF, SVDDetailedMetricsRatingDF = ratingEvaluator.evaluate(SVDModel)\n",
    "print('\\nMétricas Globais:\\n%s' % SVDGlobalMetricsRatingDF)"
   ]
  },
  {
   "cell_type": "code",
   "execution_count": 212,
   "metadata": {
    "colab": {
     "autoexec": {
      "startup": false,
      "wait_interval": 0
     },
     "base_uri": "https://localhost:8080/",
     "height": 204
    },
    "colab_type": "code",
    "executionInfo": {
     "elapsed": 652,
     "status": "ok",
     "timestamp": 1528912622719,
     "user": {
      "displayName": "Wladmir Cardoso Brandão",
      "photoUrl": "//lh5.googleusercontent.com/-SGSelMTRK_4/AAAAAAAAAAI/AAAAAAABeK0/PmbiLSnzkAE/s50-c-k-no/photo.jpg",
      "userId": "103335929661169749259"
     },
     "user_tz": 180
    },
    "id": "aqxIEwVJfT0U",
    "outputId": "02a422b4-351e-4311-ea09-1b0c061c6a77"
   },
   "outputs": [
    {
     "data": {
      "text/html": [
       "<div>\n",
       "<style scoped>\n",
       "    .dataframe tbody tr th:only-of-type {\n",
       "        vertical-align: middle;\n",
       "    }\n",
       "\n",
       "    .dataframe tbody tr th {\n",
       "        vertical-align: top;\n",
       "    }\n",
       "\n",
       "    .dataframe thead th {\n",
       "        text-align: right;\n",
       "    }\n",
       "</style>\n",
       "<table border=\"1\" class=\"dataframe\">\n",
       "  <thead>\n",
       "    <tr style=\"text-align: right;\">\n",
       "      <th></th>\n",
       "      <th>UserID</th>\n",
       "      <th>items</th>\n",
       "      <th>MAE</th>\n",
       "      <th>MSE</th>\n",
       "      <th>RMSE</th>\n",
       "    </tr>\n",
       "  </thead>\n",
       "  <tbody>\n",
       "    <tr>\n",
       "      <th>3</th>\n",
       "      <td>242</td>\n",
       "      <td>4</td>\n",
       "      <td>5.750</td>\n",
       "      <td>44.249</td>\n",
       "      <td>6.652</td>\n",
       "    </tr>\n",
       "    <tr>\n",
       "      <th>1066</th>\n",
       "      <td>243</td>\n",
       "      <td>1</td>\n",
       "      <td>0.849</td>\n",
       "      <td>0.721</td>\n",
       "      <td>0.849</td>\n",
       "    </tr>\n",
       "    <tr>\n",
       "      <th>117</th>\n",
       "      <td>254</td>\n",
       "      <td>3</td>\n",
       "      <td>0.014</td>\n",
       "      <td>0.000</td>\n",
       "      <td>0.020</td>\n",
       "    </tr>\n",
       "    <tr>\n",
       "      <th>590</th>\n",
       "      <td>383</td>\n",
       "      <td>1</td>\n",
       "      <td>0.000</td>\n",
       "      <td>0.000</td>\n",
       "      <td>0.000</td>\n",
       "    </tr>\n",
       "    <tr>\n",
       "      <th>608</th>\n",
       "      <td>388</td>\n",
       "      <td>1</td>\n",
       "      <td>6.947</td>\n",
       "      <td>48.263</td>\n",
       "      <td>6.947</td>\n",
       "    </tr>\n",
       "    <tr>\n",
       "      <th>521</th>\n",
       "      <td>505</td>\n",
       "      <td>1</td>\n",
       "      <td>6.974</td>\n",
       "      <td>48.641</td>\n",
       "      <td>6.974</td>\n",
       "    </tr>\n",
       "    <tr>\n",
       "      <th>801</th>\n",
       "      <td>507</td>\n",
       "      <td>2</td>\n",
       "      <td>3.500</td>\n",
       "      <td>24.500</td>\n",
       "      <td>4.950</td>\n",
       "    </tr>\n",
       "    <tr>\n",
       "      <th>797</th>\n",
       "      <td>625</td>\n",
       "      <td>1</td>\n",
       "      <td>0.000</td>\n",
       "      <td>0.000</td>\n",
       "      <td>0.000</td>\n",
       "    </tr>\n",
       "    <tr>\n",
       "      <th>1093</th>\n",
       "      <td>638</td>\n",
       "      <td>1</td>\n",
       "      <td>9.000</td>\n",
       "      <td>80.998</td>\n",
       "      <td>9.000</td>\n",
       "    </tr>\n",
       "    <tr>\n",
       "      <th>15</th>\n",
       "      <td>651</td>\n",
       "      <td>1</td>\n",
       "      <td>6.000</td>\n",
       "      <td>36.000</td>\n",
       "      <td>6.000</td>\n",
       "    </tr>\n",
       "  </tbody>\n",
       "</table>\n",
       "</div>"
      ],
      "text/plain": [
       "      UserID  items   MAE    MSE  RMSE\n",
       "3        242      4 5.750 44.249 6.652\n",
       "1066     243      1 0.849  0.721 0.849\n",
       "117      254      3 0.014  0.000 0.020\n",
       "590      383      1 0.000  0.000 0.000\n",
       "608      388      1 6.947 48.263 6.947\n",
       "521      505      1 6.974 48.641 6.974\n",
       "801      507      2 3.500 24.500 4.950\n",
       "797      625      1 0.000  0.000 0.000\n",
       "1093     638      1 9.000 80.998 9.000\n",
       "15       651      1 6.000 36.000 6.000"
      ]
     },
     "execution_count": 212,
     "metadata": {},
     "output_type": "execute_result"
    }
   ],
   "source": [
    "SVDDetailedMetricsRatingDF = SVDDetailedMetricsRatingDF[['UserID', 'items', 'MAE', 'MSE', 'RMSE']]\n",
    "SVDDetailedMetricsRatingDF.sort_values(by=['UserID']).head(10)"
   ]
  },
  {
   "cell_type": "markdown",
   "metadata": {
    "colab_type": "text",
    "id": "i6rABQBMzKlx"
   },
   "source": [
    "### Baseada em Conteúdo\n",
    "\n",
    "---\n",
    "\n"
   ]
  },
  {
   "cell_type": "code",
   "execution_count": 213,
   "metadata": {
    "colab": {
     "autoexec": {
      "startup": false,
      "wait_interval": 0
     },
     "base_uri": "https://localhost:8080/",
     "height": 105
    },
    "colab_type": "code",
    "executionInfo": {
     "elapsed": 7863,
     "status": "ok",
     "timestamp": 1528912634464,
     "user": {
      "displayName": "Wladmir Cardoso Brandão",
      "photoUrl": "//lh5.googleusercontent.com/-SGSelMTRK_4/AAAAAAAAAAI/AAAAAAABeK0/PmbiLSnzkAE/s50-c-k-no/photo.jpg",
      "userId": "103335929661169749259"
     },
     "user_tz": 180
    },
    "id": "vCUEhpJXHobU",
    "outputId": "07615502-28b7-4251-92e2-593b3e5125d2"
   },
   "outputs": [
    {
     "name": "stdout",
     "output_type": "stream",
     "text": [
      "Avaliando a abordagem CB...\n"
     ]
    },
    {
     "name": "stderr",
     "output_type": "stream",
     "text": [
      "C:\\Anaconda3\\lib\\site-packages\\ipykernel_launcher.py:13: RuntimeWarning: invalid value encountered in double_scalars\n",
      "  del sys.path[0]\n"
     ]
    },
    {
     "name": "stdout",
     "output_type": "stream",
     "text": [
      "\n",
      "Métricas Globais:\n",
      "{'modelName': 'CB', 'MAP': 0.006398077850260463, 'nDCG@1': 0.0, 'nDCG@3': 0.0, 'nDCG@5': 0.0, 'nDCG@10': 0.0}\n"
     ]
    }
   ],
   "source": [
    "print('Avaliando a abordagem %s...' % CBModel.getModelName())\n",
    "CBGlobalMetricsRankingDF, CBDetailedMetricsRankingDF = rankingEvaluator.evaluate(CBModel)\n",
    "print('\\nMétricas Globais:\\n%s' % CBGlobalMetricsRankingDF)"
   ]
  },
  {
   "cell_type": "code",
   "execution_count": 214,
   "metadata": {
    "colab": {
     "autoexec": {
      "startup": false,
      "wait_interval": 0
     },
     "base_uri": "https://localhost:8080/",
     "height": 204
    },
    "colab_type": "code",
    "executionInfo": {
     "elapsed": 753,
     "status": "ok",
     "timestamp": 1528912656863,
     "user": {
      "displayName": "Wladmir Cardoso Brandão",
      "photoUrl": "//lh5.googleusercontent.com/-SGSelMTRK_4/AAAAAAAAAAI/AAAAAAABeK0/PmbiLSnzkAE/s50-c-k-no/photo.jpg",
      "userId": "103335929661169749259"
     },
     "user_tz": 180
    },
    "id": "WMBT7TADPFgK",
    "outputId": "09d7e320-3e89-43ac-fa15-61a5837a7514"
   },
   "outputs": [
    {
     "data": {
      "text/html": [
       "<div>\n",
       "<style scoped>\n",
       "    .dataframe tbody tr th:only-of-type {\n",
       "        vertical-align: middle;\n",
       "    }\n",
       "\n",
       "    .dataframe tbody tr th {\n",
       "        vertical-align: top;\n",
       "    }\n",
       "\n",
       "    .dataframe thead th {\n",
       "        text-align: right;\n",
       "    }\n",
       "</style>\n",
       "<table border=\"1\" class=\"dataframe\">\n",
       "  <thead>\n",
       "    <tr style=\"text-align: right;\">\n",
       "      <th></th>\n",
       "      <th>UserID</th>\n",
       "      <th>relevant</th>\n",
       "      <th>AP</th>\n",
       "      <th>nDCG@1</th>\n",
       "      <th>nDCG@3</th>\n",
       "      <th>nDCG@5</th>\n",
       "      <th>nDCG@10</th>\n",
       "    </tr>\n",
       "  </thead>\n",
       "  <tbody>\n",
       "    <tr>\n",
       "      <th>0</th>\n",
       "      <td>3363</td>\n",
       "      <td>10</td>\n",
       "      <td>0.004</td>\n",
       "      <td>nan</td>\n",
       "      <td>nan</td>\n",
       "      <td>nan</td>\n",
       "      <td>nan</td>\n",
       "    </tr>\n",
       "    <tr>\n",
       "      <th>27</th>\n",
       "      <td>6575</td>\n",
       "      <td>11</td>\n",
       "      <td>0.010</td>\n",
       "      <td>nan</td>\n",
       "      <td>nan</td>\n",
       "      <td>nan</td>\n",
       "      <td>nan</td>\n",
       "    </tr>\n",
       "    <tr>\n",
       "      <th>5</th>\n",
       "      <td>11676</td>\n",
       "      <td>76</td>\n",
       "      <td>0.015</td>\n",
       "      <td>nan</td>\n",
       "      <td>nan</td>\n",
       "      <td>nan</td>\n",
       "      <td>nan</td>\n",
       "    </tr>\n",
       "    <tr>\n",
       "      <th>24</th>\n",
       "      <td>16795</td>\n",
       "      <td>13</td>\n",
       "      <td>0.000</td>\n",
       "      <td>0.000</td>\n",
       "      <td>0.000</td>\n",
       "      <td>0.000</td>\n",
       "      <td>0.000</td>\n",
       "    </tr>\n",
       "    <tr>\n",
       "      <th>10</th>\n",
       "      <td>23768</td>\n",
       "      <td>13</td>\n",
       "      <td>0.010</td>\n",
       "      <td>nan</td>\n",
       "      <td>nan</td>\n",
       "      <td>nan</td>\n",
       "      <td>nan</td>\n",
       "    </tr>\n",
       "    <tr>\n",
       "      <th>11</th>\n",
       "      <td>35859</td>\n",
       "      <td>21</td>\n",
       "      <td>0.003</td>\n",
       "      <td>nan</td>\n",
       "      <td>nan</td>\n",
       "      <td>nan</td>\n",
       "      <td>nan</td>\n",
       "    </tr>\n",
       "    <tr>\n",
       "      <th>18</th>\n",
       "      <td>43246</td>\n",
       "      <td>10</td>\n",
       "      <td>0.009</td>\n",
       "      <td>nan</td>\n",
       "      <td>nan</td>\n",
       "      <td>nan</td>\n",
       "      <td>nan</td>\n",
       "    </tr>\n",
       "    <tr>\n",
       "      <th>23</th>\n",
       "      <td>55492</td>\n",
       "      <td>12</td>\n",
       "      <td>0.016</td>\n",
       "      <td>nan</td>\n",
       "      <td>nan</td>\n",
       "      <td>nan</td>\n",
       "      <td>nan</td>\n",
       "    </tr>\n",
       "    <tr>\n",
       "      <th>2</th>\n",
       "      <td>60244</td>\n",
       "      <td>18</td>\n",
       "      <td>0.007</td>\n",
       "      <td>nan</td>\n",
       "      <td>nan</td>\n",
       "      <td>nan</td>\n",
       "      <td>nan</td>\n",
       "    </tr>\n",
       "    <tr>\n",
       "      <th>1</th>\n",
       "      <td>73394</td>\n",
       "      <td>10</td>\n",
       "      <td>0.000</td>\n",
       "      <td>0.000</td>\n",
       "      <td>0.000</td>\n",
       "      <td>0.000</td>\n",
       "      <td>0.000</td>\n",
       "    </tr>\n",
       "  </tbody>\n",
       "</table>\n",
       "</div>"
      ],
      "text/plain": [
       "    UserID  relevant    AP  nDCG@1  nDCG@3  nDCG@5  nDCG@10\n",
       "0     3363        10 0.004     nan     nan     nan      nan\n",
       "27    6575        11 0.010     nan     nan     nan      nan\n",
       "5    11676        76 0.015     nan     nan     nan      nan\n",
       "24   16795        13 0.000   0.000   0.000   0.000    0.000\n",
       "10   23768        13 0.010     nan     nan     nan      nan\n",
       "11   35859        21 0.003     nan     nan     nan      nan\n",
       "18   43246        10 0.009     nan     nan     nan      nan\n",
       "23   55492        12 0.016     nan     nan     nan      nan\n",
       "2    60244        18 0.007     nan     nan     nan      nan\n",
       "1    73394        10 0.000   0.000   0.000   0.000    0.000"
      ]
     },
     "execution_count": 214,
     "metadata": {},
     "output_type": "execute_result"
    }
   ],
   "source": [
    "CBDetailedMetricsRankingDF = CBDetailedMetricsRankingDF[['UserID', 'relevant', 'AP', 'nDCG@1', 'nDCG@3', 'nDCG@5', 'nDCG@10']]\n",
    "CBDetailedMetricsRankingDF.sort_values(by=['UserID']).head(10)"
   ]
  },
  {
   "cell_type": "markdown",
   "metadata": {
    "colab_type": "text",
    "id": "TvO8n9bxzTaS"
   },
   "source": [
    "### Híbrida\n",
    "\n",
    "---\n",
    "\n"
   ]
  },
  {
   "cell_type": "code",
   "execution_count": 215,
   "metadata": {
    "colab": {
     "autoexec": {
      "startup": false,
      "wait_interval": 0
     },
     "base_uri": "https://localhost:8080/",
     "height": 105
    },
    "colab_type": "code",
    "executionInfo": {
     "elapsed": 10592,
     "status": "ok",
     "timestamp": 1528912673057,
     "user": {
      "displayName": "Wladmir Cardoso Brandão",
      "photoUrl": "//lh5.googleusercontent.com/-SGSelMTRK_4/AAAAAAAAAAI/AAAAAAABeK0/PmbiLSnzkAE/s50-c-k-no/photo.jpg",
      "userId": "103335929661169749259"
     },
     "user_tz": 180
    },
    "id": "cN3d-WkHI9Zp",
    "outputId": "49beac3e-1f61-493e-832d-36eed98a9e6c"
   },
   "outputs": [
    {
     "name": "stdout",
     "output_type": "stream",
     "text": [
      "Avaliando a abordagem HB...\n",
      "\n",
      "Métricas Globais:\n",
      "{'modelName': 'HB', 'MAP': 0.25795204279113904, 'nDCG@1': 0.4482758620689655, 'nDCG@3': 0.3986224007686701, 'nDCG@5': 0.3390869969418267, 'nDCG@10': 0.32704737645828597}\n"
     ]
    }
   ],
   "source": [
    "print('Avaliando a abordagem %s...' % HBModel.getModelName())\n",
    "HBGlobalMetricsRankingDF, HBDetailedMetricsRankingDF = rankingEvaluator.evaluate(HBModel)\n",
    "print('\\nMétricas Globais:\\n%s' % HBGlobalMetricsRankingDF)"
   ]
  },
  {
   "cell_type": "code",
   "execution_count": 216,
   "metadata": {
    "colab": {
     "autoexec": {
      "startup": false,
      "wait_interval": 0
     },
     "base_uri": "https://localhost:8080/",
     "height": 204
    },
    "colab_type": "code",
    "executionInfo": {
     "elapsed": 776,
     "status": "ok",
     "timestamp": 1528912766032,
     "user": {
      "displayName": "Wladmir Cardoso Brandão",
      "photoUrl": "//lh5.googleusercontent.com/-SGSelMTRK_4/AAAAAAAAAAI/AAAAAAABeK0/PmbiLSnzkAE/s50-c-k-no/photo.jpg",
      "userId": "103335929661169749259"
     },
     "user_tz": 180
    },
    "id": "rVvA0hgBRTnI",
    "outputId": "bc064ec8-668c-4b55-dcb5-93af5ad14815"
   },
   "outputs": [
    {
     "data": {
      "text/html": [
       "<div>\n",
       "<style scoped>\n",
       "    .dataframe tbody tr th:only-of-type {\n",
       "        vertical-align: middle;\n",
       "    }\n",
       "\n",
       "    .dataframe tbody tr th {\n",
       "        vertical-align: top;\n",
       "    }\n",
       "\n",
       "    .dataframe thead th {\n",
       "        text-align: right;\n",
       "    }\n",
       "</style>\n",
       "<table border=\"1\" class=\"dataframe\">\n",
       "  <thead>\n",
       "    <tr style=\"text-align: right;\">\n",
       "      <th></th>\n",
       "      <th>UserID</th>\n",
       "      <th>relevant</th>\n",
       "      <th>AP</th>\n",
       "      <th>nDCG@1</th>\n",
       "      <th>nDCG@3</th>\n",
       "      <th>nDCG@5</th>\n",
       "      <th>nDCG@10</th>\n",
       "    </tr>\n",
       "  </thead>\n",
       "  <tbody>\n",
       "    <tr>\n",
       "      <th>0</th>\n",
       "      <td>3363</td>\n",
       "      <td>10</td>\n",
       "      <td>0.085</td>\n",
       "      <td>0.000</td>\n",
       "      <td>0.000</td>\n",
       "      <td>0.000</td>\n",
       "      <td>0.087</td>\n",
       "    </tr>\n",
       "    <tr>\n",
       "      <th>27</th>\n",
       "      <td>6575</td>\n",
       "      <td>11</td>\n",
       "      <td>0.129</td>\n",
       "      <td>0.000</td>\n",
       "      <td>0.296</td>\n",
       "      <td>0.214</td>\n",
       "      <td>0.191</td>\n",
       "    </tr>\n",
       "    <tr>\n",
       "      <th>5</th>\n",
       "      <td>11676</td>\n",
       "      <td>76</td>\n",
       "      <td>0.812</td>\n",
       "      <td>1.000</td>\n",
       "      <td>1.000</td>\n",
       "      <td>1.000</td>\n",
       "      <td>1.000</td>\n",
       "    </tr>\n",
       "    <tr>\n",
       "      <th>24</th>\n",
       "      <td>16795</td>\n",
       "      <td>13</td>\n",
       "      <td>0.323</td>\n",
       "      <td>1.000</td>\n",
       "      <td>0.469</td>\n",
       "      <td>0.339</td>\n",
       "      <td>0.427</td>\n",
       "    </tr>\n",
       "    <tr>\n",
       "      <th>10</th>\n",
       "      <td>23768</td>\n",
       "      <td>13</td>\n",
       "      <td>0.250</td>\n",
       "      <td>0.000</td>\n",
       "      <td>0.296</td>\n",
       "      <td>0.214</td>\n",
       "      <td>0.300</td>\n",
       "    </tr>\n",
       "    <tr>\n",
       "      <th>11</th>\n",
       "      <td>35859</td>\n",
       "      <td>21</td>\n",
       "      <td>0.263</td>\n",
       "      <td>1.000</td>\n",
       "      <td>0.765</td>\n",
       "      <td>0.553</td>\n",
       "      <td>0.492</td>\n",
       "    </tr>\n",
       "    <tr>\n",
       "      <th>18</th>\n",
       "      <td>43246</td>\n",
       "      <td>10</td>\n",
       "      <td>0.325</td>\n",
       "      <td>1.000</td>\n",
       "      <td>0.765</td>\n",
       "      <td>0.553</td>\n",
       "      <td>0.451</td>\n",
       "    </tr>\n",
       "    <tr>\n",
       "      <th>23</th>\n",
       "      <td>55492</td>\n",
       "      <td>12</td>\n",
       "      <td>0.177</td>\n",
       "      <td>1.000</td>\n",
       "      <td>0.469</td>\n",
       "      <td>0.339</td>\n",
       "      <td>0.275</td>\n",
       "    </tr>\n",
       "    <tr>\n",
       "      <th>2</th>\n",
       "      <td>60244</td>\n",
       "      <td>18</td>\n",
       "      <td>0.381</td>\n",
       "      <td>1.000</td>\n",
       "      <td>0.704</td>\n",
       "      <td>0.640</td>\n",
       "      <td>0.560</td>\n",
       "    </tr>\n",
       "    <tr>\n",
       "      <th>1</th>\n",
       "      <td>73394</td>\n",
       "      <td>10</td>\n",
       "      <td>0.163</td>\n",
       "      <td>0.000</td>\n",
       "      <td>0.235</td>\n",
       "      <td>0.170</td>\n",
       "      <td>0.137</td>\n",
       "    </tr>\n",
       "  </tbody>\n",
       "</table>\n",
       "</div>"
      ],
      "text/plain": [
       "    UserID  relevant    AP  nDCG@1  nDCG@3  nDCG@5  nDCG@10\n",
       "0     3363        10 0.085   0.000   0.000   0.000    0.087\n",
       "27    6575        11 0.129   0.000   0.296   0.214    0.191\n",
       "5    11676        76 0.812   1.000   1.000   1.000    1.000\n",
       "24   16795        13 0.323   1.000   0.469   0.339    0.427\n",
       "10   23768        13 0.250   0.000   0.296   0.214    0.300\n",
       "11   35859        21 0.263   1.000   0.765   0.553    0.492\n",
       "18   43246        10 0.325   1.000   0.765   0.553    0.451\n",
       "23   55492        12 0.177   1.000   0.469   0.339    0.275\n",
       "2    60244        18 0.381   1.000   0.704   0.640    0.560\n",
       "1    73394        10 0.163   0.000   0.235   0.170    0.137"
      ]
     },
     "execution_count": 216,
     "metadata": {},
     "output_type": "execute_result"
    }
   ],
   "source": [
    "HBDetailedMetricsRankingDF = HBDetailedMetricsRankingDF[['UserID', 'relevant', 'AP', 'nDCG@1', 'nDCG@3', 'nDCG@5', 'nDCG@10']]\n",
    "HBDetailedMetricsRankingDF.sort_values(by=['UserID']).head(10)"
   ]
  },
  {
   "cell_type": "markdown",
   "metadata": {
    "colab_type": "text",
    "id": "VlewVAHHJH-B"
   },
   "source": [
    "### Análise Comparativa\n",
    "---\n"
   ]
  },
  {
   "cell_type": "markdown",
   "metadata": {
    "colab_type": "text",
    "id": "V3rRIBb7gZcG"
   },
   "source": [
    "#### Ranking\n",
    "\n",
    "---\n",
    "\n"
   ]
  },
  {
   "cell_type": "code",
   "execution_count": 217,
   "metadata": {
    "colab": {
     "autoexec": {
      "startup": false,
      "wait_interval": 0
     },
     "base_uri": "https://localhost:8080/",
     "height": 266
    },
    "colab_type": "code",
    "executionInfo": {
     "elapsed": 800,
     "status": "ok",
     "timestamp": 1528912784337,
     "user": {
      "displayName": "Wladmir Cardoso Brandão",
      "photoUrl": "//lh5.googleusercontent.com/-SGSelMTRK_4/AAAAAAAAAAI/AAAAAAABeK0/PmbiLSnzkAE/s50-c-k-no/photo.jpg",
      "userId": "103335929661169749259"
     },
     "user_tz": 180
    },
    "id": "1og9hPxZJR3y",
    "outputId": "fb5a5f67-2b26-4104-da4b-cc55ecc6bd29"
   },
   "outputs": [
    {
     "data": {
      "text/html": [
       "<div>\n",
       "<style scoped>\n",
       "    .dataframe tbody tr th:only-of-type {\n",
       "        vertical-align: middle;\n",
       "    }\n",
       "\n",
       "    .dataframe tbody tr th {\n",
       "        vertical-align: top;\n",
       "    }\n",
       "\n",
       "    .dataframe thead th {\n",
       "        text-align: right;\n",
       "    }\n",
       "</style>\n",
       "<table border=\"1\" class=\"dataframe\">\n",
       "  <thead>\n",
       "    <tr style=\"text-align: right;\">\n",
       "      <th></th>\n",
       "      <th>MAP</th>\n",
       "      <th>nDCG@1</th>\n",
       "      <th>nDCG@3</th>\n",
       "      <th>nDCG@5</th>\n",
       "      <th>nDCG@10</th>\n",
       "    </tr>\n",
       "    <tr>\n",
       "      <th>Abordagem</th>\n",
       "      <th></th>\n",
       "      <th></th>\n",
       "      <th></th>\n",
       "      <th></th>\n",
       "      <th></th>\n",
       "    </tr>\n",
       "  </thead>\n",
       "  <tbody>\n",
       "    <tr>\n",
       "      <th>PB</th>\n",
       "      <td>0.153</td>\n",
       "      <td>0.241</td>\n",
       "      <td>0.225</td>\n",
       "      <td>0.231</td>\n",
       "      <td>0.223</td>\n",
       "    </tr>\n",
       "    <tr>\n",
       "      <th>CF-UB</th>\n",
       "      <td>0.152</td>\n",
       "      <td>0.207</td>\n",
       "      <td>0.219</td>\n",
       "      <td>0.236</td>\n",
       "      <td>0.231</td>\n",
       "    </tr>\n",
       "    <tr>\n",
       "      <th>CF-IB</th>\n",
       "      <td>0.011</td>\n",
       "      <td>0.000</td>\n",
       "      <td>0.000</td>\n",
       "      <td>0.000</td>\n",
       "      <td>0.000</td>\n",
       "    </tr>\n",
       "    <tr>\n",
       "      <th>CF-SVD</th>\n",
       "      <td>0.141</td>\n",
       "      <td>0.207</td>\n",
       "      <td>0.197</td>\n",
       "      <td>0.174</td>\n",
       "      <td>0.169</td>\n",
       "    </tr>\n",
       "    <tr>\n",
       "      <th>CB</th>\n",
       "      <td>0.006</td>\n",
       "      <td>0.000</td>\n",
       "      <td>0.000</td>\n",
       "      <td>0.000</td>\n",
       "      <td>0.000</td>\n",
       "    </tr>\n",
       "    <tr>\n",
       "      <th>HB</th>\n",
       "      <td>0.258</td>\n",
       "      <td>0.448</td>\n",
       "      <td>0.399</td>\n",
       "      <td>0.339</td>\n",
       "      <td>0.327</td>\n",
       "    </tr>\n",
       "  </tbody>\n",
       "</table>\n",
       "</div>"
      ],
      "text/plain": [
       "            MAP  nDCG@1  nDCG@3  nDCG@5  nDCG@10\n",
       "Abordagem                                       \n",
       "PB        0.153   0.241   0.225   0.231    0.223\n",
       "CF-UB     0.152   0.207   0.219   0.236    0.231\n",
       "CF-IB     0.011   0.000   0.000   0.000    0.000\n",
       "CF-SVD    0.141   0.207   0.197   0.174    0.169\n",
       "CB        0.006   0.000   0.000   0.000    0.000\n",
       "HB        0.258   0.448   0.399   0.339    0.327"
      ]
     },
     "execution_count": 217,
     "metadata": {},
     "output_type": "execute_result"
    }
   ],
   "source": [
    "globalRankingMetricsDF = pd.DataFrame([PBGlobalMetricsRankingDF, UBGlobalMetricsRankingDF, IBGlobalMetricsRankingDF, SVDGlobalMetricsRankingDF, CBGlobalMetricsRankingDF, HBGlobalMetricsRankingDF])\n",
    "globalRankingMetricsDF = globalRankingMetricsDF[['modelName', 'MAP', 'nDCG@1', 'nDCG@3', 'nDCG@5', 'nDCG@10']]\n",
    "globalRankingMetricsDF.columns = ['Abordagem', 'MAP', 'nDCG@1', 'nDCG@3', 'nDCG@5', 'nDCG@10']\n",
    "globalRankingMetricsDF = globalRankingMetricsDF.set_index('Abordagem')\n",
    "globalRankingMetricsDF"
   ]
  },
  {
   "cell_type": "code",
   "execution_count": 218,
   "metadata": {},
   "outputs": [
    {
     "data": {
      "image/png": "[encoded data removed]",
      "text/plain": [
       "<matplotlib.figure.Figure at 0x201d36d1588>"
      ]
     },
     "metadata": {},
     "output_type": "display_data"
    }
   ],
   "source": [
    "%matplotlib inline\n",
    "ax = globalRankingMetricsDF.transpose().plot(kind='bar', figsize=(20,8))\n",
    "for p in ax.patches:\n",
    "    ax.annotate(\"%.3f\" % p.get_height(), (p.get_x() + p.get_width() / 2., p.get_height()), ha='center', va='center', xytext=(0, 10), textcoords='offset points')"
   ]
  },
  {
   "cell_type": "markdown",
   "metadata": {
    "colab_type": "text",
    "id": "o1ZUKMA0ghuS"
   },
   "source": [
    "#### *Rating*\n",
    "\n",
    "---\n",
    "\n"
   ]
  },
  {
   "cell_type": "code",
   "execution_count": 219,
   "metadata": {
    "colab": {
     "autoexec": {
      "startup": false,
      "wait_interval": 0
     },
     "base_uri": "https://localhost:8080/",
     "height": 173
    },
    "colab_type": "code",
    "executionInfo": {
     "elapsed": 3803,
     "status": "ok",
     "timestamp": 1528912824557,
     "user": {
      "displayName": "Wladmir Cardoso Brandão",
      "photoUrl": "//lh5.googleusercontent.com/-SGSelMTRK_4/AAAAAAAAAAI/AAAAAAABeK0/PmbiLSnzkAE/s50-c-k-no/photo.jpg",
      "userId": "103335929661169749259"
     },
     "user_tz": 180
    },
    "id": "Ph-ofnD1gvXi",
    "outputId": "59f00f79-8d9a-4cde-cc95-4994bf2c1d15"
   },
   "outputs": [
    {
     "data": {
      "text/html": [
       "<div>\n",
       "<style scoped>\n",
       "    .dataframe tbody tr th:only-of-type {\n",
       "        vertical-align: middle;\n",
       "    }\n",
       "\n",
       "    .dataframe tbody tr th {\n",
       "        vertical-align: top;\n",
       "    }\n",
       "\n",
       "    .dataframe thead th {\n",
       "        text-align: right;\n",
       "    }\n",
       "</style>\n",
       "<table border=\"1\" class=\"dataframe\">\n",
       "  <thead>\n",
       "    <tr style=\"text-align: right;\">\n",
       "      <th></th>\n",
       "      <th>MAE</th>\n",
       "      <th>MSE</th>\n",
       "      <th>RMSE</th>\n",
       "    </tr>\n",
       "    <tr>\n",
       "      <th>Abordagem</th>\n",
       "      <th></th>\n",
       "      <th></th>\n",
       "      <th></th>\n",
       "    </tr>\n",
       "  </thead>\n",
       "  <tbody>\n",
       "    <tr>\n",
       "      <th>CF-UB</th>\n",
       "      <td>2.417</td>\n",
       "      <td>19.318</td>\n",
       "      <td>4.395</td>\n",
       "    </tr>\n",
       "    <tr>\n",
       "      <th>CF-IB</th>\n",
       "      <td>2.318</td>\n",
       "      <td>18.989</td>\n",
       "      <td>4.358</td>\n",
       "    </tr>\n",
       "    <tr>\n",
       "      <th>CF-SVD</th>\n",
       "      <td>2.445</td>\n",
       "      <td>19.387</td>\n",
       "      <td>4.403</td>\n",
       "    </tr>\n",
       "  </tbody>\n",
       "</table>\n",
       "</div>"
      ],
      "text/plain": [
       "            MAE    MSE  RMSE\n",
       "Abordagem                   \n",
       "CF-UB     2.417 19.318 4.395\n",
       "CF-IB     2.318 18.989 4.358\n",
       "CF-SVD    2.445 19.387 4.403"
      ]
     },
     "execution_count": 219,
     "metadata": {},
     "output_type": "execute_result"
    }
   ],
   "source": [
    "globalRatingMetricsDF = pd.DataFrame([UBGlobalMetricsRatingDF, IBGlobalMetricsRatingDF, SVDGlobalMetricsRatingDF])\n",
    "globalRatingMetricsDF = globalRatingMetricsDF[['modelName', 'MAE', 'MSE', 'RMSE']]\n",
    "globalRatingMetricsDF.columns = ['Abordagem', 'MAE', 'MSE', 'RMSE']\n",
    "globalRatingMetricsDF = globalRatingMetricsDF.set_index('Abordagem')\n",
    "globalRatingMetricsDF"
   ]
  },
  {
   "cell_type": "code",
   "execution_count": 220,
   "metadata": {
    "colab": {
     "autoexec": {
      "startup": false,
      "wait_interval": 0
     },
     "base_uri": "https://localhost:8080/",
     "height": 502
    },
    "colab_type": "code",
    "executionInfo": {
     "elapsed": 777,
     "status": "ok",
     "timestamp": 1528912844787,
     "user": {
      "displayName": "Wladmir Cardoso Brandão",
      "photoUrl": "//lh5.googleusercontent.com/-SGSelMTRK_4/AAAAAAAAAAI/AAAAAAABeK0/PmbiLSnzkAE/s50-c-k-no/photo.jpg",
      "userId": "103335929661169749259"
     },
     "user_tz": 180
    },
    "id": "fCGVIbRjhJdZ",
    "outputId": "4d30db64-8124-44ce-ca10-55820a1e5524"
   },
   "outputs": [
    {
     "data": {
      "image/png": "[encoded data removed]",
      "text/plain": [
       "<matplotlib.figure.Figure at 0x201d1eea208>"
      ]
     },
     "metadata": {},
     "output_type": "display_data"
    }
   ],
   "source": [
    "%matplotlib inline\n",
    "ax = globalRatingMetricsDF.transpose().plot(kind='bar', figsize=(15,8))\n",
    "for p in ax.patches:\n",
    "    ax.annotate(\"%.3f\" % p.get_height(), (p.get_x() + p.get_width() / 2., p.get_height()), ha='center', va='center', xytext=(0, 10), textcoords='offset points')"
   ]
  },
  {
   "cell_type": "markdown",
   "metadata": {
    "colab_type": "text",
    "id": "2rIhhoWhJXzW"
   },
   "source": [
    "### Discussões\n",
    "---\n",
    "Os resultados da avaliação apresentados acima mostram que a abordagem híbrida foi a que apresentou melhor acurácia.\n",
    "\n",
    "Vamos verificar o comportamento da melhor abordagem implementada para um usuário específico. Primeiramente, vamos observar os top-$n$ livros que o usuário  se interessou no conjunto de treino:"
   ]
  },
  {
   "cell_type": "code",
   "execution_count": 221,
   "metadata": {
    "colab": {
     "autoexec": {
      "startup": false,
      "wait_interval": 0
     }
    },
    "colab_type": "code",
    "id": "eM5qwG7-JfGI"
   },
   "outputs": [],
   "source": [
    "def inspectRatings(user_id, test_set=True):\n",
    "    if test_set:\n",
    "        ratingsDF = ratingsTestIndexedDF        \n",
    "    else:\n",
    "        ratingsDF = ratingsTrainIndexedDF\n",
    "    return ratingsDF.loc[user_id].merge(items, how = 'left', \n",
    "                                        left_on = 'BookID', \n",
    "                                        right_on = 'BookID') \\\n",
    "                    .sort_values('BookRating', ascending = False)[['BookID','BookTitle','BookRating']]"
   ]
  },
  {
   "cell_type": "code",
   "execution_count": 222,
   "metadata": {
    "colab": {
     "autoexec": {
      "startup": false,
      "wait_interval": 0
     },
     "base_uri": "https://localhost:8080/",
     "height": 204
    },
    "colab_type": "code",
    "executionInfo": {
     "elapsed": 684,
     "status": "ok",
     "timestamp": 1528912855926,
     "user": {
      "displayName": "Wladmir Cardoso Brandão",
      "photoUrl": "//lh5.googleusercontent.com/-SGSelMTRK_4/AAAAAAAAAAI/AAAAAAABeK0/PmbiLSnzkAE/s50-c-k-no/photo.jpg",
      "userId": "103335929661169749259"
     },
     "user_tz": 180
    },
    "id": "LWWUypOPJlIb",
    "outputId": "d8fac079-3f04-4faa-83b3-0f40893889c6"
   },
   "outputs": [
    {
     "data": {
      "text/html": [
       "<div>\n",
       "<style scoped>\n",
       "    .dataframe tbody tr th:only-of-type {\n",
       "        vertical-align: middle;\n",
       "    }\n",
       "\n",
       "    .dataframe tbody tr th {\n",
       "        vertical-align: top;\n",
       "    }\n",
       "\n",
       "    .dataframe thead th {\n",
       "        text-align: right;\n",
       "    }\n",
       "</style>\n",
       "<table border=\"1\" class=\"dataframe\">\n",
       "  <thead>\n",
       "    <tr style=\"text-align: right;\">\n",
       "      <th></th>\n",
       "      <th>BookID</th>\n",
       "      <th>BookTitle</th>\n",
       "      <th>BookRating</th>\n",
       "    </tr>\n",
       "  </thead>\n",
       "  <tbody>\n",
       "    <tr>\n",
       "      <th>15</th>\n",
       "      <td>6861</td>\n",
       "      <td>Gap Creek: A Novel</td>\n",
       "      <td>10</td>\n",
       "    </tr>\n",
       "    <tr>\n",
       "      <th>7</th>\n",
       "      <td>5331</td>\n",
       "      <td>The Night Listener : A Novel</td>\n",
       "      <td>10</td>\n",
       "    </tr>\n",
       "    <tr>\n",
       "      <th>2</th>\n",
       "      <td>4765</td>\n",
       "      <td>The Death of Vishnu: A Novel</td>\n",
       "      <td>10</td>\n",
       "    </tr>\n",
       "    <tr>\n",
       "      <th>11</th>\n",
       "      <td>4762</td>\n",
       "      <td>Conversations With God : An Uncommon Dialogue ...</td>\n",
       "      <td>10</td>\n",
       "    </tr>\n",
       "    <tr>\n",
       "      <th>13</th>\n",
       "      <td>4747</td>\n",
       "      <td>The Art of Mending : A Novel (Berg, Elizabeth)</td>\n",
       "      <td>10</td>\n",
       "    </tr>\n",
       "    <tr>\n",
       "      <th>6</th>\n",
       "      <td>4730</td>\n",
       "      <td>POSTCARDS</td>\n",
       "      <td>10</td>\n",
       "    </tr>\n",
       "    <tr>\n",
       "      <th>4</th>\n",
       "      <td>3420</td>\n",
       "      <td>Chicken Soup for the Teenage Soul II (Chicken ...</td>\n",
       "      <td>10</td>\n",
       "    </tr>\n",
       "    <tr>\n",
       "      <th>14</th>\n",
       "      <td>1923</td>\n",
       "      <td>Snow Falling on Cedars</td>\n",
       "      <td>10</td>\n",
       "    </tr>\n",
       "    <tr>\n",
       "      <th>3</th>\n",
       "      <td>968</td>\n",
       "      <td>Charming Billy</td>\n",
       "      <td>10</td>\n",
       "    </tr>\n",
       "    <tr>\n",
       "      <th>17</th>\n",
       "      <td>716</td>\n",
       "      <td>Strange Fits of Passion: A Novel</td>\n",
       "      <td>10</td>\n",
       "    </tr>\n",
       "  </tbody>\n",
       "</table>\n",
       "</div>"
      ],
      "text/plain": [
       "    BookID                                          BookTitle  BookRating\n",
       "15    6861                                 Gap Creek: A Novel          10\n",
       "7     5331                       The Night Listener : A Novel          10\n",
       "2     4765                       The Death of Vishnu: A Novel          10\n",
       "11    4762  Conversations With God : An Uncommon Dialogue ...          10\n",
       "13    4747     The Art of Mending : A Novel (Berg, Elizabeth)          10\n",
       "6     4730                                          POSTCARDS          10\n",
       "4     3420  Chicken Soup for the Teenage Soul II (Chicken ...          10\n",
       "14    1923                             Snow Falling on Cedars          10\n",
       "3      968                                     Charming Billy          10\n",
       "17     716                   Strange Fits of Passion: A Novel          10"
      ]
     },
     "execution_count": 222,
     "metadata": {},
     "output_type": "execute_result"
    }
   ],
   "source": [
    "inspectTop10 = inspectRatings(4017, test_set=False).sort_values(by=['BookRating','BookID'],ascending=False)\n",
    "inspectTop10 = inspectTop10.iloc[0:10,:] #Selecionando os 10 primeiros da lista\n",
    "inspectTop10.head(10)"
   ]
  },
  {
   "cell_type": "markdown",
   "metadata": {
    "colab_type": "text",
    "id": "OV6b7cRRJo35"
   },
   "source": [
    "Agora vamos observar os top-$n$ filmes recomendados pela abordagem híbrida para esse usuário em particular:"
   ]
  },
  {
   "cell_type": "code",
   "execution_count": 223,
   "metadata": {
    "colab": {
     "autoexec": {
      "startup": false,
      "wait_interval": 0
     },
     "base_uri": "https://localhost:8080/",
     "height": 359
    },
    "colab_type": "code",
    "executionInfo": {
     "elapsed": 820,
     "status": "ok",
     "timestamp": 1528912862622,
     "user": {
      "displayName": "Wladmir Cardoso Brandão",
      "photoUrl": "//lh5.googleusercontent.com/-SGSelMTRK_4/AAAAAAAAAAI/AAAAAAABeK0/PmbiLSnzkAE/s50-c-k-no/photo.jpg",
      "userId": "103335929661169749259"
     },
     "user_tz": 180
    },
    "id": "VzhIoLgWJr5P",
    "outputId": "54ddadcd-0b60-4443-df41-f57d19770502"
   },
   "outputs": [
    {
     "data": {
      "text/html": [
       "<div>\n",
       "<style scoped>\n",
       "    .dataframe tbody tr th:only-of-type {\n",
       "        vertical-align: middle;\n",
       "    }\n",
       "\n",
       "    .dataframe tbody tr th {\n",
       "        vertical-align: top;\n",
       "    }\n",
       "\n",
       "    .dataframe thead th {\n",
       "        text-align: right;\n",
       "    }\n",
       "</style>\n",
       "<table border=\"1\" class=\"dataframe\">\n",
       "  <thead>\n",
       "    <tr style=\"text-align: right;\">\n",
       "      <th></th>\n",
       "      <th>BookID</th>\n",
       "      <th>BookTitle</th>\n",
       "      <th>Score</th>\n",
       "    </tr>\n",
       "  </thead>\n",
       "  <tbody>\n",
       "    <tr>\n",
       "      <th>0</th>\n",
       "      <td>1923</td>\n",
       "      <td>Snow Falling on Cedars</td>\n",
       "      <td>7369.678</td>\n",
       "    </tr>\n",
       "    <tr>\n",
       "      <th>1</th>\n",
       "      <td>3784</td>\n",
       "      <td>STONES FROM THE RIVER</td>\n",
       "      <td>3380.645</td>\n",
       "    </tr>\n",
       "    <tr>\n",
       "      <th>2</th>\n",
       "      <td>648</td>\n",
       "      <td>Angela's Ashes: A Memoir</td>\n",
       "      <td>3249.612</td>\n",
       "    </tr>\n",
       "    <tr>\n",
       "      <th>3</th>\n",
       "      <td>5071</td>\n",
       "      <td>Bridget Jones's Diary</td>\n",
       "      <td>2966.432</td>\n",
       "    </tr>\n",
       "    <tr>\n",
       "      <th>4</th>\n",
       "      <td>1307</td>\n",
       "      <td>The Color of Water: A Black Man's Tribute to H...</td>\n",
       "      <td>1474.314</td>\n",
       "    </tr>\n",
       "    <tr>\n",
       "      <th>5</th>\n",
       "      <td>4578</td>\n",
       "      <td>What Looks Like Crazy On An Ordinary Day</td>\n",
       "      <td>1098.024</td>\n",
       "    </tr>\n",
       "    <tr>\n",
       "      <th>6</th>\n",
       "      <td>2545</td>\n",
       "      <td>How to Be Good</td>\n",
       "      <td>810.309</td>\n",
       "    </tr>\n",
       "    <tr>\n",
       "      <th>7</th>\n",
       "      <td>7548</td>\n",
       "      <td>Girl in Hyacinth Blue</td>\n",
       "      <td>640.098</td>\n",
       "    </tr>\n",
       "    <tr>\n",
       "      <th>8</th>\n",
       "      <td>1485</td>\n",
       "      <td>At Home in Mitford (The Mitford Years)</td>\n",
       "      <td>621.981</td>\n",
       "    </tr>\n",
       "    <tr>\n",
       "      <th>9</th>\n",
       "      <td>3235</td>\n",
       "      <td>A Child Called \\It\\\": One Child's Courage to S...</td>\n",
       "      <td>529.795</td>\n",
       "    </tr>\n",
       "  </tbody>\n",
       "</table>\n",
       "</div>"
      ],
      "text/plain": [
       "   BookID                                          BookTitle    Score\n",
       "0    1923                             Snow Falling on Cedars 7369.678\n",
       "1    3784                              STONES FROM THE RIVER 3380.645\n",
       "2     648                           Angela's Ashes: A Memoir 3249.612\n",
       "3    5071                              Bridget Jones's Diary 2966.432\n",
       "4    1307  The Color of Water: A Black Man's Tribute to H... 1474.314\n",
       "5    4578           What Looks Like Crazy On An Ordinary Day 1098.024\n",
       "6    2545                                     How to Be Good  810.309\n",
       "7    7548                              Girl in Hyacinth Blue  640.098\n",
       "8    1485             At Home in Mitford (The Mitford Years)  621.981\n",
       "9    3235  A Child Called \\It\\\": One Child's Courage to S...  529.795"
      ]
     },
     "execution_count": 223,
     "metadata": {},
     "output_type": "execute_result"
    }
   ],
   "source": [
    "recommendedItensHB = HBModel.recommend(4017, topn=10, verbose=True)\n",
    "#A linha a seguir foi adicionada pois como mais os filmes possuem mais de uma palavra que pode ser relevante para o usuário\n",
    "#o livro poderia aparecer repetido na lista\n",
    "recommendedItensHB = recommendedItensHB.drop_duplicates(subset='BookID',keep='first')\n",
    "recommendedItensHB.sort_values(ascending=False,by=['Score']).head(10)"
   ]
  },
  {
   "cell_type": "markdown",
   "metadata": {},
   "source": [
    "## Avaliação da similaridade das recomendações"
   ]
  },
  {
   "cell_type": "markdown",
   "metadata": {},
   "source": [
    "Uma outra forma de avaliar os sistemas de recomendação é de acordo com a diversidade. A diversidade mede como os itens recomendados diferentes são para um usuário em específico. Essa semelhança é geralmente determinada usando o conteúdo do item (por exemplo gêneros de filmes), mas também pode ser determinada usando como os itens são classificados de maneira semelhante. Uma medida de diversidade é a similaridade intra-lista apresentada por [1] e discutida em [2]. A equação de cálculo da diversidade pode computar a similaridade entre quaisquer dois itens ij e ik. Da mesma forma que a similaridade de cosseno, o coeficiente de similaridade de Jaccard ou outra métrica poderia ser utilizada na equação. Conforme proposto por [3] foi escolhida a similaridade de Jaccard. Segundo o autor, em pequenas listas de tamanho 10 ou 20, o uso da similaridade Jaccard pode ser mais adequado. O índice ou coeficiente de Jaccard é um método estatístico que determina a similaridade entre dois itens a partir da intersecção de seus conjuntos [4]. Essa medida informa o grau de similaridade entre duas listas de recomendação com valores que variam entre 0 (zero) e 1 (um). Caso as listas não possuam nenhum item em comum, o resultado é 0 (zero). O valor aumenta conforme a quantidade de itens em comum cresce. "
   ]
  },
  {
   "cell_type": "markdown",
   "metadata": {},
   "source": [
    "[1]\tZiegler, C., McNee, S. M., Konstan, J. A. e Lausen, G. 2005. Improving recommendation lists through topic diversification. In Proceedings of the 14th international conference on World Wide Web (WWW '05). ACM, New York, NY, USA, 22-32. DOI=http://dx.doi.org/10.1145/1060745.1060754."
   ]
  },
  {
   "cell_type": "markdown",
   "metadata": {},
   "source": [
    "[2] Beth, A. 2016. Recommender Systems  - It’s Not All About the Accuracy. Disponível em: <https://gab41.lab41.org/recommender-systems-its-not-all-about-the-accuracy-562c7dceeaff>. Acesso em: 03 jul. 2018."
   ]
  },
  {
   "cell_type": "markdown",
   "metadata": {},
   "source": [
    "[3] Silva, R. G. N. 2014. Sistema de Recomendação Baseado em Conteúdo Textual: avaliação e comparação.  Dissertação (Mestrado) - Universidade Estadual de Feira de Santana, Universidade Federal da Bahia, Programa Multi–institucional em Ciência da Computação, 2014."
   ]
  },
  {
   "cell_type": "markdown",
   "metadata": {},
   "source": [
    "[4]\tLevandowsky, M.; Winter, D. 1971. Distance between sets. Nature, v. 234, p. 34-35, Maio, 1971. ISSN 10.1038/234034a0. DOI: http://dx.doi.org/10.1038/234034a0."
   ]
  },
  {
   "cell_type": "code",
   "execution_count": 224,
   "metadata": {},
   "outputs": [
    {
     "name": "stdout",
     "output_type": "stream",
     "text": [
      "Similaridade intra-lista (PB - UB):  0.4\n",
      "Similaridade intra-lista (PB - IB):  0.0\n",
      "Similaridade intra-lista (PB - SVD):  0.0\n",
      "Similaridade intra-lista (PB - CB):  0.0\n",
      "Similaridade intra-lista (PB - HB):  0.1\n",
      "Similaridade intra-lista (UB - IB):  0.0\n",
      "Similaridade intra-lista (UB - SVD):  0.0\n",
      "Similaridade intra-lista (UB - CB):  0.0\n",
      "Similaridade intra-lista (UB - HB):  0.1\n",
      "Similaridade intra-lista (IB - SVD):  0.0\n",
      "Similaridade intra-lista (IB - CB  0.0\n",
      "Similaridade intra-lista (IB - HB):  0.0\n",
      "Similaridade intra-lista (SVD - CB):  0.0\n",
      "Similaridade intra-lista (SVD - HB):  0.3\n",
      "Similaridade intra-lista (HB - CB):  0.0\n"
     ]
    }
   ],
   "source": [
    "#Similaridade Intra-lista das recomendações por popularidade gerada pelo modelo (Usuário teste - 4017)\n",
    "from sklearn.metrics import jaccard_similarity_score\n",
    "\n",
    "PBList = recommendedItensPB.drop('BookTitle', axis=1).drop('Score', axis=1)\n",
    "UBList = recommendedItensUB.drop('BookTitle', axis=1).drop('Score', axis=1)\n",
    "IBList = recommendedItensIB.drop('BookTitle', axis=1).drop('Score', axis=1)\n",
    "SVDList = recommendedItensSVD.drop('BookTitle', axis=1).drop('Score', axis=1)\n",
    "CBList = recommendedItensCB.drop('BookTitle', axis=1).drop('Score', axis=1)\n",
    "HBList = recommendedItensHB.drop('BookTitle', axis=1).drop('Score', axis=1)\n",
    "\n",
    "intra_pb_ub_sim = jaccard_similarity_score(PBList, UBList)\n",
    "intra_pb_ib_sim = jaccard_similarity_score(PBList, IBList)\n",
    "intra_pb_svd_sim = jaccard_similarity_score(PBList, SVDList)\n",
    "intra_pb_cb_sim = jaccard_similarity_score(PBList, CBList)\n",
    "intra_pb_hb_sim = jaccard_similarity_score(PBList, HBList)\n",
    "\n",
    "intra_ub_ib_sim = jaccard_similarity_score(UBList, IBList)\n",
    "intra_ub_svd_sim = jaccard_similarity_score(UBList, SVDList)\n",
    "intra_ub_cb_sim = jaccard_similarity_score(UBList, CBList)\n",
    "intra_ub_hb_sim = jaccard_similarity_score(UBList, HBList)\n",
    "\n",
    "intra_ib_svd_sim = jaccard_similarity_score(IBList, SVDList)\n",
    "intra_ib_cb_sim = jaccard_similarity_score(IBList, CBList)\n",
    "intra_ib_hb_sim = jaccard_similarity_score(IBList, HBList)\n",
    "\n",
    "intra_svd_cb_sim = jaccard_similarity_score(SVDList, CBList)\n",
    "intra_svd_hb_sim = jaccard_similarity_score(SVDList, HBList)\n",
    "\n",
    "intra_hb_cb_sim = jaccard_similarity_score(HBList, CBList)\n",
    "\n",
    "print(\"Similaridade intra-lista (PB - UB): \", intra_pb_ub_sim)\n",
    "print(\"Similaridade intra-lista (PB - IB): \", intra_pb_ib_sim)\n",
    "print(\"Similaridade intra-lista (PB - SVD): \", intra_pb_svd_sim)\n",
    "print(\"Similaridade intra-lista (PB - CB): \", intra_pb_cb_sim)\n",
    "print(\"Similaridade intra-lista (PB - HB): \", intra_pb_hb_sim)\n",
    "\n",
    "print(\"Similaridade intra-lista (UB - IB): \", intra_ub_ib_sim)\n",
    "print(\"Similaridade intra-lista (UB - SVD): \", intra_ub_svd_sim)\n",
    "print(\"Similaridade intra-lista (UB - CB): \", intra_ub_cb_sim)\n",
    "print(\"Similaridade intra-lista (UB - HB): \", intra_ub_hb_sim)\n",
    "\n",
    "print(\"Similaridade intra-lista (IB - SVD): \", intra_ib_svd_sim)\n",
    "print(\"Similaridade intra-lista (IB - CB \", intra_ib_cb_sim)\n",
    "print(\"Similaridade intra-lista (IB - HB): \", intra_ib_hb_sim)\n",
    "\n",
    "print(\"Similaridade intra-lista (SVD - CB): \", intra_svd_cb_sim)\n",
    "print(\"Similaridade intra-lista (SVD - HB): \", intra_svd_hb_sim)\n",
    "\n",
    "print(\"Similaridade intra-lista (HB - CB): \", intra_hb_cb_sim)\n"
   ]
  },
  {
   "cell_type": "markdown",
   "metadata": {},
   "source": [
    "A mesma verificação de similaridade foi feita comparando-se cada lista gerada pelas abordagens com o TOP 10 na avaliação do usuário."
   ]
  },
  {
   "cell_type": "code",
   "execution_count": 225,
   "metadata": {},
   "outputs": [
    {
     "name": "stdout",
     "output_type": "stream",
     "text": [
      "Similaridade intra-lista (User - UB):  0.0\n",
      "Similaridade intra-lista (User - IB):  0.0\n",
      "Similaridade intra-lista (User - SVD):  0.2\n",
      "Similaridade intra-lista (User - CB):  0.0\n",
      "Similaridade intra-lista (User - HB):  0.0\n"
     ]
    }
   ],
   "source": [
    "UserList = inspectTop10.drop('BookTitle', axis=1).drop('BookRating', axis=1)\n",
    "intra_user_pb_sim = jaccard_similarity_score(UserList, PBList)\n",
    "intra_user_ub_sim = jaccard_similarity_score(UserList, UBList)\n",
    "intra_user_ib_sim = jaccard_similarity_score(UserList, IBList)\n",
    "intra_user_svd_sim = jaccard_similarity_score(UserList, SVDList)\n",
    "intra_user_cb_sim = jaccard_similarity_score(UserList, CBList)\n",
    "intra_user_hb_sim = jaccard_similarity_score(UserList, HBList)\n",
    "\n",
    "print(\"Similaridade intra-lista (User - UB): \", intra_user_ub_sim)\n",
    "print(\"Similaridade intra-lista (User - IB): \", intra_user_ib_sim)\n",
    "print(\"Similaridade intra-lista (User - SVD): \", intra_user_svd_sim)\n",
    "print(\"Similaridade intra-lista (User - CB): \", intra_user_cb_sim)\n",
    "print(\"Similaridade intra-lista (User - HB): \", intra_user_hb_sim)\n"
   ]
  },
  {
   "cell_type": "markdown",
   "metadata": {
    "colab_type": "text",
    "id": "sXU4VXHrJwkZ"
   },
   "source": [
    "## Conclusão\n",
    "---\n"
   ]
  },
  {
   "cell_type": "markdown",
   "metadata": {},
   "source": [
    "Pôde-se observar uma dificuldade considerável na etapa de pré-processamento, principalmente com relação as inconsistências da base e necessidade de enriquecimento de conteúdo textual. Para isso, foi utilizada a Good Book Dataset, para incorporar à Book Crossing palavras-chave dos livros, para posterior aplicação da abordagem de recomendação por conteúdo. No entanto, os resultados não foram os esperados pois nem todos os livros são coincidentes em ambas as bases, assim muitos deles ficaram sem informação textual e tiveram que ser removidos para o processamento da abordagem por conteúdo. Com isso, a base de dados de ratings também teve que ser reduzida neste momento, quando inicialmente ela estava com 17.974 registros, passou a ter 7.181 registros, uma diminuição de 60%.\n",
    "Outro problema encontrado é com relação a dispersão dos dados. A base de dados Book Crossing é 99,99% esparsa, ou seja, a maioria das avaliações atribuídas é igual a NaN. Como a maioria dos algoritmos de aprendizado de máquina não pode lidar com NaNs, foram substituídos por 0, que indica ausência de classificação e foi denominada avaliação implícita por seu autor. \n",
    "Foi feita a tentativa de selecionar apenas as avaliações explícitas, no entanto isso reduziu o número de ratings para 5.423 registros e, no momento da separação da base de dados em treino e teste, essa última teve membros (usuários) com apenas um registro, quando deveria ter pelo menos dois para a divisão correta (erro apontado pelo próprio algoritmo).\n",
    "Um fato que chamou a atenção foi com relação à idade de alguns usuários. Existem alguns dados de certa forma duvidosos, como usuários com idades acima de 100 anos (366 no total). Como a proposta aqui apresentada não levou em consideração a idade dos usuários, foi mantida a base original. No entanto, recomenda-se atenção neste sentido em caso de abordagens que necessitem da faixa etária para realizar algum tipo de clusterização (agrupamento) de usuários.\n",
    "A abordagem híbrida foi aquela que apresentou melhores resultados, a partir da combinação das técnicas por popularidade e filtragem colaborativa com fatoração de matrizes. No entanto, existe ainda a necessidade de enriquecimento da base de dados para melhorar os resultados. Outros atributos poderiam ser combinados, como por exemplo o gênero e o resumo do livro. Outras análises poderiam então ser realizadas, como por exemplo a avalição das preferências dos usuários de acordo com a sua localidade. Dessa forma, as abordagens de recomendação poderiam considerar agrupamentos de pessoas para sugerir itens de acordo com as preferências de uma região.\n",
    "Sobre a base de dados Good Books utilizada neste trabalho, ela não contém dados sobre os usuários, que poderiam criar alternativas para recomendações. Além disso, as palavras-chave nem sempre trazem a informação necessária para se trabalhar o conteúdo nas recomendações. Por exemplo, existem casos de palavras-chave que remetem inclusive ao gênero do filme, como fiction ou adventure, em outras situações aparecem apenas números ou caracteres especiais. No entanto, mesmo com essas limitações, foi possível observar que algumas preferências dos usuários podem ser evidenciadas. Por exemplo, considerando o usuário teste utilizado neste trabalho, ao verificar as palavras-chave dos livros que ele avaliou com notas 9 e 10, identificou-se que é um usuário que gosta de livros de ficção, pois esse termo apareceu em todos eles, mesmo não estando na lista de palavras-chave mais relevantes para ele. No entanto, drama e romance não são indicados para este usuário, já que estes termos não aparecem em suas preferências. Apesar da diversidade da lista de recomendações da abordagem baseada em conteúdo, se comparada as preferências do usuário teste, de 10 itens recomendados, 9 possuem como palavra-chave “ficção”. Assim, é possível que o usuário tenha interesse por estes livros.\n",
    "Por fim, acredita-se que o propósito de mostrar o desenvolvimento e avaliação de um sistema de recomendação de livros foi cumprido. No entanto, conforme mencionado, outras melhorias nas bases de dados se fazem necessárias para obter tanto uma amostra representativa da população quanto atributos e valores relevantes para a tarefa de recomendação e, consequentemente, melhores resultados das abordagens. Para melhorar as recomendações é necessário encontrar o melhor ajuste para um determinado contexto por meio da avaliação de algoritmos e parametrizações disponíveis.\n"
   ]
  }
 ],
 "metadata": {
  "colab": {
   "collapsed_sections": [],
   "default_view": {},
   "name": "Copy of Recomendação em Python",
   "provenance": [
    {
     "file_id": "1S41ZDmndArBbF6AF77NWAxOqAxNaMEDN",
     "timestamp": 1528921493685
    },
    {
     "file_id": "1t1z7BYVjWN_UCzoc3dNOfqeAYbYYfMay",
     "timestamp": 1524676370807
    }
   ],
   "toc_visible": true,
   "version": "0.3.2",
   "views": {}
  },
  "kernelspec": {
   "display_name": "Python 3",
   "language": "python",
   "name": "python3"
  },
  "language_info": {
   "codemirror_mode": {
    "name": "ipython",
    "version": 3
   },
   "file_extension": ".py",
   "mimetype": "text/x-python",
   "name": "python",
   "nbconvert_exporter": "python",
   "pygments_lexer": "ipython3",
   "version": "3.6.4"
  }
 },
 "nbformat": 4,
 "nbformat_minor": 1
}
