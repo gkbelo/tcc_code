{
  "nbformat": 4,
  "nbformat_minor": 0,
  "metadata": {
    "colab": {
      "name": "TCC_mmtd.ipynb",
      "provenance": [],
      "collapsed_sections": [],
      "machine_shape": "hm"
    },
    "kernelspec": {
      "name": "python3",
      "display_name": "Python 3"
    }
  },
  "cells": [
    {
      "cell_type": "code",
      "metadata": {
        "id": "oBr4SKxKWwPU",
        "colab_type": "code",
        "colab": {}
      },
      "source": [
        "import pandas as pd"
      ],
      "execution_count": 0,
      "outputs": []
    },
    {
      "cell_type": "code",
      "metadata": {
        "id": "z7UFwpAmZh4z",
        "colab_type": "code",
        "outputId": "4d331103-fcab-44b5-ae43-6ee6d66c45ba",
        "colab": {
          "base_uri": "https://localhost:8080/",
          "height": 72
        }
      },
      "source": [
        "!curl --remote-name \\\n",
        "     -H 'Accept: application/vnd.github.v3.raw' \\\n",
        "     --location https://raw.githubusercontent.com/gkbelo/tcc_code/master/mmtd/artists.txt     "
      ],
      "execution_count": 2,
      "outputs": [
        {
          "output_type": "stream",
          "text": [
            "  % Total    % Received % Xferd  Average Speed   Time    Time     Time  Current\n",
            "                                 Dload  Upload   Total   Spent    Left  Speed\n",
            "100 29.0M  100 29.0M    0     0  17.5M      0  0:00:01  0:00:01 --:--:-- 17.5M\n"
          ],
          "name": "stdout"
        }
      ]
    },
    {
      "cell_type": "code",
      "metadata": {
        "id": "fVoJiNzksB_l",
        "colab_type": "code",
        "outputId": "723e981a-f99a-4ed7-bcee-6b5f87b4fb3d",
        "colab": {
          "base_uri": "https://localhost:8080/",
          "height": 72
        }
      },
      "source": [
        "!curl --remote-name \\\n",
        "     -H 'Accept: application/vnd.github.v3.raw' \\\n",
        "     --location https://raw.githubusercontent.com/gkbelo/tcc_code/master/mmtd/track.txt"
      ],
      "execution_count": 3,
      "outputs": [
        {
          "output_type": "stream",
          "text": [
            "  % Total    % Received % Xferd  Average Speed   Time    Time     Time  Current\n",
            "                                 Dload  Upload   Total   Spent    Left  Speed\n",
            "\r  0     0    0     0    0     0      0      0 --:--:-- --:--:-- --:--:--     0\r  0 3803k    0     0    0     0      0      0 --:--:-- --:--:-- --:--:--     0\r100 3803k  100 3803k    0     0  5203k      0 --:--:-- --:--:-- --:--:-- 5196k\n"
          ],
          "name": "stdout"
        }
      ]
    },
    {
      "cell_type": "code",
      "metadata": {
        "id": "-ZPY-i29sCPY",
        "colab_type": "code",
        "outputId": "e12e482a-a4f4-44dc-ce0a-3c0bdea474d9",
        "colab": {
          "base_uri": "https://localhost:8080/",
          "height": 72
        }
      },
      "source": [
        "!curl --remote-name \\\n",
        "     -H 'Accept: application/vnd.github.v3.raw' \\\n",
        "     --location https://raw.githubusercontent.com/gkbelo/tcc_code/master/mmtd/tweet.txt"
      ],
      "execution_count": 4,
      "outputs": [
        {
          "output_type": "stream",
          "text": [
            "  % Total    % Received % Xferd  Average Speed   Time    Time     Time  Current\n",
            "                                 Dload  Upload   Total   Spent    Left  Speed\n",
            "100 92.6M  100 92.6M    0     0  45.3M      0  0:00:02  0:00:02 --:--:-- 45.3M\n"
          ],
          "name": "stdout"
        }
      ]
    },
    {
      "cell_type": "code",
      "metadata": {
        "id": "xdYkRIfNW4M4",
        "colab_type": "code",
        "colab": {}
      },
      "source": [
        "def read_artists():\n",
        "    cols = ['artist_id', 'artist_mbid', 'artist_name']\n",
        "    df = pd.read_csv('artists.txt', sep='\\t', names=cols)\n",
        "    df = df.drop(['artist_mbid'], axis=1)\n",
        "    return df"
      ],
      "execution_count": 0,
      "outputs": []
    },
    {
      "cell_type": "code",
      "metadata": {
        "id": "AbYKSxj-XCjh",
        "colab_type": "code",
        "colab": {}
      },
      "source": [
        "def read_tracks():\n",
        "    cols = ['track_id', 'track_title', 'track_artistId']\n",
        "    df = pd.read_csv('track.txt', sep='\\t', names=cols)\n",
        "    return df"
      ],
      "execution_count": 0,
      "outputs": []
    },
    {
      "cell_type": "code",
      "metadata": {
        "id": "3kIV58fPXEZN",
        "colab_type": "code",
        "colab": {}
      },
      "source": [
        "def read_tweets():\n",
        "    cols = ['tweet_id', 'tweet_tweetId', 'tweet_userId', 'tweet_artistId', 'tweet_trackId', 'tweet_datetime',\n",
        "            'tweet_weekday', 'tweet_longitude', 'tweet_latitude']\n",
        "    df = pd.read_csv('tweet.txt', sep='\\t', names=cols)\n",
        "    df = df.drop(['tweet_weekday', 'tweet_longitude', 'tweet_latitude', 'tweet_datetime'], axis=1)\n",
        "    df['tweet_count'] = 1\n",
        "    return df"
      ],
      "execution_count": 0,
      "outputs": []
    },
    {
      "cell_type": "code",
      "metadata": {
        "id": "QLsgisBkOT7Q",
        "colab_type": "code",
        "colab": {}
      },
      "source": [
        "def get_all_tracks_by_user(tweet_df, user_id):\n",
        "    ids = tweet_df.drop(['tweet_id', 'tweet_tweetId', 'tweet_artistId', 'tweet_count'], axis=1)\n",
        "    ids = ids.loc[ids['tweet_userId'] == user_id]\n",
        "    ids.drop_duplicates(subset =\"tweet_trackId\", \n",
        "                        keep = False,\n",
        "                        inplace = True)\n",
        "    return ids['tweet_trackId'].tolist()"
      ],
      "execution_count": 0,
      "outputs": []
    },
    {
      "cell_type": "code",
      "metadata": {
        "id": "LeQuwrVQbMep",
        "colab_type": "code",
        "colab": {}
      },
      "source": [
        "def get_all_users_by_track(tweet_df, track_id):\n",
        "    ids = tweet_df.drop(['tweet_id', 'tweet_tweetId', 'tweet_artistId', 'tweet_count'], axis=1)\n",
        "    ids = ids.loc[ids['tweet_trackId'] == track_id]\n",
        "    ids.drop_duplicates(subset =\"tweet_userId\",\n",
        "                        keep = False,\n",
        "                        inplace = True)\n",
        "    return ids['tweet_userId'].tolist()"
      ],
      "execution_count": 0,
      "outputs": []
    },
    {
      "cell_type": "code",
      "metadata": {
        "id": "rO8wEO2QXGfN",
        "colab_type": "code",
        "colab": {}
      },
      "source": [
        "class pop_songs:\n",
        "    def __init__(self, tweets_df, tracks_df, artists_df):\n",
        "        self.tweets_df = tweets_df\n",
        "        self.tracks_df = tracks_df\n",
        "        self.artists_df = artists_df\n",
        "\n",
        "\n",
        "    def top_songs(self, topn=10):\n",
        "        # Create the dataset with the most popular songs\n",
        "        top_df = self.tweets_df.groupby('tweet_trackId')['tweet_count'].sum().sort_values(ascending=False).reset_index()\n",
        "        top_df = top_df.rename(columns={\"tweet_trackId\": \"track_id\"})\n",
        "        top_df = pd.merge(top_df, self.tracks_df, left_on='track_id', right_on='track_id', how='left')\n",
        "        top_df = pd.merge(top_df, self.artists_df, left_on='track_artistId', right_on='artist_id', how='left')\n",
        "        top_df = top_df.drop(['artist_id', 'track_artistId', 'tweet_count', 'track_id'], axis=1)\n",
        "        return top_df.head(topn)\n",
        "\n",
        "\n",
        "    def print_top5(self):\n",
        "        print('-- Top 5 songs --')\n",
        "        print(self.top_songs(5))\n",
        "        print('--')"
      ],
      "execution_count": 0,
      "outputs": []
    },
    {
      "cell_type": "code",
      "metadata": {
        "id": "nXhmqFKYjLKv",
        "colab_type": "code",
        "colab": {}
      },
      "source": [
        "class similar_songs:\n",
        "    def __init__(self, tweets_df, tracks_df, artists_df, user_tracks):\n",
        "        self.tweets_df = tweets_df\n",
        "        self.tracks_df = tracks_df\n",
        "        self.artists_df = artists_df        \n",
        "        self.user_tracks = user_tracks\n",
        "\n",
        "\n",
        "    def recommend(self, ignore_tracks=[], topn=10, ignore_user_id=0):\n",
        "      users_all = self.tweets_df.drop(['tweet_id', 'tweet_tweetId', 'tweet_artistId'], axis=1)\n",
        "      users_filtered_df = pd.DataFrame()\n",
        "\n",
        "      for idx_t in range(len(self.user_tracks)):\n",
        "        # get all users that tweeted the same songs that the target user\n",
        "        users_id_by_track = get_all_users_by_track(tweets, self.user_tracks[idx_t])\n",
        "        if ignore_user_id > 0:\n",
        "          users_id_by_track.remove(ignore_user_id)\n",
        "\n",
        "        for idx_u in range(len(users_id_by_track)):\n",
        "          # get all the tracks for each user\n",
        "          tmp = users_all.loc[users_all['tweet_userId'] == users_id_by_track[idx_u]]\n",
        "          users_filtered_df = pd.concat([tmp, users_filtered_df], ignore_index=True)\n",
        "\n",
        "      recom_df = users_filtered_df[~users_filtered_df['tweet_trackId'].isin(ignore_tracks)] \\\n",
        "                  .sort_values('tweet_count', ascending=False)\n",
        "      recom_df = recom_df.groupby('tweet_trackId')['tweet_count'].sum().sort_values(ascending=False).reset_index()\n",
        "      recom_df = recom_df.rename(columns={\"tweet_trackId\": \"track_id\"})\n",
        "      recom_df = pd.merge(recom_df, self.tracks_df, left_on='track_id', right_on='track_id', how='left')\n",
        "      recom_df = pd.merge(recom_df, self.artists_df, left_on='track_artistId', right_on='artist_id', how='left')\n",
        "      recom_df = recom_df.drop(['artist_id', 'track_artistId', 'tweet_count', 'track_id'], axis=1)\n",
        "      return recom_df.head(topn)"
      ],
      "execution_count": 0,
      "outputs": []
    },
    {
      "cell_type": "markdown",
      "metadata": {
        "id": "LA3r1yBJzIHi",
        "colab_type": "text"
      },
      "source": [
        "Read the dataset files"
      ]
    },
    {
      "cell_type": "code",
      "metadata": {
        "id": "F_sB7EDRXPNA",
        "colab_type": "code",
        "colab": {}
      },
      "source": [
        "artists = read_artists()\n",
        "tracks = read_tracks()\n",
        "tweets = read_tweets()"
      ],
      "execution_count": 0,
      "outputs": []
    },
    {
      "cell_type": "markdown",
      "metadata": {
        "id": "a2i5WLCperZb",
        "colab_type": "text"
      },
      "source": [
        "Exploring the dataset"
      ]
    },
    {
      "cell_type": "code",
      "metadata": {
        "id": "YlzJCt1XYW4S",
        "colab_type": "code",
        "outputId": "dea24e03-60f9-4d8b-df2f-7922b61c699d",
        "colab": {
          "base_uri": "https://localhost:8080/",
          "height": 54
        }
      },
      "source": [
        "print('Tweets numbers')\n",
        "print('# lines: ' + str(tweets.shape[0]))"
      ],
      "execution_count": 13,
      "outputs": [
        {
          "output_type": "stream",
          "text": [
            "Tweets numbers\n",
            "# lines: 1090726\n"
          ],
          "name": "stdout"
        }
      ]
    },
    {
      "cell_type": "code",
      "metadata": {
        "id": "CY77wosAZzOJ",
        "colab_type": "code",
        "outputId": "116bb204-b3e7-41b2-e9d2-fad8c978ac1f",
        "colab": {
          "base_uri": "https://localhost:8080/",
          "height": 35
        }
      },
      "source": [
        "total_users = read_tweets()\n",
        "total_users.drop_duplicates(subset =\"tweet_userId\", \n",
        "                            keep = False,\n",
        "                            inplace = True)\n",
        "print('Total of unique users: ' + str(total_users.shape[0]))"
      ],
      "execution_count": 14,
      "outputs": [
        {
          "output_type": "stream",
          "text": [
            "Total of unique users: 118368\n"
          ],
          "name": "stdout"
        }
      ]
    },
    {
      "cell_type": "code",
      "metadata": {
        "id": "Ad7W-Gihbre5",
        "colab_type": "code",
        "outputId": "ba5b559a-4c28-40fc-94c2-afc498632221",
        "colab": {
          "base_uri": "https://localhost:8080/",
          "height": 35
        }
      },
      "source": [
        "total_tracks = read_tweets()\n",
        "total_tracks.drop_duplicates(subset =\"tweet_trackId\", \n",
        "                             keep = False,\n",
        "                             inplace = True)\n",
        "print('Total of unique songs: ' + str(total_tracks.shape[0]))"
      ],
      "execution_count": 15,
      "outputs": [
        {
          "output_type": "stream",
          "text": [
            "Total of unique songs: 67754\n"
          ],
          "name": "stdout"
        }
      ]
    },
    {
      "cell_type": "markdown",
      "metadata": {
        "id": "4a9vYYwLzCJ-",
        "colab_type": "text"
      },
      "source": [
        "** Popularity model **    \n",
        "Simple analysis with Top 5 songs"
      ]
    },
    {
      "cell_type": "code",
      "metadata": {
        "id": "Jof835sYYNhl",
        "colab_type": "code",
        "outputId": "dc950086-29ce-4f35-c16a-983b30e28daa",
        "colab": {
          "base_uri": "https://localhost:8080/",
          "height": 201
        }
      },
      "source": [
        "pop_model = pop_songs(tweets, tracks, artists)\n",
        "%time pop_model.print_top5()"
      ],
      "execution_count": 16,
      "outputs": [
        {
          "output_type": "stream",
          "text": [
            "-- Top 5 songs --\n",
            "                    track_title artist_name\n",
            "0              Someone Like You       Adele\n",
            "1                      Paradise    Coldplay\n",
            "2  Somebody That I Used to Know       Gotye\n",
            "3          Set Fire to the Rain       Adele\n",
            "4         The One That Got Away  Katy Perry\n",
            "--\n",
            "CPU times: user 300 ms, sys: 9.52 ms, total: 310 ms\n",
            "Wall time: 319 ms\n"
          ],
          "name": "stdout"
        }
      ]
    },
    {
      "cell_type": "markdown",
      "metadata": {
        "id": "_WiL7jiRzP81",
        "colab_type": "text"
      },
      "source": [
        "\n",
        "Get the user id to start the process     "
      ]
    },
    {
      "cell_type": "code",
      "metadata": {
        "id": "5MTLyuezO3hf",
        "colab_type": "code",
        "outputId": "1aa9dcd4-d3b6-4dbc-db71-731c29493313",
        "colab": {
          "base_uri": "https://localhost:8080/",
          "height": 54
        }
      },
      "source": [
        "# example users\n",
        "#   265101134  (14 tweets)\n",
        "#   58937384\t (854 tweets)\n",
        "#   92235951   (75 tweets)\n",
        "#   250253081\t (2 tweets)\n",
        "#\n",
        "# new user\n",
        "#   43254\n",
        "#\n",
        "test_user = 58937384\n",
        "#\n",
        "tot_user_rows = read_tweets()\n",
        "tot_user_rows = tot_user_rows.loc[tot_user_rows['tweet_userId'] == test_user]\n",
        "print('-- User tweets count --')\n",
        "print(str(tot_user_rows.shape[0]))"
      ],
      "execution_count": 17,
      "outputs": [
        {
          "output_type": "stream",
          "text": [
            "-- User tweets count --\n",
            "854\n"
          ],
          "name": "stdout"
        }
      ]
    },
    {
      "cell_type": "markdown",
      "metadata": {
        "id": "zqNj1S83cxTs",
        "colab_type": "text"
      },
      "source": [
        "** Recommendation **  \n",
        "Check the data for the target user"
      ]
    },
    {
      "cell_type": "code",
      "metadata": {
        "id": "nWy2F7MKZsPH",
        "colab_type": "code",
        "colab": {}
      },
      "source": [
        "# All songs tweeted by the target user\n",
        "user_tracks = get_all_tracks_by_user(tweets, test_user)"
      ],
      "execution_count": 0,
      "outputs": []
    },
    {
      "cell_type": "code",
      "metadata": {
        "id": "UTkT7G3jfX1h",
        "colab_type": "code",
        "outputId": "d3d4a30d-df3d-436a-9060-ad9628649505",
        "colab": {
          "base_uri": "https://localhost:8080/",
          "height": 274
        }
      },
      "source": [
        "# It's a new user then recommend the Top Songs\n",
        "if len(user_tracks) == 0:\n",
        "  print('-- Popular song recommendation --')\n",
        "  print(pop_model.top_songs(topn=10))\n",
        "else:\n",
        "# If not a new user then recommend similar songs\n",
        "  sim_song = similar_songs(tweets, tracks, artists, user_tracks)\n",
        "  print('-- Song recommendation --')\n",
        "%time  print(sim_song.recommend(ignore_tracks=user_tracks, ignore_user_id=test_user))"
      ],
      "execution_count": 19,
      "outputs": [
        {
          "output_type": "stream",
          "text": [
            "-- Song recommendation --\n",
            "                    track_title        artist_name\n",
            "0  Somebody That I Used to Know              Gotye\n",
            "1                      Drive By              Train\n",
            "2                        Domino           Jessie J\n",
            "3       We Take Care of Our Own  Bruce Springsteen\n",
            "4                 Charlie Brown           Coldplay\n",
            "5                    Next to Me        Emeli Sande\n",
            "6               My Kind of Love        Emeli Sande\n",
            "7         Silenced by the Night              Keane\n",
            "8             Through the Night        Ren Harvieu\n",
            "9                   Black Heart            Stooshe\n",
            "CPU times: user 5.22 s, sys: 94.3 ms, total: 5.32 s\n",
            "Wall time: 5.32 s\n"
          ],
          "name": "stdout"
        }
      ]
    }
  ]
}